{
 "cells": [
  {
   "cell_type": "markdown",
   "id": "fe1ba26b-b3da-421f-8da3-51b2ea452b35",
   "metadata": {},
   "source": [
    "<a href=\"https://colab.research.google.com/github/duongtrung/Pytorch-tutorials/blob/main/11_AWS_forecast_quick_start_up.ipynb\" target=\"_parent\"><img src=\"https://colab.research.google.com/assets/colab-badge.svg\" alt=\"Open In Colab\"/></a>"
   ]
  },
  {
   "cell_type": "markdown",
   "id": "8cf1166f-af5b-4a22-afec-0d0a3410d90a",
   "metadata": {},
   "source": [
    "## AWS forecast quick start\n",
    "\n",
    "AWS forecast involves the following 3 steps:\n",
    "\n",
    "<img src=\"resources/11-aws-quick-start-forecasting-overview.png\" width=900 alt=\"a aws forecast workflow\"/>"
   ]
  },
  {
   "cell_type": "markdown",
   "id": "41e31627-c3ce-4397-8915-baa991064b6c",
   "metadata": {},
   "source": [
    "Imagine we are trying to solve the forecasting problem for a ride-hailing service and we want to predict how many pick-ups are expected in specific areas of New York. For this exercise, we will use the yellow taxi trip records from [NYC Taxi and Limousine Commission (TLC)](https://www1.nyc.gov/site/tlc/about/tlc-trip-record-data.page).\n",
    "\n",
    "We will start by importing the historical data from December 2017 to January 2019, [link](https://raw.githubusercontent.com/aws-samples/amazon-forecast-samples/main/notebooks/basic/Getting_Started/data/taxi-dec2017-jan2019.csv). Next, we will train a Predictor using this data. Finally, we will generate a forecast for February 2019 and compare it with the actual data from February 2019, [link](https://raw.githubusercontent.com/aws-samples/amazon-forecast-samples/main/notebooks/basic/Getting_Started/data/taxi-feb2019.csv).\n",
    "\n",
    "You need to download the experimental datasets and put them in your data folder."
   ]
  },
  {
   "cell_type": "markdown",
   "id": "8792ff67-ea6f-4c0c-a693-a7b5e2c4b705",
   "metadata": {},
   "source": [
    "### Pre-requisites\n",
    "\n",
    "Before we get started, lets set up the notebook environment, the AWS SDK client for Amazon Forecast and IAM Role used by Amazon Forecast to access your data.\n"
   ]
  },
  {
   "cell_type": "code",
   "execution_count": 1,
   "id": "c48766a5-ae36-4442-9354-b1328ab70c7f",
   "metadata": {},
   "outputs": [],
   "source": [
    "# The following installation commmands are used for anaconda windows 11 64bit\n",
    "# I recommend to create conda env for your experiments\n",
    "# If you use other OS or docker, google how to prepare your machine.\n",
    "\n",
    "# conda install -c conda-forge s3fs\n",
    "# conda install -c anaconda ipywidgets\n",
    "# conda install -c anaconda boto3\n",
    "\n",
    "# https://docs.aws.amazon.com/cli/latest/userguide/getting-started-install.html\n",
    "# https://docs.aws.amazon.com/cli/latest/userguide/getting-started-prereqs.html\n",
    "\n",
    "# aws --version\n",
    "# aws-cli/2.7.33 Python/3.9.11 Windows/10 exe/AMD64 prompt/off"
   ]
  },
  {
   "cell_type": "code",
   "execution_count": 2,
   "id": "03d41c2b-7e87-4e6b-9b97-1807e823003c",
   "metadata": {},
   "outputs": [],
   "source": [
    "import sys\n",
    "import os\n",
    "\n",
    "sys.path.insert( 0, os.path.abspath(\"common-aws-forecast\") )\n",
    "\n",
    "import json\n",
    "import util\n",
    "import boto3\n",
    "import s3fs\n",
    "import pandas as pd"
   ]
  },
  {
   "cell_type": "markdown",
   "id": "67ffcfcd-ca6a-44ee-8d06-dd1434650301",
   "metadata": {},
   "source": [
    "### Create an instance of AWS SDK client"
   ]
  },
  {
   "cell_type": "code",
   "execution_count": 3,
   "id": "404036f9-2838-4871-a997-e55d4d397009",
   "metadata": {},
   "outputs": [],
   "source": [
    "region = 'eu-central-1' # Europe (Frankfurt)\n",
    "session = boto3.Session(region_name=region) \n",
    "forecast = session.client(service_name='forecast')\n",
    "forecastquery = session.client(service_name='forecastquery')\n",
    "\n",
    "# Checking to make sure we can communicate with Amazon Forecast\n",
    "assert forecast.list_predictors()"
   ]
  },
  {
   "cell_type": "markdown",
   "id": "d442e117-b6c7-41e2-8806-b3a58698d20e",
   "metadata": {},
   "source": [
    "### Setup IAM Role used by Amazon Forecast to access your data"
   ]
  },
  {
   "cell_type": "code",
   "execution_count": 4,
   "id": "1b50ae5f-29c8-44fe-8d90-65ff7fe07491",
   "metadata": {},
   "outputs": [
    {
     "name": "stdout",
     "output_type": "stream",
     "text": [
      "Creating Role ForecastNotebookRole-Basic...\n",
      "The role ForecastNotebookRole-Basic already exists, skipping creation\n",
      "Done.\n",
      "Success! Created role = ForecastNotebookRole-Basic\n"
     ]
    }
   ],
   "source": [
    "role_name = \"ForecastNotebookRole-Basic\"\n",
    "print(f\"Creating Role {role_name}...\")\n",
    "role_arn = util.get_or_create_iam_role( role_name = role_name )\n",
    "\n",
    "# echo user inputs without account\n",
    "print(f\"Success! Created role = {role_arn.split('/')[1]}\")"
   ]
  },
  {
   "cell_type": "markdown",
   "id": "6576b588-bc59-4f08-93f4-c5b59b4e759d",
   "metadata": {},
   "source": [
    "## Step 1: Import your data.\n",
    "\n",
    "In this step, we will create a Dataset and Import the December 2017 to January 2019 dataset from S3 to Amazon Forecast. To train a Predictor we will need a DatasetGroup that groups the input Datasets. So, we will end this step by creating a DatasetGroup with the imported Dataset.\n",
    "\n",
    "Peek at the data and upload it to S3.\n",
    "\n",
    "The taxi dataset has the following 3 columns:\n",
    "\n",
    "1. **timestamp**: Timetamp at which pick-ups are requested.\n",
    "2. **item_id**: Pick-up location ID.\n",
    "3. **target_value**: Number of pick-ups requested around the timestamp at the pick-up location."
   ]
  },
  {
   "cell_type": "code",
   "execution_count": 5,
   "id": "e30dc443-68aa-4cfa-b75e-0af3698b13f8",
   "metadata": {},
   "outputs": [
    {
     "data": {
      "text/html": [
       "<div>\n",
       "<style scoped>\n",
       "    .dataframe tbody tr th:only-of-type {\n",
       "        vertical-align: middle;\n",
       "    }\n",
       "\n",
       "    .dataframe tbody tr th {\n",
       "        vertical-align: top;\n",
       "    }\n",
       "\n",
       "    .dataframe thead th {\n",
       "        text-align: right;\n",
       "    }\n",
       "</style>\n",
       "<table border=\"1\" class=\"dataframe\">\n",
       "  <thead>\n",
       "    <tr style=\"text-align: right;\">\n",
       "      <th></th>\n",
       "      <th>timestamp</th>\n",
       "      <th>item_id</th>\n",
       "      <th>target_value</th>\n",
       "    </tr>\n",
       "  </thead>\n",
       "  <tbody>\n",
       "    <tr>\n",
       "      <th>0</th>\n",
       "      <td>2017-12-01 00:00:00</td>\n",
       "      <td>4</td>\n",
       "      <td>27</td>\n",
       "    </tr>\n",
       "    <tr>\n",
       "      <th>1</th>\n",
       "      <td>2017-12-01 00:00:00</td>\n",
       "      <td>7</td>\n",
       "      <td>36</td>\n",
       "    </tr>\n",
       "    <tr>\n",
       "      <th>2</th>\n",
       "      <td>2017-12-01 00:00:00</td>\n",
       "      <td>10</td>\n",
       "      <td>2</td>\n",
       "    </tr>\n",
       "    <tr>\n",
       "      <th>3</th>\n",
       "      <td>2017-12-01 00:00:00</td>\n",
       "      <td>12</td>\n",
       "      <td>1</td>\n",
       "    </tr>\n",
       "    <tr>\n",
       "      <th>4</th>\n",
       "      <td>2017-12-01 00:00:00</td>\n",
       "      <td>13</td>\n",
       "      <td>61</td>\n",
       "    </tr>\n",
       "  </tbody>\n",
       "</table>\n",
       "</div>"
      ],
      "text/plain": [
       "             timestamp item_id target_value\n",
       "0  2017-12-01 00:00:00       4           27\n",
       "1  2017-12-01 00:00:00       7           36\n",
       "2  2017-12-01 00:00:00      10            2\n",
       "3  2017-12-01 00:00:00      12            1\n",
       "4  2017-12-01 00:00:00      13           61"
      ]
     },
     "metadata": {},
     "output_type": "display_data"
    }
   ],
   "source": [
    "key=\"D:/gdrive/aws-taxi/taxi-dec2017-jan2019.csv\"   # replace with your path\n",
    "\n",
    "taxi_df = pd.read_csv(key, dtype = object, names=['timestamp','item_id','target_value']) # note that the column names are not in the data file\n",
    "display(taxi_df.head(5))"
   ]
  },
  {
   "cell_type": "code",
   "execution_count": 6,
   "id": "d89f3c6d-15c5-4f37-8d01-a2764e28616e",
   "metadata": {},
   "outputs": [
    {
     "name": "stdin",
     "output_type": "stream",
     "text": [
      "\n",
      "Enter S3 bucket name for uploading the data and hit ENTER key: aws-nghia-taxi-forecast\n"
     ]
    },
    {
     "name": "stdout",
     "output_type": "stream",
     "text": [
      "\n",
      "Attempting to upload the data to the S3 bucket 'aws-nghia-taxi-forecast' at key 'D:/gdrive/aws-taxi/taxi-dec2017-jan2019.csv' ...\n",
      "\n",
      "Done, the dataset is uploaded to S3 at s3://aws-nghia-taxi-forecast/D:/gdrive/aws-taxi/taxi-dec2017-jan2019.csv.\n"
     ]
    }
   ],
   "source": [
    "bucket_name = input(\"\\nEnter S3 bucket name for uploading the data and hit ENTER key:\")\n",
    "print(f\"\\nAttempting to upload the data to the S3 bucket '{bucket_name}' at key '{key}' ...\")\n",
    "\n",
    "s3 = boto3.Session().resource('s3')\n",
    "bucket = s3.Bucket(bucket_name)\n",
    "if not bucket.creation_date:\n",
    "    if region != \"us-east-1\":\n",
    "        s3.create_bucket(Bucket=bucket_name, CreateBucketConfiguration={'LocationConstraint': region})\n",
    "    else:\n",
    "        s3.create_bucket(Bucket=bucket_name)\n",
    "\n",
    "s3.Bucket(bucket_name).Object(key).upload_file(key)\n",
    "ts_s3_path = f\"s3://{bucket_name}/{key}\"\n",
    "\n",
    "print(f\"\\nDone, the dataset is uploaded to S3 at {ts_s3_path}.\")"
   ]
  },
  {
   "cell_type": "markdown",
   "id": "aa645e06-144e-496b-a566-32584ef55183",
   "metadata": {},
   "source": [
    "#### Creating the dataset"
   ]
  },
  {
   "cell_type": "code",
   "execution_count": 7,
   "id": "79cf293f-a36f-4b1d-b5f1-629017a228f2",
   "metadata": {},
   "outputs": [
    {
     "name": "stdout",
     "output_type": "stream",
     "text": [
      "The Dataset with ARN arn:aws:forecast:eu-central-1:237468633482:dataset/TAXI_TS is now ACTIVE.\n"
     ]
    }
   ],
   "source": [
    "DATASET_FREQUENCY = \"H\" # H for hourly.\n",
    "TS_DATASET_NAME = \"TAXI_TS\"\n",
    "TS_SCHEMA = {\n",
    "   \"Attributes\":[\n",
    "      {\n",
    "         \"AttributeName\":\"timestamp\",\n",
    "         \"AttributeType\":\"timestamp\"\n",
    "      },\n",
    "      {\n",
    "         \"AttributeName\":\"item_id\",\n",
    "         \"AttributeType\":\"string\"\n",
    "      },\n",
    "      {\n",
    "         \"AttributeName\":\"target_value\",\n",
    "         \"AttributeType\":\"integer\"\n",
    "      }\n",
    "   ]\n",
    "}\n",
    "\n",
    "create_dataset_response = forecast.create_dataset(Domain=\"CUSTOM\",\n",
    "                                                  DatasetType='TARGET_TIME_SERIES',\n",
    "                                                  DatasetName=TS_DATASET_NAME,\n",
    "                                                  DataFrequency=DATASET_FREQUENCY,\n",
    "                                                  Schema=TS_SCHEMA)\n",
    "\n",
    "ts_dataset_arn = create_dataset_response['DatasetArn']\n",
    "describe_dataset_response = forecast.describe_dataset(DatasetArn=ts_dataset_arn)\n",
    "\n",
    "print(f\"The Dataset with ARN {ts_dataset_arn} is now {describe_dataset_response['Status']}.\")"
   ]
  },
  {
   "cell_type": "markdown",
   "id": "ba744010-c4ba-428f-b655-dc4ea8a9a121",
   "metadata": {},
   "source": [
    "#### Importing the Dataset"
   ]
  },
  {
   "cell_type": "code",
   "execution_count": 8,
   "id": "7792e345-67fc-4212-961e-2b98cd67ef83",
   "metadata": {},
   "outputs": [
    {
     "name": "stdout",
     "output_type": "stream",
     "text": [
      "Waiting for Dataset Import Job with ARN arn:aws:forecast:eu-central-1:237468633482:dataset-import-job/TAXI_TS/TAXI_TTS_IMPORT to become ACTIVE. This process could take 5-10 minutes.\n",
      "\n",
      "Current Status:\n",
      "CREATE_PENDING .\n",
      "CREATE_IN_PROGRESS ......................................................................................................................................\n",
      "ACTIVE \n",
      "\n",
      "\n",
      "The Dataset Import Job with ARN arn:aws:forecast:eu-central-1:237468633482:dataset-import-job/TAXI_TS/TAXI_TTS_IMPORT is now ACTIVE.\n"
     ]
    }
   ],
   "source": [
    "TIMESTAMP_FORMAT = \"yyyy-MM-dd hh:mm:ss\"\n",
    "TS_IMPORT_JOB_NAME = \"TAXI_TTS_IMPORT\"\n",
    "TIMEZONE = \"EST\"\n",
    "\n",
    "ts_dataset_import_job_response = \\\n",
    "    forecast.create_dataset_import_job(DatasetImportJobName=TS_IMPORT_JOB_NAME,\n",
    "                                       DatasetArn=ts_dataset_arn,\n",
    "                                       DataSource= {\n",
    "                                         \"S3Config\" : {\n",
    "                                             \"Path\": ts_s3_path,\n",
    "                                             \"RoleArn\": role_arn\n",
    "                                         } \n",
    "                                       },\n",
    "                                       TimestampFormat=TIMESTAMP_FORMAT,\n",
    "                                       TimeZone = TIMEZONE)\n",
    "\n",
    "ts_dataset_import_job_arn = ts_dataset_import_job_response['DatasetImportJobArn']\n",
    "describe_dataset_import_job_response = forecast.describe_dataset_import_job(DatasetImportJobArn=ts_dataset_import_job_arn)\n",
    "\n",
    "print(f\"Waiting for Dataset Import Job with ARN {ts_dataset_import_job_arn} to become ACTIVE. This process could take 5-10 minutes.\\n\\nCurrent Status:\")\n",
    "\n",
    "status = util.wait(lambda: forecast.describe_dataset_import_job(DatasetImportJobArn=ts_dataset_import_job_arn))\n",
    "\n",
    "describe_dataset_import_job_response = forecast.describe_dataset_import_job(DatasetImportJobArn=ts_dataset_import_job_arn)\n",
    "print(f\"\\n\\nThe Dataset Import Job with ARN {ts_dataset_import_job_arn} is now {describe_dataset_import_job_response['Status']}.\")"
   ]
  },
  {
   "cell_type": "markdown",
   "id": "e61fb6bf-2c8c-474e-96fc-c49f760c156b",
   "metadata": {},
   "source": [
    "#### Creating a DatasetGroup"
   ]
  },
  {
   "cell_type": "code",
   "execution_count": 9,
   "id": "447bdf65-ad06-424a-bfba-d7fa059c0fc4",
   "metadata": {},
   "outputs": [
    {
     "name": "stdout",
     "output_type": "stream",
     "text": [
      "The DatasetGroup with ARN arn:aws:forecast:eu-central-1:237468633482:dataset-group/TAXI_DEMO is now ACTIVE.\n"
     ]
    }
   ],
   "source": [
    "DATASET_GROUP_NAME = \"TAXI_DEMO\"\n",
    "DATASET_ARNS = [ts_dataset_arn]\n",
    "\n",
    "create_dataset_group_response = \\\n",
    "    forecast.create_dataset_group(Domain=\"CUSTOM\",\n",
    "                                  DatasetGroupName=DATASET_GROUP_NAME,\n",
    "                                  DatasetArns=DATASET_ARNS)\n",
    "\n",
    "dataset_group_arn = create_dataset_group_response['DatasetGroupArn']\n",
    "describe_dataset_group_response = forecast.describe_dataset_group(DatasetGroupArn=dataset_group_arn)\n",
    "\n",
    "print(f\"The DatasetGroup with ARN {dataset_group_arn} is now {describe_dataset_group_response['Status']}.\")"
   ]
  },
  {
   "cell_type": "markdown",
   "id": "87705bb6-cc87-4518-9369-ff6cd15c68bb",
   "metadata": {},
   "source": [
    "## Step 2: Train a predictor\n",
    "\n",
    "In this step, we will create a Predictor using the DatasetGroup that was created above. After creating the predictor, we will review the accuracy obtained through the backtesting process to get a quantitative understanding of the performance of the predictor."
   ]
  },
  {
   "cell_type": "markdown",
   "id": "fc50329c-1a94-49f1-9be3-7945160445e2",
   "metadata": {},
   "source": [
    "### Train a predictor"
   ]
  },
  {
   "cell_type": "code",
   "execution_count": 10,
   "id": "e10e64c1-09f8-4529-88ac-f3f8ff39cf62",
   "metadata": {},
   "outputs": [
    {
     "name": "stdout",
     "output_type": "stream",
     "text": [
      "Waiting for Predictor with ARN arn:aws:forecast:eu-central-1:237468633482:predictor/TAXI_PREDICTOR_01GDFPB5P1R61G81ZZ42KF73G4 to become ACTIVE. Depending on data size and predictor setting，it can take several hours to be ACTIVE.\n",
      "\n",
      "Current Status:\n",
      "CREATE_PENDING .\n",
      "CREATE_IN_PROGRESS ..................................................................................................................................................................................................................................................................................................................................................................................................................................................................................................................................................................................................................................................................................................................................................................................................................................................................................................................................................................................................................................................................................................................................................................................................................................\n",
      "ACTIVE \n",
      "\n",
      "\n",
      "The Predictor with ARN arn:aws:forecast:eu-central-1:237468633482:predictor/TAXI_PREDICTOR_01GDFPB5P1R61G81ZZ42KF73G4 is now ACTIVE.\n"
     ]
    }
   ],
   "source": [
    "PREDICTOR_NAME = \"TAXI_PREDICTOR\"\n",
    "FORECAST_HORIZON = 24\n",
    "FORECAST_FREQUENCY = \"H\"\n",
    "HOLIDAY_DATASET = [{\n",
    "        'Name': 'holiday',\n",
    "        'Configuration': {\n",
    "        'CountryCode': ['US']\n",
    "    }\n",
    "}]\n",
    "\n",
    "create_auto_predictor_response = \\\n",
    "    forecast.create_auto_predictor(PredictorName = PREDICTOR_NAME,\n",
    "                                   ForecastHorizon = FORECAST_HORIZON,\n",
    "                                   ForecastFrequency = FORECAST_FREQUENCY,\n",
    "                                   DataConfig = {\n",
    "                                       'DatasetGroupArn': dataset_group_arn, \n",
    "                                       'AdditionalDatasets': HOLIDAY_DATASET\n",
    "                                    },\n",
    "                                   ExplainPredictor = True)\n",
    "\n",
    "predictor_arn = create_auto_predictor_response['PredictorArn']\n",
    "print(f\"Waiting for Predictor with ARN {predictor_arn} to become ACTIVE. Depending on data size and predictor setting，it can take several hours to be ACTIVE.\\n\\nCurrent Status:\")\n",
    "\n",
    "status = util.wait(lambda: forecast.describe_auto_predictor(PredictorArn=predictor_arn))\n",
    "\n",
    "describe_auto_predictor_response = forecast.describe_auto_predictor(PredictorArn=predictor_arn)\n",
    "print(f\"\\n\\nThe Predictor with ARN {predictor_arn} is now {describe_auto_predictor_response['Status']}.\")"
   ]
  },
  {
   "cell_type": "code",
   "execution_count": 14,
   "id": "83ed5519-8a55-4cdb-9c7b-c6555e962d18",
   "metadata": {},
   "outputs": [],
   "source": [
    "# It took nearly 4 hours to complete"
   ]
  },
  {
   "cell_type": "markdown",
   "id": "d1d3e380-c94a-4c38-acd8-268f4387e7e7",
   "metadata": {},
   "source": [
    "### Review accuracy metrics\n",
    "\n",
    "- **Weighted Quantile Loss (wQL)** metric measures the accuracy of a model at a specified quantile. It is particularly useful when there are different costs for underpredicting and overpredicting.\n",
    "- **Root Mean Square Error (RMSE)** uses the squared value of the residuals, which amplifies the impact of outliers. In use cases where only a few large mispredictions can be very costly, the RMSE is the more relevant metric.\n",
    "- **Weighted Absolute Percentage Error (WAPE)** is more robust to outliers than Root Mean Square Error (RMSE) because it uses the absolute error instead of the squared error.\n",
    "- **Mean Absolute Percentage Error (MAPE)** is useful for cases where values differ significantly between time points and outliers have a significant impact.\n",
    "- **Mean Absolute Scaled Error (MASE)** is ideal for datasets that are cyclical in nature or have seasonal properties."
   ]
  },
  {
   "cell_type": "code",
   "execution_count": 12,
   "id": "318c01c5-254f-49c7-8077-ba0c6fe50ec5",
   "metadata": {},
   "outputs": [
    {
     "name": "stdout",
     "output_type": "stream",
     "text": [
      "Weighted Quantile Loss (wQL): [\n",
      "  {\n",
      "    \"Quantile\": 0.9,\n",
      "    \"LossValue\": 0.06861547079512398\n",
      "  },\n",
      "  {\n",
      "    \"Quantile\": 0.5,\n",
      "    \"LossValue\": 0.1337100895311475\n",
      "  },\n",
      "  {\n",
      "    \"Quantile\": 0.1,\n",
      "    \"LossValue\": 0.06033554390267533\n",
      "  }\n",
      "]\n",
      "\n",
      "\n",
      "Root Mean Square Error (RMSE): 18.878333843324203\n",
      "\n",
      "\n",
      "Weighted Absolute Percentage Error (WAPE): 0.13393068822255347\n",
      "\n",
      "\n",
      "Mean Absolute Percentage Error (MAPE): 0.233374615529503\n",
      "\n",
      "\n",
      "Mean Absolute Scaled Error (MASE): 0.670692468190722\n",
      "\n"
     ]
    }
   ],
   "source": [
    "get_accuracy_metrics_response = forecast.get_accuracy_metrics(PredictorArn=predictor_arn)\n",
    "wql = get_accuracy_metrics_response['PredictorEvaluationResults'][0]['TestWindows'][0]['Metrics']['WeightedQuantileLosses']\n",
    "accuracy_scores = get_accuracy_metrics_response['PredictorEvaluationResults'][0]['TestWindows'][0]['Metrics']['ErrorMetrics'][0]\n",
    "\n",
    "print(f\"Weighted Quantile Loss (wQL): {json.dumps(wql, indent=2)}\\n\\n\")\n",
    "\n",
    "print(f\"Root Mean Square Error (RMSE): {accuracy_scores['RMSE']}\\n\\n\")\n",
    "\n",
    "print(f\"Weighted Absolute Percentage Error (WAPE): {accuracy_scores['WAPE']}\\n\\n\")\n",
    "\n",
    "print(f\"Mean Absolute Percentage Error (MAPE): {accuracy_scores['MAPE']}\\n\\n\")\n",
    "\n",
    "print(f\"Mean Absolute Scaled Error (MASE): {accuracy_scores['MASE']}\\n\")"
   ]
  },
  {
   "cell_type": "markdown",
   "id": "58a13179-bf32-4365-843d-174bb1bd3695",
   "metadata": {},
   "source": [
    "## Step 3: Generate forecasts\n",
    "\n",
    "Finally, we will generate the forecasts using the above predictor. Later in this step we will also compare the forecast with the ground truth for February 1, 2019 to demonstrate actual performance of Amazon Forecast on this dataset.\n"
   ]
  },
  {
   "cell_type": "markdown",
   "id": "6ea6cf43-d230-4f96-90d3-8b537dc12dfc",
   "metadata": {},
   "source": [
    "### Generate forecasts"
   ]
  },
  {
   "cell_type": "code",
   "execution_count": 13,
   "id": "fba5bd79-318d-48f4-be78-9d643a9021d8",
   "metadata": {},
   "outputs": [
    {
     "name": "stdout",
     "output_type": "stream",
     "text": [
      "Waiting for Forecast with ARN arn:aws:forecast:eu-central-1:237468633482:forecast/TAXI_FORECAST to become ACTIVE. Depending on data size and predictor settings，it can take several hours to be ACTIVE.\n",
      "\n",
      "Current Status:\n",
      "CREATE_PENDING \n",
      "CREATE_IN_PROGRESS ............................................................................\n",
      "ACTIVE \n",
      "\n",
      "\n",
      "The Forecast with ARN arn:aws:forecast:eu-central-1:237468633482:forecast/TAXI_FORECAST is now ACTIVE.\n"
     ]
    }
   ],
   "source": [
    "FORECAST_NAME = \"TAXI_FORECAST\"\n",
    "\n",
    "create_forecast_response = \\\n",
    "    forecast.create_forecast(ForecastName=FORECAST_NAME,\n",
    "                             PredictorArn=predictor_arn)\n",
    "\n",
    "forecast_arn = create_forecast_response['ForecastArn']\n",
    "print(f\"Waiting for Forecast with ARN {forecast_arn} to become ACTIVE. Depending on data size and predictor settings，it can take several hours to be ACTIVE.\\n\\nCurrent Status:\")\n",
    "\n",
    "status = util.wait(lambda: forecast.describe_forecast(ForecastArn=forecast_arn))\n",
    "\n",
    "describe_forecast_response = forecast.describe_forecast(ForecastArn=forecast_arn)\n",
    "print(f\"\\n\\nThe Forecast with ARN {forecast_arn} is now {describe_forecast_response['Status']}.\")"
   ]
  },
  {
   "cell_type": "markdown",
   "id": "927c5132-b9f0-4efa-8ffd-e8a39d8a8541",
   "metadata": {},
   "source": [
    "### Load ground truth for pick-up location 48 on February 1, 2019."
   ]
  },
  {
   "cell_type": "code",
   "execution_count": 15,
   "id": "87294327-79a0-4cd1-8cbd-9e75649f54e3",
   "metadata": {},
   "outputs": [],
   "source": [
    "ITEM_ID = \"48\"\n",
    "\n",
    "taxi_feb_df = pd.read_csv(\"D:/gdrive/aws-taxi/taxi-feb2019.csv\", dtype = object, names=['timestamp','item_id','target_value'])\n",
    "taxi_feb_df.target_value = taxi_feb_df.target_value.astype(float)\n",
    "\n",
    "actuals = taxi_feb_df[(taxi_feb_df['item_id'] == ITEM_ID)]"
   ]
  },
  {
   "cell_type": "code",
   "execution_count": 16,
   "id": "95729387-f6b5-4c79-9299-e3bf6f107cb2",
   "metadata": {},
   "outputs": [
    {
     "data": {
      "text/html": [
       "<div>\n",
       "<style scoped>\n",
       "    .dataframe tbody tr th:only-of-type {\n",
       "        vertical-align: middle;\n",
       "    }\n",
       "\n",
       "    .dataframe tbody tr th {\n",
       "        vertical-align: top;\n",
       "    }\n",
       "\n",
       "    .dataframe thead th {\n",
       "        text-align: right;\n",
       "    }\n",
       "</style>\n",
       "<table border=\"1\" class=\"dataframe\">\n",
       "  <thead>\n",
       "    <tr style=\"text-align: right;\">\n",
       "      <th></th>\n",
       "      <th>timestamp</th>\n",
       "      <th>item_id</th>\n",
       "      <th>target_value</th>\n",
       "    </tr>\n",
       "  </thead>\n",
       "  <tbody>\n",
       "    <tr>\n",
       "      <th>17</th>\n",
       "      <td>2019-02-01 00:00:00</td>\n",
       "      <td>48</td>\n",
       "      <td>320.0</td>\n",
       "    </tr>\n",
       "    <tr>\n",
       "      <th>137</th>\n",
       "      <td>2019-02-01 01:00:00</td>\n",
       "      <td>48</td>\n",
       "      <td>207.0</td>\n",
       "    </tr>\n",
       "    <tr>\n",
       "      <th>242</th>\n",
       "      <td>2019-02-01 02:00:00</td>\n",
       "      <td>48</td>\n",
       "      <td>120.0</td>\n",
       "    </tr>\n",
       "    <tr>\n",
       "      <th>338</th>\n",
       "      <td>2019-02-01 03:00:00</td>\n",
       "      <td>48</td>\n",
       "      <td>111.0</td>\n",
       "    </tr>\n",
       "    <tr>\n",
       "      <th>435</th>\n",
       "      <td>2019-02-01 04:00:00</td>\n",
       "      <td>48</td>\n",
       "      <td>124.0</td>\n",
       "    </tr>\n",
       "    <tr>\n",
       "      <th>553</th>\n",
       "      <td>2019-02-01 05:00:00</td>\n",
       "      <td>48</td>\n",
       "      <td>211.0</td>\n",
       "    </tr>\n",
       "    <tr>\n",
       "      <th>706</th>\n",
       "      <td>2019-02-01 06:00:00</td>\n",
       "      <td>48</td>\n",
       "      <td>430.0</td>\n",
       "    </tr>\n",
       "    <tr>\n",
       "      <th>880</th>\n",
       "      <td>2019-02-01 07:00:00</td>\n",
       "      <td>48</td>\n",
       "      <td>565.0</td>\n",
       "    </tr>\n",
       "    <tr>\n",
       "      <th>1060</th>\n",
       "      <td>2019-02-01 08:00:00</td>\n",
       "      <td>48</td>\n",
       "      <td>564.0</td>\n",
       "    </tr>\n",
       "    <tr>\n",
       "      <th>1231</th>\n",
       "      <td>2019-02-01 09:00:00</td>\n",
       "      <td>48</td>\n",
       "      <td>484.0</td>\n",
       "    </tr>\n",
       "    <tr>\n",
       "      <th>1399</th>\n",
       "      <td>2019-02-01 10:00:00</td>\n",
       "      <td>48</td>\n",
       "      <td>388.0</td>\n",
       "    </tr>\n",
       "    <tr>\n",
       "      <th>1546</th>\n",
       "      <td>2019-02-01 11:00:00</td>\n",
       "      <td>48</td>\n",
       "      <td>335.0</td>\n",
       "    </tr>\n",
       "    <tr>\n",
       "      <th>1713</th>\n",
       "      <td>2019-02-01 12:00:00</td>\n",
       "      <td>48</td>\n",
       "      <td>341.0</td>\n",
       "    </tr>\n",
       "    <tr>\n",
       "      <th>1873</th>\n",
       "      <td>2019-02-01 13:00:00</td>\n",
       "      <td>48</td>\n",
       "      <td>291.0</td>\n",
       "    </tr>\n",
       "    <tr>\n",
       "      <th>2049</th>\n",
       "      <td>2019-02-01 14:00:00</td>\n",
       "      <td>48</td>\n",
       "      <td>308.0</td>\n",
       "    </tr>\n",
       "    <tr>\n",
       "      <th>2207</th>\n",
       "      <td>2019-02-01 15:00:00</td>\n",
       "      <td>48</td>\n",
       "      <td>347.0</td>\n",
       "    </tr>\n",
       "    <tr>\n",
       "      <th>2357</th>\n",
       "      <td>2019-02-01 16:00:00</td>\n",
       "      <td>48</td>\n",
       "      <td>340.0</td>\n",
       "    </tr>\n",
       "    <tr>\n",
       "      <th>2511</th>\n",
       "      <td>2019-02-01 17:00:00</td>\n",
       "      <td>48</td>\n",
       "      <td>366.0</td>\n",
       "    </tr>\n",
       "    <tr>\n",
       "      <th>2667</th>\n",
       "      <td>2019-02-01 18:00:00</td>\n",
       "      <td>48</td>\n",
       "      <td>532.0</td>\n",
       "    </tr>\n",
       "    <tr>\n",
       "      <th>2811</th>\n",
       "      <td>2019-02-01 19:00:00</td>\n",
       "      <td>48</td>\n",
       "      <td>545.0</td>\n",
       "    </tr>\n",
       "    <tr>\n",
       "      <th>2939</th>\n",
       "      <td>2019-02-01 20:00:00</td>\n",
       "      <td>48</td>\n",
       "      <td>523.0</td>\n",
       "    </tr>\n",
       "    <tr>\n",
       "      <th>3068</th>\n",
       "      <td>2019-02-01 21:00:00</td>\n",
       "      <td>48</td>\n",
       "      <td>508.0</td>\n",
       "    </tr>\n",
       "    <tr>\n",
       "      <th>3203</th>\n",
       "      <td>2019-02-01 22:00:00</td>\n",
       "      <td>48</td>\n",
       "      <td>821.0</td>\n",
       "    </tr>\n",
       "    <tr>\n",
       "      <th>3328</th>\n",
       "      <td>2019-02-01 23:00:00</td>\n",
       "      <td>48</td>\n",
       "      <td>681.0</td>\n",
       "    </tr>\n",
       "  </tbody>\n",
       "</table>\n",
       "</div>"
      ],
      "text/plain": [
       "                timestamp item_id  target_value\n",
       "17    2019-02-01 00:00:00      48         320.0\n",
       "137   2019-02-01 01:00:00      48         207.0\n",
       "242   2019-02-01 02:00:00      48         120.0\n",
       "338   2019-02-01 03:00:00      48         111.0\n",
       "435   2019-02-01 04:00:00      48         124.0\n",
       "553   2019-02-01 05:00:00      48         211.0\n",
       "706   2019-02-01 06:00:00      48         430.0\n",
       "880   2019-02-01 07:00:00      48         565.0\n",
       "1060  2019-02-01 08:00:00      48         564.0\n",
       "1231  2019-02-01 09:00:00      48         484.0\n",
       "1399  2019-02-01 10:00:00      48         388.0\n",
       "1546  2019-02-01 11:00:00      48         335.0\n",
       "1713  2019-02-01 12:00:00      48         341.0\n",
       "1873  2019-02-01 13:00:00      48         291.0\n",
       "2049  2019-02-01 14:00:00      48         308.0\n",
       "2207  2019-02-01 15:00:00      48         347.0\n",
       "2357  2019-02-01 16:00:00      48         340.0\n",
       "2511  2019-02-01 17:00:00      48         366.0\n",
       "2667  2019-02-01 18:00:00      48         532.0\n",
       "2811  2019-02-01 19:00:00      48         545.0\n",
       "2939  2019-02-01 20:00:00      48         523.0\n",
       "3068  2019-02-01 21:00:00      48         508.0\n",
       "3203  2019-02-01 22:00:00      48         821.0\n",
       "3328  2019-02-01 23:00:00      48         681.0"
      ]
     },
     "execution_count": 16,
     "metadata": {},
     "output_type": "execute_result"
    }
   ],
   "source": [
    "actuals"
   ]
  },
  {
   "cell_type": "markdown",
   "id": "641d1fe5-1f2d-4c20-a911-fa95549218c8",
   "metadata": {},
   "source": [
    "### Query forecasts for pick-up location 48 on February 1, 2019"
   ]
  },
  {
   "cell_type": "code",
   "execution_count": 17,
   "id": "fa5b8971-ea57-4526-8e22-9bfd3e3e4caa",
   "metadata": {},
   "outputs": [],
   "source": [
    "forecast_response = forecastquery.query_forecast(\n",
    "    ForecastArn=forecast_arn,\n",
    "    Filters={\"item_id\": ITEM_ID}\n",
    ")\n",
    "\n",
    "forecasts_p10_df = pd.DataFrame.from_dict(forecast_response['Forecast']['Predictions']['p10'])\n",
    "forecasts_p50_df = pd.DataFrame.from_dict(forecast_response['Forecast']['Predictions']['p50'])\n",
    "forecasts_p90_df = pd.DataFrame.from_dict(forecast_response['Forecast']['Predictions']['p90'])"
   ]
  },
  {
   "cell_type": "code",
   "execution_count": 18,
   "id": "002181d9-13aa-4462-a893-305a35810437",
   "metadata": {},
   "outputs": [
    {
     "data": {
      "text/plain": [
       "(              Timestamp       Value\n",
       " 0   2019-02-01T00:00:00  294.539154\n",
       " 1   2019-02-01T01:00:00  189.757584\n",
       " 2   2019-02-01T02:00:00  119.583557\n",
       " 3   2019-02-01T03:00:00   99.509094\n",
       " 4   2019-02-01T04:00:00  116.425659\n",
       " 5   2019-02-01T05:00:00  204.945709\n",
       " 6   2019-02-01T06:00:00  424.573059\n",
       " 7   2019-02-01T07:00:00  479.363647\n",
       " 8   2019-02-01T08:00:00  442.078918\n",
       " 9   2019-02-01T09:00:00  427.067902\n",
       " 10  2019-02-01T10:00:00  381.145752\n",
       " 11  2019-02-01T11:00:00  335.823608\n",
       " 12  2019-02-01T12:00:00  305.023224\n",
       " 13  2019-02-01T13:00:00  273.564728\n",
       " 14  2019-02-01T14:00:00  272.581787\n",
       " 15  2019-02-01T15:00:00  305.462036\n",
       " 16  2019-02-01T16:00:00  314.594818\n",
       " 17  2019-02-01T17:00:00  383.374146\n",
       " 18  2019-02-01T18:00:00  469.825592\n",
       " 19  2019-02-01T19:00:00  511.554504\n",
       " 20  2019-02-01T20:00:00  469.193237\n",
       " 21  2019-02-01T21:00:00  517.872681\n",
       " 22  2019-02-01T22:00:00  546.792542\n",
       " 23  2019-02-01T23:00:00  522.214172,\n",
       "               Timestamp       Value\n",
       " 0   2019-02-01T00:00:00  365.601807\n",
       " 1   2019-02-01T01:00:00  240.048965\n",
       " 2   2019-02-01T02:00:00  160.922607\n",
       " 3   2019-02-01T03:00:00  130.521179\n",
       " 4   2019-02-01T04:00:00  155.931351\n",
       " 5   2019-02-01T05:00:00  238.565613\n",
       " 6   2019-02-01T06:00:00  490.072357\n",
       " 7   2019-02-01T07:00:00  566.459412\n",
       " 8   2019-02-01T08:00:00  545.992798\n",
       " 9   2019-02-01T09:00:00  497.024506\n",
       " 10  2019-02-01T10:00:00  451.944763\n",
       " 11  2019-02-01T11:00:00  396.606415\n",
       " 12  2019-02-01T12:00:00  358.899200\n",
       " 13  2019-02-01T13:00:00  347.611877\n",
       " 14  2019-02-01T14:00:00  334.155426\n",
       " 15  2019-02-01T15:00:00  354.411957\n",
       " 16  2019-02-01T16:00:00  375.893158\n",
       " 17  2019-02-01T17:00:00  449.239777\n",
       " 18  2019-02-01T18:00:00  589.806213\n",
       " 19  2019-02-01T19:00:00  611.578186\n",
       " 20  2019-02-01T20:00:00  574.613770\n",
       " 21  2019-02-01T21:00:00  635.124634\n",
       " 22  2019-02-01T22:00:00  690.741638\n",
       " 23  2019-02-01T23:00:00  652.183777,\n",
       "               Timestamp       Value\n",
       " 0   2019-02-01T00:00:00  435.005371\n",
       " 1   2019-02-01T01:00:00  316.481262\n",
       " 2   2019-02-01T02:00:00  207.211044\n",
       " 3   2019-02-01T03:00:00  166.449020\n",
       " 4   2019-02-01T04:00:00  195.243103\n",
       " 5   2019-02-01T05:00:00  288.182770\n",
       " 6   2019-02-01T06:00:00  564.103027\n",
       " 7   2019-02-01T07:00:00  635.207886\n",
       " 8   2019-02-01T08:00:00  646.367432\n",
       " 9   2019-02-01T09:00:00  584.030151\n",
       " 10  2019-02-01T10:00:00  516.949158\n",
       " 11  2019-02-01T11:00:00  477.900604\n",
       " 12  2019-02-01T12:00:00  435.415344\n",
       " 13  2019-02-01T13:00:00  401.856903\n",
       " 14  2019-02-01T14:00:00  404.935791\n",
       " 15  2019-02-01T15:00:00  432.689575\n",
       " 16  2019-02-01T16:00:00  454.577271\n",
       " 17  2019-02-01T17:00:00  515.857971\n",
       " 18  2019-02-01T18:00:00  701.407166\n",
       " 19  2019-02-01T19:00:00  741.129883\n",
       " 20  2019-02-01T20:00:00  658.411072\n",
       " 21  2019-02-01T21:00:00  751.030334\n",
       " 22  2019-02-01T22:00:00  864.450439\n",
       " 23  2019-02-01T23:00:00  793.797974)"
      ]
     },
     "execution_count": 18,
     "metadata": {},
     "output_type": "execute_result"
    }
   ],
   "source": [
    "forecasts_p10_df, forecasts_p50_df, forecasts_p90_df"
   ]
  },
  {
   "cell_type": "markdown",
   "id": "de786bea-43b0-4b45-a1c7-dc633214e53c",
   "metadata": {},
   "source": [
    "### Compare the forecasts with ground truth"
   ]
  },
  {
   "cell_type": "code",
   "execution_count": 28,
   "id": "72ae02ac-4792-496b-80af-cc24ad9f802d",
   "metadata": {},
   "outputs": [],
   "source": [
    "# conda install -c conda-forge python-dateutil\n",
    "import dateutil as dateutil"
   ]
  },
  {
   "cell_type": "code",
   "execution_count": 27,
   "id": "79dbfb79-46a9-4a6f-bf5a-ec6be66f09b0",
   "metadata": {},
   "outputs": [
    {
     "data": {
      "text/plain": [
       "<AxesSubplot:xlabel='timestamp'>"
      ]
     },
     "execution_count": 27,
     "metadata": {},
     "output_type": "execute_result"
    },
    {
     "data": {
      "image/png": "[encoded data removed]",
      "text/plain": [
       "<Figure size 1500x700 with 1 Axes>"
      ]
     },
     "metadata": {},
     "output_type": "display_data"
    }
   ],
   "source": [
    "results_df = pd.DataFrame(columns=['timestamp', 'value', 'source'])\n",
    "\n",
    "for index, row in actuals.iterrows():\n",
    "    clean_timestamp = dateutil.parser.parse(row['timestamp'])\n",
    "    results_df = results_df.append({'timestamp' : clean_timestamp , 'value' : row['target_value'], 'source': 'actual'} , ignore_index=True)\n",
    "for index, row in forecasts_p10_df.iterrows():\n",
    "    clean_timestamp = dateutil.parser.parse(row['Timestamp'])\n",
    "    results_df = results_df.append({'timestamp' : clean_timestamp , 'value' : row['Value'], 'source': 'p10'} , ignore_index=True)\n",
    "for index, row in forecasts_p50_df.iterrows():\n",
    "    clean_timestamp = dateutil.parser.parse(row['Timestamp'])\n",
    "    results_df = results_df.append({'timestamp' : clean_timestamp , 'value' : row['Value'], 'source': 'p50'} , ignore_index=True)\n",
    "for index, row in forecasts_p90_df.iterrows():\n",
    "    clean_timestamp = dateutil.parser.parse(row['Timestamp'])\n",
    "    results_df = results_df.append({'timestamp' : clean_timestamp , 'value' : row['Value'], 'source': 'p90'} , ignore_index=True)\n",
    "\n",
    "pivot_df = results_df.pivot(columns='source', values='value', index=\"timestamp\")\n",
    "\n",
    "pivot_df.plot(figsize=(15, 7))"
   ]
  },
  {
   "cell_type": "markdown",
   "id": "d742ed7f-f2b4-4105-879c-76942523e12c",
   "metadata": {},
   "source": [
    "### Clean-up\n",
    "\n",
    "Uncomment the code section to delete all resources that were created in this notebook."
   ]
  },
  {
   "cell_type": "code",
   "execution_count": 31,
   "id": "178465b4-f03e-4774-9279-e5521d3d1c09",
   "metadata": {},
   "outputs": [
    {
     "data": {
      "text/plain": [
       "{'ResponseMetadata': {'RequestId': '97eca686-6fe5-44a8-a609-24b7b4516a09',\n",
       "  'HTTPStatusCode': 200,\n",
       "  'HTTPHeaders': {'content-type': 'application/x-amz-json-1.1',\n",
       "   'date': 'Wed, 21 Sep 2022 13:38:59 GMT',\n",
       "   'x-amzn-requestid': '97eca686-6fe5-44a8-a609-24b7b4516a09',\n",
       "   'content-length': '0',\n",
       "   'connection': 'keep-alive'},\n",
       "  'RetryAttempts': 0}}"
      ]
     },
     "execution_count": 31,
     "metadata": {},
     "output_type": "execute_result"
    }
   ],
   "source": [
    "#forecast.delete_resource_tree(ResourceArn = dataset_group_arn)\n",
    "#forecast.delete_resource_tree(ResourceArn = ts_dataset_arn)"
   ]
  },
  {
   "cell_type": "code",
   "execution_count": null,
   "id": "ed33acc7-d297-423b-a21d-6a569ff36f5c",
   "metadata": {},
   "outputs": [],
   "source": []
  }
 ],
 "metadata": {
  "kernelspec": {
   "display_name": "Python 3 (ipykernel)",
   "language": "python",
   "name": "python3"
  },
  "language_info": {
   "codemirror_mode": {
    "name": "ipython",
    "version": 3
   },
   "file_extension": ".py",
   "mimetype": "text/x-python",
   "name": "python",
   "nbconvert_exporter": "python",
   "pygments_lexer": "ipython3",
   "version": "3.9.13"
  }
 },
 "nbformat": 4,
 "nbformat_minor": 5
}
