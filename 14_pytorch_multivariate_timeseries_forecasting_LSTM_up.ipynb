{
 "cells": [
  {
   "cell_type": "markdown",
   "id": "defc6f7b-a405-476d-8da8-e4c6f4ad6134",
   "metadata": {},
   "source": [
    "<a href=\"https://colab.research.google.com/github/duongtrung/Pytorch-tutorials/blob/main/14_pytorch_multivariate_timeseries_forecasting_LSTM_up.ipynb\" target=\"_parent\"><img src=\"https://colab.research.google.com/assets/colab-badge.svg\" alt=\"Open In Colab\"/></a> "
   ]
  },
  {
   "cell_type": "code",
   "execution_count": 92,
   "id": "739cf485-e70d-4042-b4f6-96c850e875d1",
   "metadata": {},
   "outputs": [],
   "source": [
    "# dataset: https://finance.yahoo.com/quote/GE/history/\n",
    "# select Max in the Time Period if you want to get all datasets until your current date"
   ]
  },
  {
   "cell_type": "code",
   "execution_count": 55,
   "id": "e10d55df-8396-4b70-bd22-c4f6404ca120",
   "metadata": {},
   "outputs": [],
   "source": [
    "import numpy as np\n",
    "import pandas as pd\n",
    "from matplotlib import pyplot as plt\n",
    "from sklearn.preprocessing import StandardScaler\n",
    "import seaborn as sns"
   ]
  },
  {
   "cell_type": "code",
   "execution_count": 70,
   "id": "dd3d8dbe-a36b-46c5-9351-348c984c07a3",
   "metadata": {},
   "outputs": [],
   "source": [
    "df = pd.read_csv(\"data/GE-3months.csv\")"
   ]
  },
  {
   "cell_type": "code",
   "execution_count": 71,
   "id": "55b20bc3-2485-4421-af9e-4ef3e7962f7a",
   "metadata": {},
   "outputs": [
    {
     "data": {
      "text/html": [
       "<div>\n",
       "<style scoped>\n",
       "    .dataframe tbody tr th:only-of-type {\n",
       "        vertical-align: middle;\n",
       "    }\n",
       "\n",
       "    .dataframe tbody tr th {\n",
       "        vertical-align: top;\n",
       "    }\n",
       "\n",
       "    .dataframe thead th {\n",
       "        text-align: right;\n",
       "    }\n",
       "</style>\n",
       "<table border=\"1\" class=\"dataframe\">\n",
       "  <thead>\n",
       "    <tr style=\"text-align: right;\">\n",
       "      <th></th>\n",
       "      <th>Date</th>\n",
       "      <th>Open</th>\n",
       "      <th>High</th>\n",
       "      <th>Low</th>\n",
       "      <th>Close</th>\n",
       "      <th>Adj Close</th>\n",
       "      <th>Volume</th>\n",
       "    </tr>\n",
       "  </thead>\n",
       "  <tbody>\n",
       "    <tr>\n",
       "      <th>0</th>\n",
       "      <td>2021-10-27</td>\n",
       "      <td>107.879997</td>\n",
       "      <td>108.279999</td>\n",
       "      <td>103.690002</td>\n",
       "      <td>103.849998</td>\n",
       "      <td>103.414063</td>\n",
       "      <td>8984300</td>\n",
       "    </tr>\n",
       "    <tr>\n",
       "      <th>1</th>\n",
       "      <td>2021-10-28</td>\n",
       "      <td>103.389999</td>\n",
       "      <td>105.379997</td>\n",
       "      <td>103.099998</td>\n",
       "      <td>105.260002</td>\n",
       "      <td>104.818161</td>\n",
       "      <td>5910800</td>\n",
       "    </tr>\n",
       "    <tr>\n",
       "      <th>2</th>\n",
       "      <td>2021-10-29</td>\n",
       "      <td>104.949997</td>\n",
       "      <td>105.239998</td>\n",
       "      <td>104.120003</td>\n",
       "      <td>104.870003</td>\n",
       "      <td>104.429794</td>\n",
       "      <td>5618700</td>\n",
       "    </tr>\n",
       "    <tr>\n",
       "      <th>3</th>\n",
       "      <td>2021-11-01</td>\n",
       "      <td>105.760002</td>\n",
       "      <td>106.769997</td>\n",
       "      <td>105.279999</td>\n",
       "      <td>106.230003</td>\n",
       "      <td>105.784088</td>\n",
       "      <td>4887100</td>\n",
       "    </tr>\n",
       "    <tr>\n",
       "      <th>4</th>\n",
       "      <td>2021-11-02</td>\n",
       "      <td>106.339996</td>\n",
       "      <td>107.139999</td>\n",
       "      <td>105.300003</td>\n",
       "      <td>106.690002</td>\n",
       "      <td>106.242149</td>\n",
       "      <td>4480800</td>\n",
       "    </tr>\n",
       "  </tbody>\n",
       "</table>\n",
       "</div>"
      ],
      "text/plain": [
       "         Date        Open        High         Low       Close   Adj Close  \\\n",
       "0  2021-10-27  107.879997  108.279999  103.690002  103.849998  103.414063   \n",
       "1  2021-10-28  103.389999  105.379997  103.099998  105.260002  104.818161   \n",
       "2  2021-10-29  104.949997  105.239998  104.120003  104.870003  104.429794   \n",
       "3  2021-11-01  105.760002  106.769997  105.279999  106.230003  105.784088   \n",
       "4  2021-11-02  106.339996  107.139999  105.300003  106.690002  106.242149   \n",
       "\n",
       "    Volume  \n",
       "0  8984300  \n",
       "1  5910800  \n",
       "2  5618700  \n",
       "3  4887100  \n",
       "4  4480800  "
      ]
     },
     "execution_count": 71,
     "metadata": {},
     "output_type": "execute_result"
    }
   ],
   "source": [
    "df.head(5)"
   ]
  },
  {
   "cell_type": "code",
   "execution_count": 72,
   "id": "88f2e46f-cb1a-404a-ba40-65d5655e046c",
   "metadata": {},
   "outputs": [
    {
     "data": {
      "text/html": [
       "<div>\n",
       "<style scoped>\n",
       "    .dataframe tbody tr th:only-of-type {\n",
       "        vertical-align: middle;\n",
       "    }\n",
       "\n",
       "    .dataframe tbody tr th {\n",
       "        vertical-align: top;\n",
       "    }\n",
       "\n",
       "    .dataframe thead th {\n",
       "        text-align: right;\n",
       "    }\n",
       "</style>\n",
       "<table border=\"1\" class=\"dataframe\">\n",
       "  <thead>\n",
       "    <tr style=\"text-align: right;\">\n",
       "      <th></th>\n",
       "      <th>Open</th>\n",
       "      <th>High</th>\n",
       "      <th>Low</th>\n",
       "      <th>Close</th>\n",
       "      <th>Adj Close</th>\n",
       "      <th>Volume</th>\n",
       "    </tr>\n",
       "  </thead>\n",
       "  <tbody>\n",
       "    <tr>\n",
       "      <th>count</th>\n",
       "      <td>252.000000</td>\n",
       "      <td>252.000000</td>\n",
       "      <td>252.000000</td>\n",
       "      <td>252.000000</td>\n",
       "      <td>252.000000</td>\n",
       "      <td>2.520000e+02</td>\n",
       "    </tr>\n",
       "    <tr>\n",
       "      <th>mean</th>\n",
       "      <td>83.730675</td>\n",
       "      <td>84.845635</td>\n",
       "      <td>82.511746</td>\n",
       "      <td>83.657143</td>\n",
       "      <td>83.445877</td>\n",
       "      <td>6.696986e+06</td>\n",
       "    </tr>\n",
       "    <tr>\n",
       "      <th>std</th>\n",
       "      <td>13.882652</td>\n",
       "      <td>13.905495</td>\n",
       "      <td>13.732063</td>\n",
       "      <td>13.747321</td>\n",
       "      <td>13.627205</td>\n",
       "      <td>2.945638e+06</td>\n",
       "    </tr>\n",
       "    <tr>\n",
       "      <th>min</th>\n",
       "      <td>61.000000</td>\n",
       "      <td>61.160000</td>\n",
       "      <td>59.930000</td>\n",
       "      <td>61.090000</td>\n",
       "      <td>61.014286</td>\n",
       "      <td>3.269000e+06</td>\n",
       "    </tr>\n",
       "    <tr>\n",
       "      <th>25%</th>\n",
       "      <td>72.885000</td>\n",
       "      <td>73.830000</td>\n",
       "      <td>71.139999</td>\n",
       "      <td>72.725000</td>\n",
       "      <td>72.679544</td>\n",
       "      <td>4.980125e+06</td>\n",
       "    </tr>\n",
       "    <tr>\n",
       "      <th>50%</th>\n",
       "      <td>80.029999</td>\n",
       "      <td>81.525002</td>\n",
       "      <td>79.110000</td>\n",
       "      <td>80.509998</td>\n",
       "      <td>80.314315</td>\n",
       "      <td>6.147600e+06</td>\n",
       "    </tr>\n",
       "    <tr>\n",
       "      <th>75%</th>\n",
       "      <td>94.945001</td>\n",
       "      <td>96.064999</td>\n",
       "      <td>93.650002</td>\n",
       "      <td>94.922501</td>\n",
       "      <td>94.610777</td>\n",
       "      <td>7.606150e+06</td>\n",
       "    </tr>\n",
       "    <tr>\n",
       "      <th>max</th>\n",
       "      <td>114.730003</td>\n",
       "      <td>116.169998</td>\n",
       "      <td>110.480003</td>\n",
       "      <td>111.290001</td>\n",
       "      <td>110.822838</td>\n",
       "      <td>2.875490e+07</td>\n",
       "    </tr>\n",
       "  </tbody>\n",
       "</table>\n",
       "</div>"
      ],
      "text/plain": [
       "             Open        High         Low       Close   Adj Close  \\\n",
       "count  252.000000  252.000000  252.000000  252.000000  252.000000   \n",
       "mean    83.730675   84.845635   82.511746   83.657143   83.445877   \n",
       "std     13.882652   13.905495   13.732063   13.747321   13.627205   \n",
       "min     61.000000   61.160000   59.930000   61.090000   61.014286   \n",
       "25%     72.885000   73.830000   71.139999   72.725000   72.679544   \n",
       "50%     80.029999   81.525002   79.110000   80.509998   80.314315   \n",
       "75%     94.945001   96.064999   93.650002   94.922501   94.610777   \n",
       "max    114.730003  116.169998  110.480003  111.290001  110.822838   \n",
       "\n",
       "             Volume  \n",
       "count  2.520000e+02  \n",
       "mean   6.696986e+06  \n",
       "std    2.945638e+06  \n",
       "min    3.269000e+06  \n",
       "25%    4.980125e+06  \n",
       "50%    6.147600e+06  \n",
       "75%    7.606150e+06  \n",
       "max    2.875490e+07  "
      ]
     },
     "execution_count": 72,
     "metadata": {},
     "output_type": "execute_result"
    }
   ],
   "source": [
    "df.describe()"
   ]
  },
  {
   "cell_type": "code",
   "execution_count": 73,
   "id": "c6317a75-32b8-477d-b801-30942fea501d",
   "metadata": {},
   "outputs": [
    {
     "name": "stdout",
     "output_type": "stream",
     "text": [
      "<class 'pandas.core.frame.DataFrame'>\n",
      "RangeIndex: 252 entries, 0 to 251\n",
      "Data columns (total 7 columns):\n",
      " #   Column     Non-Null Count  Dtype  \n",
      "---  ------     --------------  -----  \n",
      " 0   Date       252 non-null    object \n",
      " 1   Open       252 non-null    float64\n",
      " 2   High       252 non-null    float64\n",
      " 3   Low        252 non-null    float64\n",
      " 4   Close      252 non-null    float64\n",
      " 5   Adj Close  252 non-null    float64\n",
      " 6   Volume     252 non-null    int64  \n",
      "dtypes: float64(5), int64(1), object(1)\n",
      "memory usage: 13.9+ KB\n"
     ]
    }
   ],
   "source": [
    "df.info()"
   ]
  },
  {
   "cell_type": "code",
   "execution_count": 74,
   "id": "ae27c4f0-b064-4c5e-b1a7-2246a092410a",
   "metadata": {},
   "outputs": [],
   "source": [
    "# separate dates for future plotting\n",
    "train_dates = pd.to_datetime(df['Date'])"
   ]
  },
  {
   "cell_type": "code",
   "execution_count": 75,
   "id": "cf80e2d3-7a80-4369-a08c-f0fc25964594",
   "metadata": {},
   "outputs": [
    {
     "data": {
      "text/plain": [
       "0   2021-10-27\n",
       "1   2021-10-28\n",
       "2   2021-10-29\n",
       "3   2021-11-01\n",
       "4   2021-11-02\n",
       "Name: Date, dtype: datetime64[ns]"
      ]
     },
     "execution_count": 75,
     "metadata": {},
     "output_type": "execute_result"
    }
   ],
   "source": [
    "train_dates.head(5)"
   ]
  },
  {
   "cell_type": "code",
   "execution_count": 76,
   "id": "f2907ac7-5064-40ca-be57-56da07086825",
   "metadata": {},
   "outputs": [],
   "source": [
    "# variables for training\n",
    "cols = list(df)[1:6] # ['Open', 'High', 'Low', 'Close', 'Adj Close']"
   ]
  },
  {
   "cell_type": "code",
   "execution_count": 77,
   "id": "4b067cdc-63eb-4d35-abf2-066b70caf673",
   "metadata": {},
   "outputs": [],
   "source": [
    "df_for_training = df[cols].astype(float)"
   ]
  },
  {
   "cell_type": "code",
   "execution_count": 78,
   "id": "f7463ece-ec86-4e1d-8145-d2b0fd6d9dc5",
   "metadata": {},
   "outputs": [
    {
     "data": {
      "text/plain": [
       "<AxesSubplot:>"
      ]
     },
     "execution_count": 78,
     "metadata": {},
     "output_type": "execute_result"
    },
    {
     "data": {
      "image/png": "[encoded data removed]",
      "text/plain": [
       "<Figure size 640x480 with 1 Axes>"
      ]
     },
     "metadata": {},
     "output_type": "display_data"
    }
   ],
   "source": [
    "df_for_training.plot.line()"
   ]
  },
  {
   "cell_type": "code",
   "execution_count": 79,
   "id": "816cc976-137f-4285-ad30-fe85191bff3a",
   "metadata": {},
   "outputs": [],
   "source": [
    "scaler = StandardScaler()\n",
    "scaler = scaler.fit(df_for_training)\n",
    "df_for_training_scaled = scaler.transform(df_for_training)"
   ]
  },
  {
   "cell_type": "code",
   "execution_count": 80,
   "id": "35ef1c85-5430-41af-8996-01d0623bcbfc",
   "metadata": {},
   "outputs": [
    {
     "data": {
      "text/plain": [
       "(252, 5)"
      ]
     },
     "execution_count": 80,
     "metadata": {},
     "output_type": "execute_result"
    }
   ],
   "source": [
    "df_for_training_scaled.shape"
   ]
  },
  {
   "cell_type": "code",
   "execution_count": 87,
   "id": "f1997fe2-e2f8-4304-9452-c15d79675826",
   "metadata": {},
   "outputs": [],
   "source": [
    "np.savetxt(\"data/GE_3months_scaled.csv\", df_for_training_scaled, delimiter=',')"
   ]
  },
  {
   "cell_type": "code",
   "execution_count": 93,
   "id": "3c61249c-09ef-4066-9920-171f606fff1a",
   "metadata": {},
   "outputs": [],
   "source": [
    "#As required for LSTM networks, we require to reshape an input data into n_samples x timesteps x n_features. \n",
    "#In this example, the n_features is 5. We will make timesteps = 14 (past days data used for training). \n",
    "\n",
    "n_future = 2 # the th point in the future\n",
    "n_past = 7"
   ]
  },
  {
   "cell_type": "code",
   "execution_count": 94,
   "id": "3ed179cb-0136-41a4-88b3-7421f7d3a784",
   "metadata": {},
   "outputs": [],
   "source": [
    "#Empty lists to be populated using formatted training data\n",
    "trainX = []\n",
    "trainY = []"
   ]
  },
  {
   "cell_type": "code",
   "execution_count": 95,
   "id": "1787270e-3c68-4fb6-bea5-c7e96888c530",
   "metadata": {},
   "outputs": [
    {
     "name": "stdout",
     "output_type": "stream",
     "text": [
      "trainX shape == (244, 7, 5).\n",
      "trainY shape == (244, 1).\n"
     ]
    }
   ],
   "source": [
    "for i in range(n_past, len(df_for_training_scaled) - n_future +1):\n",
    "    trainX.append(df_for_training_scaled[i - n_past:i, 0:df_for_training.shape[1]])\n",
    "    trainY.append(df_for_training_scaled[i + n_future - 1:i + n_future, 0])\n",
    "\n",
    "trainX, trainY = np.array(trainX), np.array(trainY)\n",
    "\n",
    "print('trainX shape == {}.'.format(trainX.shape))\n",
    "print('trainY shape == {}.'.format(trainY.shape))"
   ]
  },
  {
   "cell_type": "code",
   "execution_count": 96,
   "id": "07743e79-d593-485d-9597-93a92c24ad8a",
   "metadata": {},
   "outputs": [
    {
     "data": {
      "text/plain": [
       "(array([[1.74299417, 1.68861294, 1.54531784, 1.4717806 , 1.46823382],\n",
       "        [1.41892543, 1.47964713, 1.50226691, 1.57455044, 1.57147526],\n",
       "        [1.53151938, 1.4695592 , 1.57669381, 1.54612489, 1.54291916],\n",
       "        [1.58998205, 1.57980654, 1.66133546, 1.64525013, 1.64249857],\n",
       "        [1.63184352, 1.60646782, 1.66279509, 1.67877771, 1.67617918],\n",
       "        [1.61885247, 1.5488219 , 1.62777062, 1.62629957, 1.6234606 ],\n",
       "        [1.59792145, 1.55314576, 1.58909808, 1.57090591, 1.56781375]]),\n",
       " array([1.85270159]))"
      ]
     },
     "execution_count": 96,
     "metadata": {},
     "output_type": "execute_result"
    }
   ],
   "source": [
    "trainX[0], trainY[0]"
   ]
  },
  {
   "cell_type": "code",
   "execution_count": 97,
   "id": "5539dc5f-fef3-46f0-9f45-5690d47394ef",
   "metadata": {},
   "outputs": [
    {
     "data": {
      "text/plain": [
       "(array([[1.41892543, 1.47964713, 1.50226691, 1.57455044, 1.57147526],\n",
       "        [1.53151938, 1.4695592 , 1.57669381, 1.54612489, 1.54291916],\n",
       "        [1.58998205, 1.57980654, 1.66133546, 1.64525013, 1.64249857],\n",
       "        [1.63184352, 1.60646782, 1.66279509, 1.67877771, 1.67617918],\n",
       "        [1.61885247, 1.5488219 , 1.62777062, 1.62629957, 1.6234606 ],\n",
       "        [1.59792145, 1.55314576, 1.58909808, 1.57090591, 1.56781375],\n",
       "        [1.67442747, 1.78733142, 1.77589387, 1.82819414, 1.82627983]]),\n",
       " array([2.23739812]))"
      ]
     },
     "execution_count": 97,
     "metadata": {},
     "output_type": "execute_result"
    }
   ],
   "source": [
    "trainX[1], trainY[1]"
   ]
  },
  {
   "cell_type": "code",
   "execution_count": 98,
   "id": "c8bddc7e-a9e6-4357-9f8c-9310ceaf0763",
   "metadata": {},
   "outputs": [
    {
     "data": {
      "text/plain": [
       "(array([[1.53151938, 1.4695592 , 1.57669381, 1.54612489, 1.54291916],\n",
       "        [1.58998205, 1.57980654, 1.66133546, 1.64525013, 1.64249857],\n",
       "        [1.63184352, 1.60646782, 1.66279509, 1.67877771, 1.67617918],\n",
       "        [1.61885247, 1.5488219 , 1.62777062, 1.62629957, 1.6234606 ],\n",
       "        [1.59792145, 1.55314576, 1.58909808, 1.57090591, 1.56781375],\n",
       "        [1.67442747, 1.78733142, 1.77589387, 1.82819414, 1.82627983],\n",
       "        [1.85270159, 1.83488884, 1.88315579, 1.80487056, 1.80284941]]),\n",
       " array([2.0764461]))"
      ]
     },
     "execution_count": 98,
     "metadata": {},
     "output_type": "execute_result"
    }
   ],
   "source": [
    "trainX[2], trainY[2]"
   ]
  },
  {
   "cell_type": "code",
   "execution_count": null,
   "id": "c0432e5f-e1fa-46e4-8f78-712844d8b050",
   "metadata": {},
   "outputs": [],
   "source": []
  }
 ],
 "metadata": {
  "kernelspec": {
   "display_name": "Python 3 (ipykernel)",
   "language": "python",
   "name": "python3"
  },
  "language_info": {
   "codemirror_mode": {
    "name": "ipython",
    "version": 3
   },
   "file_extension": ".py",
   "mimetype": "text/x-python",
   "name": "python",
   "nbconvert_exporter": "python",
   "pygments_lexer": "ipython3",
   "version": "3.9.13"
  }
 },
 "nbformat": 4,
 "nbformat_minor": 5
}
