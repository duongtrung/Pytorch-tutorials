{
 "cells": [
  {
   "cell_type": "markdown",
   "id": "defc6f7b-a405-476d-8da8-e4c6f4ad6134",
   "metadata": {},
   "source": [
    "<a href=\"https://colab.research.google.com/github/duongtrung/Pytorch-tutorials/blob/main/14_pytorch_multivariate_timeseries_forecasting_LSTM_up.ipynb\" target=\"_parent\"><img src=\"https://colab.research.google.com/assets/colab-badge.svg\" alt=\"Open In Colab\"/></a> "
   ]
  },
  {
   "cell_type": "code",
   "execution_count": 1,
   "id": "739cf485-e70d-4042-b4f6-96c850e875d1",
   "metadata": {},
   "outputs": [],
   "source": [
    "# dataset: https://finance.yahoo.com/quote/GE/history/\n",
    "# I select Max in the Time Period"
   ]
  },
  {
   "cell_type": "code",
   "execution_count": 8,
   "id": "e10d55df-8396-4b70-bd22-c4f6404ca120",
   "metadata": {},
   "outputs": [],
   "source": [
    "import numpy as np\n",
    "import pandas as pd\n",
    "from matplotlib import pyplot as plt\n",
    "from sklearn.preprocessing import StandardScaler\n",
    "import seaborn as sns"
   ]
  },
  {
   "cell_type": "code",
   "execution_count": 9,
   "id": "dd3d8dbe-a36b-46c5-9351-348c984c07a3",
   "metadata": {},
   "outputs": [],
   "source": [
    "df = pd.read_csv(\"data/GE.csv\")"
   ]
  },
  {
   "cell_type": "code",
   "execution_count": 10,
   "id": "55b20bc3-2485-4421-af9e-4ef3e7962f7a",
   "metadata": {},
   "outputs": [
    {
     "data": {
      "text/html": [
       "<div>\n",
       "<style scoped>\n",
       "    .dataframe tbody tr th:only-of-type {\n",
       "        vertical-align: middle;\n",
       "    }\n",
       "\n",
       "    .dataframe tbody tr th {\n",
       "        vertical-align: top;\n",
       "    }\n",
       "\n",
       "    .dataframe thead th {\n",
       "        text-align: right;\n",
       "    }\n",
       "</style>\n",
       "<table border=\"1\" class=\"dataframe\">\n",
       "  <thead>\n",
       "    <tr style=\"text-align: right;\">\n",
       "      <th></th>\n",
       "      <th>Date</th>\n",
       "      <th>Open</th>\n",
       "      <th>High</th>\n",
       "      <th>Low</th>\n",
       "      <th>Close</th>\n",
       "      <th>Adj Close</th>\n",
       "      <th>Volume</th>\n",
       "    </tr>\n",
       "  </thead>\n",
       "  <tbody>\n",
       "    <tr>\n",
       "      <th>0</th>\n",
       "      <td>1962-01-02</td>\n",
       "      <td>6.009615</td>\n",
       "      <td>6.109776</td>\n",
       "      <td>5.949519</td>\n",
       "      <td>5.989583</td>\n",
       "      <td>1.008423</td>\n",
       "      <td>269568</td>\n",
       "    </tr>\n",
       "    <tr>\n",
       "      <th>1</th>\n",
       "      <td>1962-01-03</td>\n",
       "      <td>5.959535</td>\n",
       "      <td>5.959535</td>\n",
       "      <td>5.909455</td>\n",
       "      <td>5.929487</td>\n",
       "      <td>0.998304</td>\n",
       "      <td>184704</td>\n",
       "    </tr>\n",
       "    <tr>\n",
       "      <th>2</th>\n",
       "      <td>1962-01-04</td>\n",
       "      <td>5.929487</td>\n",
       "      <td>5.979567</td>\n",
       "      <td>5.809295</td>\n",
       "      <td>5.859375</td>\n",
       "      <td>0.986500</td>\n",
       "      <td>229632</td>\n",
       "    </tr>\n",
       "    <tr>\n",
       "      <th>3</th>\n",
       "      <td>1962-01-05</td>\n",
       "      <td>5.859375</td>\n",
       "      <td>5.869391</td>\n",
       "      <td>5.608974</td>\n",
       "      <td>5.709135</td>\n",
       "      <td>0.961206</td>\n",
       "      <td>340704</td>\n",
       "    </tr>\n",
       "    <tr>\n",
       "      <th>4</th>\n",
       "      <td>1962-01-08</td>\n",
       "      <td>5.709135</td>\n",
       "      <td>5.709135</td>\n",
       "      <td>5.528846</td>\n",
       "      <td>5.699119</td>\n",
       "      <td>0.959519</td>\n",
       "      <td>386880</td>\n",
       "    </tr>\n",
       "  </tbody>\n",
       "</table>\n",
       "</div>"
      ],
      "text/plain": [
       "         Date      Open      High       Low     Close  Adj Close  Volume\n",
       "0  1962-01-02  6.009615  6.109776  5.949519  5.989583   1.008423  269568\n",
       "1  1962-01-03  5.959535  5.959535  5.909455  5.929487   0.998304  184704\n",
       "2  1962-01-04  5.929487  5.979567  5.809295  5.859375   0.986500  229632\n",
       "3  1962-01-05  5.859375  5.869391  5.608974  5.709135   0.961206  340704\n",
       "4  1962-01-08  5.709135  5.709135  5.528846  5.699119   0.959519  386880"
      ]
     },
     "execution_count": 10,
     "metadata": {},
     "output_type": "execute_result"
    }
   ],
   "source": [
    "df.head(5)"
   ]
  },
  {
   "cell_type": "code",
   "execution_count": 11,
   "id": "88f2e46f-cb1a-404a-ba40-65d5655e046c",
   "metadata": {},
   "outputs": [
    {
     "data": {
      "text/html": [
       "<div>\n",
       "<style scoped>\n",
       "    .dataframe tbody tr th:only-of-type {\n",
       "        vertical-align: middle;\n",
       "    }\n",
       "\n",
       "    .dataframe tbody tr th {\n",
       "        vertical-align: top;\n",
       "    }\n",
       "\n",
       "    .dataframe thead th {\n",
       "        text-align: right;\n",
       "    }\n",
       "</style>\n",
       "<table border=\"1\" class=\"dataframe\">\n",
       "  <thead>\n",
       "    <tr style=\"text-align: right;\">\n",
       "      <th></th>\n",
       "      <th>Open</th>\n",
       "      <th>High</th>\n",
       "      <th>Low</th>\n",
       "      <th>Close</th>\n",
       "      <th>Adj Close</th>\n",
       "      <th>Volume</th>\n",
       "    </tr>\n",
       "  </thead>\n",
       "  <tbody>\n",
       "    <tr>\n",
       "      <th>count</th>\n",
       "      <td>15311.000000</td>\n",
       "      <td>15311.000000</td>\n",
       "      <td>15311.000000</td>\n",
       "      <td>15311.000000</td>\n",
       "      <td>15311.000000</td>\n",
       "      <td>1.531100e+04</td>\n",
       "    </tr>\n",
       "    <tr>\n",
       "      <th>mean</th>\n",
       "      <td>97.070211</td>\n",
       "      <td>98.100657</td>\n",
       "      <td>95.977638</td>\n",
       "      <td>97.055038</td>\n",
       "      <td>63.951951</td>\n",
       "      <td>3.182796e+06</td>\n",
       "    </tr>\n",
       "    <tr>\n",
       "      <th>std</th>\n",
       "      <td>104.719770</td>\n",
       "      <td>105.865094</td>\n",
       "      <td>103.520682</td>\n",
       "      <td>104.724933</td>\n",
       "      <td>71.228512</td>\n",
       "      <td>4.296419e+06</td>\n",
       "    </tr>\n",
       "    <tr>\n",
       "      <th>min</th>\n",
       "      <td>4.447115</td>\n",
       "      <td>4.517228</td>\n",
       "      <td>4.346955</td>\n",
       "      <td>4.447115</td>\n",
       "      <td>0.759389</td>\n",
       "      <td>0.000000e+00</td>\n",
       "    </tr>\n",
       "    <tr>\n",
       "      <th>25%</th>\n",
       "      <td>8.954327</td>\n",
       "      <td>9.024439</td>\n",
       "      <td>8.874199</td>\n",
       "      <td>8.954327</td>\n",
       "      <td>2.239390</td>\n",
       "      <td>6.564480e+05</td>\n",
       "    </tr>\n",
       "    <tr>\n",
       "      <th>50%</th>\n",
       "      <td>49.118591</td>\n",
       "      <td>49.519230</td>\n",
       "      <td>48.637821</td>\n",
       "      <td>49.038464</td>\n",
       "      <td>22.832689</td>\n",
       "      <td>1.857336e+06</td>\n",
       "    </tr>\n",
       "    <tr>\n",
       "      <th>75%</th>\n",
       "      <td>180.346153</td>\n",
       "      <td>182.076920</td>\n",
       "      <td>178.493584</td>\n",
       "      <td>179.983979</td>\n",
       "      <td>120.933494</td>\n",
       "      <td>3.867780e+06</td>\n",
       "    </tr>\n",
       "    <tr>\n",
       "      <th>max</th>\n",
       "      <td>458.173065</td>\n",
       "      <td>465.384613</td>\n",
       "      <td>457.211548</td>\n",
       "      <td>461.538452</td>\n",
       "      <td>255.183044</td>\n",
       "      <td>9.787757e+07</td>\n",
       "    </tr>\n",
       "  </tbody>\n",
       "</table>\n",
       "</div>"
      ],
      "text/plain": [
       "               Open          High           Low         Close     Adj Close  \\\n",
       "count  15311.000000  15311.000000  15311.000000  15311.000000  15311.000000   \n",
       "mean      97.070211     98.100657     95.977638     97.055038     63.951951   \n",
       "std      104.719770    105.865094    103.520682    104.724933     71.228512   \n",
       "min        4.447115      4.517228      4.346955      4.447115      0.759389   \n",
       "25%        8.954327      9.024439      8.874199      8.954327      2.239390   \n",
       "50%       49.118591     49.519230     48.637821     49.038464     22.832689   \n",
       "75%      180.346153    182.076920    178.493584    179.983979    120.933494   \n",
       "max      458.173065    465.384613    457.211548    461.538452    255.183044   \n",
       "\n",
       "             Volume  \n",
       "count  1.531100e+04  \n",
       "mean   3.182796e+06  \n",
       "std    4.296419e+06  \n",
       "min    0.000000e+00  \n",
       "25%    6.564480e+05  \n",
       "50%    1.857336e+06  \n",
       "75%    3.867780e+06  \n",
       "max    9.787757e+07  "
      ]
     },
     "execution_count": 11,
     "metadata": {},
     "output_type": "execute_result"
    }
   ],
   "source": [
    "df.describe()"
   ]
  },
  {
   "cell_type": "code",
   "execution_count": 12,
   "id": "c6317a75-32b8-477d-b801-30942fea501d",
   "metadata": {},
   "outputs": [
    {
     "name": "stdout",
     "output_type": "stream",
     "text": [
      "<class 'pandas.core.frame.DataFrame'>\n",
      "RangeIndex: 15311 entries, 0 to 15310\n",
      "Data columns (total 7 columns):\n",
      " #   Column     Non-Null Count  Dtype  \n",
      "---  ------     --------------  -----  \n",
      " 0   Date       15311 non-null  object \n",
      " 1   Open       15311 non-null  float64\n",
      " 2   High       15311 non-null  float64\n",
      " 3   Low        15311 non-null  float64\n",
      " 4   Close      15311 non-null  float64\n",
      " 5   Adj Close  15311 non-null  float64\n",
      " 6   Volume     15311 non-null  int64  \n",
      "dtypes: float64(5), int64(1), object(1)\n",
      "memory usage: 837.4+ KB\n"
     ]
    }
   ],
   "source": [
    "df.info()"
   ]
  },
  {
   "cell_type": "code",
   "execution_count": 13,
   "id": "ae27c4f0-b064-4c5e-b1a7-2246a092410a",
   "metadata": {},
   "outputs": [],
   "source": [
    "# separate dates for future plotting\n",
    "train_dates = pd.to_datetime(df['Date'])"
   ]
  },
  {
   "cell_type": "code",
   "execution_count": 14,
   "id": "cf80e2d3-7a80-4369-a08c-f0fc25964594",
   "metadata": {},
   "outputs": [
    {
     "data": {
      "text/plain": [
       "0   1962-01-02\n",
       "1   1962-01-03\n",
       "2   1962-01-04\n",
       "3   1962-01-05\n",
       "4   1962-01-08\n",
       "Name: Date, dtype: datetime64[ns]"
      ]
     },
     "execution_count": 14,
     "metadata": {},
     "output_type": "execute_result"
    }
   ],
   "source": [
    "train_dates.head(5)"
   ]
  },
  {
   "cell_type": "code",
   "execution_count": 17,
   "id": "f2907ac7-5064-40ca-be57-56da07086825",
   "metadata": {},
   "outputs": [],
   "source": [
    "# variables for training\n",
    "cols = list(df)[1:6] # ['Open', 'High', 'Low', 'Close', 'Adj Close']"
   ]
  },
  {
   "cell_type": "code",
   "execution_count": 18,
   "id": "4b067cdc-63eb-4d35-abf2-066b70caf673",
   "metadata": {},
   "outputs": [],
   "source": [
    "df_for_training = df[cols].astype(float)"
   ]
  },
  {
   "cell_type": "code",
   "execution_count": 19,
   "id": "f7463ece-ec86-4e1d-8145-d2b0fd6d9dc5",
   "metadata": {},
   "outputs": [
    {
     "data": {
      "text/plain": [
       "<AxesSubplot:>"
      ]
     },
     "execution_count": 19,
     "metadata": {},
     "output_type": "execute_result"
    },
    {
     "data": {
      "image/png": "[encoded data removed]",
      "text/plain": [
       "<Figure size 640x480 with 1 Axes>"
      ]
     },
     "metadata": {},
     "output_type": "display_data"
    }
   ],
   "source": [
    "df_for_training.plot.line()"
   ]
  },
  {
   "cell_type": "code",
   "execution_count": 20,
   "id": "816cc976-137f-4285-ad30-fe85191bff3a",
   "metadata": {},
   "outputs": [],
   "source": [
    "scaler = StandardScaler()\n",
    "scaler = scaler.fit(df_for_training)\n",
    "df_for_training_scaled = scaler.transform(df_for_training)"
   ]
  },
  {
   "cell_type": "code",
   "execution_count": 23,
   "id": "35ef1c85-5430-41af-8996-01d0623bcbfc",
   "metadata": {},
   "outputs": [
    {
     "data": {
      "text/plain": [
       "(15311, 5)"
      ]
     },
     "execution_count": 23,
     "metadata": {},
     "output_type": "execute_result"
    }
   ],
   "source": [
    "df_for_training_scaled.shape # (15311, 5)"
   ]
  },
  {
   "cell_type": "code",
   "execution_count": null,
   "id": "3c61249c-09ef-4066-9920-171f606fff1a",
   "metadata": {},
   "outputs": [],
   "source": []
  }
 ],
 "metadata": {
  "kernelspec": {
   "display_name": "Python 3 (ipykernel)",
   "language": "python",
   "name": "python3"
  },
  "language_info": {
   "codemirror_mode": {
    "name": "ipython",
    "version": 3
   },
   "file_extension": ".py",
   "mimetype": "text/x-python",
   "name": "python",
   "nbconvert_exporter": "python",
   "pygments_lexer": "ipython3",
   "version": "3.9.13"
  }
 },
 "nbformat": 4,
 "nbformat_minor": 5
}
