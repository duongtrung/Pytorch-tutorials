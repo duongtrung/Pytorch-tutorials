{
 "cells": [
  {
   "cell_type": "markdown",
   "id": "fe1ba26b-b3da-421f-8da3-51b2ea452b35",
   "metadata": {},
   "source": [
    "<a href=\"https://colab.research.google.com/github/duongtrung/Pytorch-tutorials/blob/main/11_AWS_forecast_quick_start_up.ipynb\" target=\"_parent\"><img src=\"https://colab.research.google.com/assets/colab-badge.svg\" alt=\"Open In Colab\"/></a>"
   ]
  },
  {
   "cell_type": "markdown",
   "id": "8cf1166f-af5b-4a22-afec-0d0a3410d90a",
   "metadata": {},
   "source": [
    "## AWS forecast quick start\n",
    "\n",
    "AWS forecast involves the following 3 steps:\n",
    "\n",
    "<img src=\"resources/11-aws-quick-start-forecasting-overview.png\" width=900 alt=\"a aws forecast workflow\"/>"
   ]
  },
  {
   "cell_type": "markdown",
   "id": "41e31627-c3ce-4397-8915-baa991064b6c",
   "metadata": {},
   "source": [
    "Imagine we are trying to solve the forecasting problem for a ride-hailing service and we want to predict how many pick-ups are expected in specific areas of New York. For this exercise, we will use the yellow taxi trip records from [NYC Taxi and Limousine Commission (TLC)](https://www1.nyc.gov/site/tlc/about/tlc-trip-record-data.page).\n",
    "\n",
    "We will start by importing the historical data from December 2017 to January 2019, [link](https://raw.githubusercontent.com/aws-samples/amazon-forecast-samples/main/notebooks/basic/Getting_Started/data/taxi-dec2017-jan2019.csv). Next, we will train a Predictor using this data. Finally, we will generate a forecast for February 2019 and compare it with the actual data from February 2019, [link](https://raw.githubusercontent.com/aws-samples/amazon-forecast-samples/main/notebooks/basic/Getting_Started/data/taxi-feb2019.csv).\n",
    "\n",
    "You need to download the experimental datasets and put them in your data folder."
   ]
  },
  {
   "cell_type": "markdown",
   "id": "8792ff67-ea6f-4c0c-a693-a7b5e2c4b705",
   "metadata": {},
   "source": [
    "### Pre-requisites\n",
    "\n",
    "Before we get started, lets set up the notebook environment, the AWS SDK client for Amazon Forecast and IAM Role used by Amazon Forecast to access your data.\n"
   ]
  },
  {
   "cell_type": "code",
   "execution_count": null,
   "id": "c48766a5-ae36-4442-9354-b1328ab70c7f",
   "metadata": {},
   "outputs": [],
   "source": [
    "# The following installation commmands are used for anaconda windows 11 64bit\n",
    "# I recommend to create conda env for your experiments\n",
    "# If you use other OS or docker, google how to prepare your machine.\n",
    "\n",
    "# conda install -c conda-forge s3fs\n"
   ]
  }
 ],
 "metadata": {
  "kernelspec": {
   "display_name": "Python 3 (ipykernel)",
   "language": "python",
   "name": "python3"
  },
  "language_info": {
   "codemirror_mode": {
    "name": "ipython",
    "version": 3
   },
   "file_extension": ".py",
   "mimetype": "text/x-python",
   "name": "python",
   "nbconvert_exporter": "python",
   "pygments_lexer": "ipython3",
   "version": "3.9.13"
  }
 },
 "nbformat": 4,
 "nbformat_minor": 5
}
