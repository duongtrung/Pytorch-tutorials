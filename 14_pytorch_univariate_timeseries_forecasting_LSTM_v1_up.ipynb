{
 "cells": [
  {
   "cell_type": "markdown",
   "id": "defc6f7b-a405-476d-8da8-e4c6f4ad6134",
   "metadata": {},
   "source": [
    "<a href=\"https://colab.research.google.com/github/duongtrung/Pytorch-tutorials/blob/main/14_pytorch_multivariate_timeseries_forecasting_LSTM_v1_up.ipynb\" target=\"_parent\"><img src=\"https://colab.research.google.com/assets/colab-badge.svg\" alt=\"Open In Colab\"/></a> "
   ]
  },
  {
   "cell_type": "code",
   "execution_count": 1,
   "id": "739cf485-e70d-4042-b4f6-96c850e875d1",
   "metadata": {},
   "outputs": [],
   "source": [
    "# dataset: https://finance.yahoo.com/quote/GE/history/\n",
    "# select Max in the Time Period if you want to get all datasets until your current date"
   ]
  },
  {
   "cell_type": "code",
   "execution_count": 2,
   "id": "a75b9a05-9f7d-4600-b99e-6e23c23b986f",
   "metadata": {},
   "outputs": [],
   "source": [
    "# General design\n",
    "# One-step-ahead\n",
    "# Univariate"
   ]
  },
  {
   "cell_type": "code",
   "execution_count": null,
   "id": "e10d55df-8396-4b70-bd22-c4f6404ca120",
   "metadata": {},
   "outputs": [],
   "source": [
    "import numpy as np\n",
    "import pandas as pd\n",
    "from matplotlib import pyplot as plt\n",
    "from sklearn.preprocessing import StandardScaler, RobustScaler\n",
    "import seaborn as sns"
   ]
  },
  {
   "cell_type": "code",
   "execution_count": null,
   "id": "dd3d8dbe-a36b-46c5-9351-348c984c07a3",
   "metadata": {},
   "outputs": [],
   "source": [
    "df = pd.read_csv(\"data/GE-3months.csv\")"
   ]
  },
  {
   "cell_type": "code",
   "execution_count": null,
   "id": "55b20bc3-2485-4421-af9e-4ef3e7962f7a",
   "metadata": {},
   "outputs": [],
   "source": [
    "df.head(5)"
   ]
  },
  {
   "cell_type": "code",
   "execution_count": null,
   "id": "88f2e46f-cb1a-404a-ba40-65d5655e046c",
   "metadata": {},
   "outputs": [],
   "source": [
    "df.describe()"
   ]
  },
  {
   "cell_type": "code",
   "execution_count": null,
   "id": "c6317a75-32b8-477d-b801-30942fea501d",
   "metadata": {},
   "outputs": [],
   "source": [
    "df.info()"
   ]
  },
  {
   "cell_type": "code",
   "execution_count": null,
   "id": "ae27c4f0-b064-4c5e-b1a7-2246a092410a",
   "metadata": {},
   "outputs": [],
   "source": [
    "# separate dates for future plotting\n",
    "train_dates = pd.to_datetime(df['Date'])"
   ]
  },
  {
   "cell_type": "code",
   "execution_count": null,
   "id": "cf80e2d3-7a80-4369-a08c-f0fc25964594",
   "metadata": {},
   "outputs": [],
   "source": [
    "train_dates.head(5)"
   ]
  },
  {
   "cell_type": "code",
   "execution_count": null,
   "id": "f2907ac7-5064-40ca-be57-56da07086825",
   "metadata": {},
   "outputs": [],
   "source": [
    "# variables for training\n",
    "cols = list(df)[1:2] # ['Open', 'High', 'Low', 'Close', 'Adj Close']"
   ]
  },
  {
   "cell_type": "code",
   "execution_count": null,
   "id": "4b067cdc-63eb-4d35-abf2-066b70caf673",
   "metadata": {},
   "outputs": [],
   "source": [
    "df_for_training = df[cols].astype(float)"
   ]
  },
  {
   "cell_type": "code",
   "execution_count": null,
   "id": "f7463ece-ec86-4e1d-8145-d2b0fd6d9dc5",
   "metadata": {},
   "outputs": [],
   "source": [
    "df_for_training.plot.line()"
   ]
  },
  {
   "cell_type": "code",
   "execution_count": null,
   "id": "816cc976-137f-4285-ad30-fe85191bff3a",
   "metadata": {},
   "outputs": [],
   "source": [
    "scaler =  StandardScaler() #RobustScaler()\n",
    "df_for_training_scaled = scaler.fit_transform(df_for_training)"
   ]
  },
  {
   "cell_type": "code",
   "execution_count": null,
   "id": "35ef1c85-5430-41af-8996-01d0623bcbfc",
   "metadata": {},
   "outputs": [],
   "source": [
    "df_for_training_scaled.shape"
   ]
  },
  {
   "cell_type": "code",
   "execution_count": null,
   "id": "ffbe3707-382c-438d-bb7b-e6349ffcd5e7",
   "metadata": {},
   "outputs": [],
   "source": [
    "plt.plot(df_for_training_scaled)\n",
    "plt.show()"
   ]
  },
  {
   "cell_type": "code",
   "execution_count": null,
   "id": "f1997fe2-e2f8-4304-9452-c15d79675826",
   "metadata": {},
   "outputs": [],
   "source": [
    "np.savetxt(\"data/GE_3months_scaled.csv\", df_for_training_scaled, delimiter=',')"
   ]
  },
  {
   "cell_type": "code",
   "execution_count": null,
   "id": "c0432e5f-e1fa-46e4-8f78-712844d8b050",
   "metadata": {},
   "outputs": [],
   "source": [
    "##splitting dataset into train and test split for time series data\n",
    "training_size = int(len(df_for_training_scaled)*0.65)\n",
    "test_size = len(df_for_training_scaled)-training_size\n",
    "train_data,test_data = df_for_training_scaled[0:training_size,:], df_for_training_scaled[training_size:len(df_for_training_scaled),:]"
   ]
  },
  {
   "cell_type": "code",
   "execution_count": null,
   "id": "7ed8c615-9558-4a6e-809b-fc8282838cda",
   "metadata": {},
   "outputs": [],
   "source": [
    "train_data.shape, test_data.shape"
   ]
  },
  {
   "cell_type": "code",
   "execution_count": null,
   "id": "da9ffbd0-699e-48cb-a8d1-94cc7b8b7d8f",
   "metadata": {},
   "outputs": [],
   "source": [
    "train_data[0], test_data[0]"
   ]
  },
  {
   "cell_type": "code",
   "execution_count": null,
   "id": "382157f3-1f7c-4aef-a5cf-607ca443336b",
   "metadata": {},
   "outputs": [],
   "source": []
  },
  {
   "cell_type": "code",
   "execution_count": null,
   "id": "429ee3c4-be49-49c8-80ed-cd9864ecbca3",
   "metadata": {},
   "outputs": [],
   "source": []
  },
  {
   "cell_type": "code",
   "execution_count": null,
   "id": "c303d025-d84a-4362-96a5-316fc7f47c34",
   "metadata": {},
   "outputs": [],
   "source": [
    "import torch\n",
    "import torch.nn as nn\n",
    "from torch.utils.data import Dataset , DataLoader\n",
    "device = \"cuda\" if torch.cuda.is_available() else \"cpu\""
   ]
  },
  {
   "cell_type": "code",
   "execution_count": null,
   "id": "3bdb6e25-f125-40c3-9b8d-6fe489bc669f",
   "metadata": {},
   "outputs": [],
   "source": [
    "past_observation = 10"
   ]
  },
  {
   "cell_type": "code",
   "execution_count": null,
   "id": "7e8d84b4-9a86-4e9e-97b6-156eff4b73c1",
   "metadata": {},
   "outputs": [],
   "source": [
    "class SequenceDataset(Dataset):\n",
    "    def __init__(self,data,past_len = past_observation):\n",
    "        self.data = data\n",
    "        self.data = torch.from_numpy(data).float().view(-1)\n",
    "        self.past_len = past_len\n",
    "        \n",
    "    def __len__(self):\n",
    "        return len(self.data)-self.past_len-1\n",
    "\n",
    "    def __getitem__(self, index) :\n",
    "        return  self.data[index : index+self.past_len] , self.data[index+self.past_len]\n",
    "\n",
    "\n",
    "train_dataset = SequenceDataset(train_data, past_len=past_observation) \n",
    "test_dataset = SequenceDataset(test_data, past_len=past_observation) "
   ]
  },
  {
   "cell_type": "code",
   "execution_count": null,
   "id": "754b07ec-17a6-4b35-a109-51f7b771c207",
   "metadata": {},
   "outputs": [],
   "source": [
    "len(train_dataset)"
   ]
  },
  {
   "cell_type": "code",
   "execution_count": null,
   "id": "4b4c4b2b-963a-48d1-b933-59f0ecb294f0",
   "metadata": {},
   "outputs": [],
   "source": [
    "train_dataset[0]"
   ]
  },
  {
   "cell_type": "code",
   "execution_count": null,
   "id": "b9643797-af90-449b-b011-1334cfbe533d",
   "metadata": {},
   "outputs": [],
   "source": [
    "train_dataset[1]"
   ]
  },
  {
   "cell_type": "code",
   "execution_count": null,
   "id": "170881ea-1cbb-4af3-bacb-3e67fd1e67d3",
   "metadata": {},
   "outputs": [],
   "source": [
    "train_dataset[2]"
   ]
  },
  {
   "cell_type": "code",
   "execution_count": null,
   "id": "adb88ab4-9d81-47e6-a87f-b37a2f963d7b",
   "metadata": {},
   "outputs": [],
   "source": [
    "batch_size = 4\n",
    "train_dataloader = DataLoader(train_dataset, batch_size, drop_last=True)\n",
    "test_dataloader = DataLoader(test_dataset, batch_size , drop_last=True)"
   ]
  },
  {
   "cell_type": "code",
   "execution_count": null,
   "id": "35081a05-11f7-404a-a79b-fef5b46854fe",
   "metadata": {},
   "outputs": [],
   "source": []
  },
  {
   "cell_type": "code",
   "execution_count": null,
   "id": "82efb29c-b51e-4ede-960e-968be9ee321c",
   "metadata": {},
   "outputs": [],
   "source": [
    "class Lstm_model(nn.Module):\n",
    "    def __init__(self, input_dim , hidden_size , num_layers):\n",
    "        super(Lstm_model, self).__init__()\n",
    "        self.num_layers = num_layers\n",
    "        self.input_size = input_dim\n",
    "        self.hidden_size = hidden_size\n",
    "        \n",
    "        self.lstm = nn.LSTM(input_size=input_dim, hidden_size = hidden_size, num_layers= num_layers, dropout=0, bidirectional=False)\n",
    "        self.fc = nn.Linear(hidden_size,1)\n",
    "\n",
    "    def forward(self,x,hn,cn):\n",
    "        out , (hn,cn) = self.lstm(x , (hn,cn)) # out shape (past observation, batch_size, hidden_size)\n",
    "        final_out = self.fc(out[-1])   # out[-1].shape: torch.Size([batch_size, hidden_size])\n",
    "        return final_out,hn,cn # final_out.shape: [batch_size,1]\n",
    "\n",
    "    def predict(self,x):\n",
    "        hn,cn  = self.init()\n",
    "        final_out = self.fc(out[-1])  \n",
    "        return final_out\n",
    "\n",
    "    def init(self):\n",
    "        h0 =  torch.zeros(self.num_layers , batch_size , self.hidden_size).to(device)\n",
    "        c0 =  torch.zeros(self.num_layers , batch_size , self.hidden_size).to(device)\n",
    "        return h0 , c0"
   ]
  },
  {
   "cell_type": "code",
   "execution_count": null,
   "id": "9e5f7c74-8255-4b97-ac1f-138a8a901e3a",
   "metadata": {},
   "outputs": [],
   "source": [
    "input_dim = 1\n",
    "hidden_size = 30\n",
    "num_layers = 5"
   ]
  },
  {
   "cell_type": "code",
   "execution_count": null,
   "id": "f5ad3a63-48eb-4d9b-aa43-db15b796c363",
   "metadata": {},
   "outputs": [],
   "source": [
    "model = Lstm_model(input_dim , hidden_size , num_layers).to(device)"
   ]
  },
  {
   "cell_type": "code",
   "execution_count": null,
   "id": "da47b2c0-d697-4522-887a-53d74d2f298d",
   "metadata": {},
   "outputs": [],
   "source": [
    "from torchsummary import summary\n",
    "summary(model, verbose=0)"
   ]
  },
  {
   "cell_type": "code",
   "execution_count": null,
   "id": "54eac61c-2a31-44f7-994d-55f478c187d4",
   "metadata": {},
   "outputs": [],
   "source": [
    "loss_fn = nn.MSELoss()\n",
    "optimizer = torch.optim.AdamW(model.parameters(), lr=1e-4)"
   ]
  },
  {
   "cell_type": "code",
   "execution_count": null,
   "id": "9156e92b-7f06-4e65-bdc2-8193d5059654",
   "metadata": {},
   "outputs": [],
   "source": [
    "def train(dataloader):\n",
    "    hn , cn = model.init()\n",
    "    model.train()\n",
    "    losses = []\n",
    "    for batch , item in enumerate(dataloader):\n",
    "        x , y = item\n",
    "        x = x.to(device)\n",
    "        y = y.to(device)\n",
    "        out , hn , cn = model(x.reshape(past_observation,batch_size,1),hn,cn)\n",
    "        loss = loss_fn(out.reshape(batch_size) , y)\n",
    "        losses.append(loss.item())\n",
    "        hn = hn.detach()\n",
    "        cn = cn.detach()\n",
    "        optimizer.zero_grad()\n",
    "        loss.backward()\n",
    "        optimizer.step()\n",
    "        \n",
    "    loss_train = np.sum(losses) / len(dataloader)\n",
    "    #print(f\"train loss: {loss_train:>8f} \")\n",
    "    return loss_train "
   ]
  },
  {
   "cell_type": "code",
   "execution_count": null,
   "id": "4673399a-ca13-4b4b-85c3-bc2ef78f9b68",
   "metadata": {},
   "outputs": [],
   "source": [
    "def test(dataloader):\n",
    "    hn , cn = model.init()\n",
    "    model.eval()\n",
    "    losses = []\n",
    "    for batch , item in enumerate(dataloader):\n",
    "        x , y = item\n",
    "        x = x.to(device)\n",
    "        y = y.to(device)\n",
    "        out , hn , cn = model(x.reshape(past_observation,batch_size,1),hn,cn)\n",
    "        loss = loss_fn(out.reshape(batch_size) , y)\n",
    "        losses.append(loss.item())\n",
    "       \n",
    "    loss_test = np.sum(losses) / len(dataloader)\n",
    "    #print(f\"test loss: {loss_test:>8f} \")\n",
    "    return loss_test"
   ]
  },
  {
   "cell_type": "code",
   "execution_count": null,
   "id": "5d06c01f-858d-4025-a47a-c8a5aeb745e8",
   "metadata": {},
   "outputs": [],
   "source": [
    "epochs = 50\n",
    "train_losses = []\n",
    "test_losses = []\n",
    "for epoch in range(epochs):\n",
    "    train_losses.append(train(train_dataloader))\n",
    "    test_losses.append(test(test_dataloader))\n",
    "    if epoch % 5 == 0:\n",
    "        print(f\"epoch {epoch} \")\n",
    "        print(train_losses[epoch], test_losses[epoch])"
   ]
  },
  {
   "cell_type": "code",
   "execution_count": null,
   "id": "51ef0a8f-4291-4b0d-be9e-b7962bd091eb",
   "metadata": {},
   "outputs": [],
   "source": [
    "plt.plot(train_losses, label=\"train\")\n",
    "plt.plot(test_losses, label=\"test\")\n",
    "plt.legend()\n",
    "plt.show()"
   ]
  },
  {
   "cell_type": "code",
   "execution_count": null,
   "id": "dda06cb6-65a1-47e8-8b53-0b95b1f8ebb8",
   "metadata": {},
   "outputs": [],
   "source": [
    "import math\n",
    "from sklearn.metrics import mean_squared_error\n",
    "import numpy as np\n",
    "def calculate_metrics(data_loader):\n",
    "    pred_arr = []\n",
    "    y_arr = []\n",
    "    with torch.no_grad():\n",
    "        hn , cn = model.init()\n",
    "        \n",
    "        for batch , item in enumerate(data_loader):\n",
    "            x , y = item\n",
    "            x , y = x.to(device) , y.to(device)\n",
    "            x = x.view(past_observation,batch_size,1)\n",
    "            pred = model(x,hn,cn)[0]\n",
    "            pred = scaler.inverse_transform(pred.detach().cpu().numpy()).reshape(-1)\n",
    "            y = scaler.inverse_transform(y.detach().cpu().numpy().reshape(1,-1)).reshape(-1)\n",
    "            pred_arr = pred_arr + list(pred)\n",
    "            y_arr = y_arr + list(y)\n",
    "        #print(pred_arr[21],y_arr[21])\n",
    "        return math.sqrt(mean_squared_error(y_arr,pred_arr))"
   ]
  },
  {
   "cell_type": "code",
   "execution_count": null,
   "id": "1295fd37-2f67-4a0b-ab0a-dca815cd9c47",
   "metadata": {},
   "outputs": [],
   "source": [
    "# calculating final loss metrics\n",
    "print(\"final loss metrics after inversing scaling\")\n",
    "print(f\"train mse loss {calculate_metrics(train_dataloader)}\")\n",
    "print(f\"test mse loss {calculate_metrics(test_dataloader)}\")"
   ]
  },
  {
   "cell_type": "code",
   "execution_count": null,
   "id": "4085e708-b249-499c-a810-2b64c5e79e00",
   "metadata": {},
   "outputs": [],
   "source": []
  }
 ],
 "metadata": {
  "kernelspec": {
   "display_name": "Python 3 (ipykernel)",
   "language": "python",
   "name": "python3"
  },
  "language_info": {
   "codemirror_mode": {
    "name": "ipython",
    "version": 3
   },
   "file_extension": ".py",
   "mimetype": "text/x-python",
   "name": "python",
   "nbconvert_exporter": "python",
   "pygments_lexer": "ipython3",
   "version": "3.9.13"
  }
 },
 "nbformat": 4,
 "nbformat_minor": 5
}
