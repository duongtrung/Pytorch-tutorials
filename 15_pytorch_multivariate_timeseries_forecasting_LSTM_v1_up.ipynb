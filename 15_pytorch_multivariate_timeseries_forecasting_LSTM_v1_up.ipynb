{
 "cells": [
  {
   "cell_type": "markdown",
   "id": "defc6f7b-a405-476d-8da8-e4c6f4ad6134",
   "metadata": {},
   "source": [
    "<a href=\"https://colab.research.google.com/github/duongtrung/Pytorch-tutorials/blob/main/15_pytorch_multivariate_timeseries_forecasting_LSTM_v1_up.ipynb\" target=\"_parent\"><img src=\"https://colab.research.google.com/assets/colab-badge.svg\" alt=\"Open In Colab\"/></a> "
   ]
  },
  {
   "cell_type": "code",
   "execution_count": 1,
   "id": "739cf485-e70d-4042-b4f6-96c850e875d1",
   "metadata": {},
   "outputs": [],
   "source": [
    "# dataset: https://finance.yahoo.com/quote/GE/history/\n",
    "# select Max in the Time Period if you want to get all datasets until your current date"
   ]
  },
  {
   "cell_type": "code",
   "execution_count": 39,
   "id": "a75b9a05-9f7d-4600-b99e-6e23c23b986f",
   "metadata": {},
   "outputs": [],
   "source": [
    "# General design\n",
    "# One-step-ahead\n",
    "# Multivariate"
   ]
  },
  {
   "cell_type": "code",
   "execution_count": 40,
   "id": "e10d55df-8396-4b70-bd22-c4f6404ca120",
   "metadata": {},
   "outputs": [],
   "source": [
    "import numpy as np\n",
    "import pandas as pd\n",
    "from matplotlib import pyplot as plt\n",
    "from sklearn.preprocessing import StandardScaler, RobustScaler\n",
    "import seaborn as sns"
   ]
  },
  {
   "cell_type": "code",
   "execution_count": 41,
   "id": "dd3d8dbe-a36b-46c5-9351-348c984c07a3",
   "metadata": {},
   "outputs": [],
   "source": [
    "df = pd.read_csv(\"data/GE-3months.csv\")"
   ]
  },
  {
   "cell_type": "code",
   "execution_count": 42,
   "id": "55b20bc3-2485-4421-af9e-4ef3e7962f7a",
   "metadata": {},
   "outputs": [
    {
     "data": {
      "text/html": [
       "<div>\n",
       "<style scoped>\n",
       "    .dataframe tbody tr th:only-of-type {\n",
       "        vertical-align: middle;\n",
       "    }\n",
       "\n",
       "    .dataframe tbody tr th {\n",
       "        vertical-align: top;\n",
       "    }\n",
       "\n",
       "    .dataframe thead th {\n",
       "        text-align: right;\n",
       "    }\n",
       "</style>\n",
       "<table border=\"1\" class=\"dataframe\">\n",
       "  <thead>\n",
       "    <tr style=\"text-align: right;\">\n",
       "      <th></th>\n",
       "      <th>Date</th>\n",
       "      <th>Open</th>\n",
       "      <th>High</th>\n",
       "      <th>Low</th>\n",
       "      <th>Close</th>\n",
       "      <th>Adj Close</th>\n",
       "      <th>Volume</th>\n",
       "    </tr>\n",
       "  </thead>\n",
       "  <tbody>\n",
       "    <tr>\n",
       "      <th>0</th>\n",
       "      <td>2021-10-27</td>\n",
       "      <td>107.879997</td>\n",
       "      <td>108.279999</td>\n",
       "      <td>103.690002</td>\n",
       "      <td>103.849998</td>\n",
       "      <td>103.414063</td>\n",
       "      <td>8984300</td>\n",
       "    </tr>\n",
       "    <tr>\n",
       "      <th>1</th>\n",
       "      <td>2021-10-28</td>\n",
       "      <td>103.389999</td>\n",
       "      <td>105.379997</td>\n",
       "      <td>103.099998</td>\n",
       "      <td>105.260002</td>\n",
       "      <td>104.818161</td>\n",
       "      <td>5910800</td>\n",
       "    </tr>\n",
       "    <tr>\n",
       "      <th>2</th>\n",
       "      <td>2021-10-29</td>\n",
       "      <td>104.949997</td>\n",
       "      <td>105.239998</td>\n",
       "      <td>104.120003</td>\n",
       "      <td>104.870003</td>\n",
       "      <td>104.429794</td>\n",
       "      <td>5618700</td>\n",
       "    </tr>\n",
       "    <tr>\n",
       "      <th>3</th>\n",
       "      <td>2021-11-01</td>\n",
       "      <td>105.760002</td>\n",
       "      <td>106.769997</td>\n",
       "      <td>105.279999</td>\n",
       "      <td>106.230003</td>\n",
       "      <td>105.784088</td>\n",
       "      <td>4887100</td>\n",
       "    </tr>\n",
       "    <tr>\n",
       "      <th>4</th>\n",
       "      <td>2021-11-02</td>\n",
       "      <td>106.339996</td>\n",
       "      <td>107.139999</td>\n",
       "      <td>105.300003</td>\n",
       "      <td>106.690002</td>\n",
       "      <td>106.242149</td>\n",
       "      <td>4480800</td>\n",
       "    </tr>\n",
       "  </tbody>\n",
       "</table>\n",
       "</div>"
      ],
      "text/plain": [
       "         Date        Open        High         Low       Close   Adj Close  \\\n",
       "0  2021-10-27  107.879997  108.279999  103.690002  103.849998  103.414063   \n",
       "1  2021-10-28  103.389999  105.379997  103.099998  105.260002  104.818161   \n",
       "2  2021-10-29  104.949997  105.239998  104.120003  104.870003  104.429794   \n",
       "3  2021-11-01  105.760002  106.769997  105.279999  106.230003  105.784088   \n",
       "4  2021-11-02  106.339996  107.139999  105.300003  106.690002  106.242149   \n",
       "\n",
       "    Volume  \n",
       "0  8984300  \n",
       "1  5910800  \n",
       "2  5618700  \n",
       "3  4887100  \n",
       "4  4480800  "
      ]
     },
     "execution_count": 42,
     "metadata": {},
     "output_type": "execute_result"
    }
   ],
   "source": [
    "df.head(5)"
   ]
  },
  {
   "cell_type": "code",
   "execution_count": 43,
   "id": "88f2e46f-cb1a-404a-ba40-65d5655e046c",
   "metadata": {},
   "outputs": [
    {
     "data": {
      "text/html": [
       "<div>\n",
       "<style scoped>\n",
       "    .dataframe tbody tr th:only-of-type {\n",
       "        vertical-align: middle;\n",
       "    }\n",
       "\n",
       "    .dataframe tbody tr th {\n",
       "        vertical-align: top;\n",
       "    }\n",
       "\n",
       "    .dataframe thead th {\n",
       "        text-align: right;\n",
       "    }\n",
       "</style>\n",
       "<table border=\"1\" class=\"dataframe\">\n",
       "  <thead>\n",
       "    <tr style=\"text-align: right;\">\n",
       "      <th></th>\n",
       "      <th>Open</th>\n",
       "      <th>High</th>\n",
       "      <th>Low</th>\n",
       "      <th>Close</th>\n",
       "      <th>Adj Close</th>\n",
       "      <th>Volume</th>\n",
       "    </tr>\n",
       "  </thead>\n",
       "  <tbody>\n",
       "    <tr>\n",
       "      <th>count</th>\n",
       "      <td>252.000000</td>\n",
       "      <td>252.000000</td>\n",
       "      <td>252.000000</td>\n",
       "      <td>252.000000</td>\n",
       "      <td>252.000000</td>\n",
       "      <td>2.520000e+02</td>\n",
       "    </tr>\n",
       "    <tr>\n",
       "      <th>mean</th>\n",
       "      <td>83.730675</td>\n",
       "      <td>84.845635</td>\n",
       "      <td>82.511746</td>\n",
       "      <td>83.657143</td>\n",
       "      <td>83.445877</td>\n",
       "      <td>6.696986e+06</td>\n",
       "    </tr>\n",
       "    <tr>\n",
       "      <th>std</th>\n",
       "      <td>13.882652</td>\n",
       "      <td>13.905495</td>\n",
       "      <td>13.732063</td>\n",
       "      <td>13.747321</td>\n",
       "      <td>13.627205</td>\n",
       "      <td>2.945638e+06</td>\n",
       "    </tr>\n",
       "    <tr>\n",
       "      <th>min</th>\n",
       "      <td>61.000000</td>\n",
       "      <td>61.160000</td>\n",
       "      <td>59.930000</td>\n",
       "      <td>61.090000</td>\n",
       "      <td>61.014286</td>\n",
       "      <td>3.269000e+06</td>\n",
       "    </tr>\n",
       "    <tr>\n",
       "      <th>25%</th>\n",
       "      <td>72.885000</td>\n",
       "      <td>73.830000</td>\n",
       "      <td>71.139999</td>\n",
       "      <td>72.725000</td>\n",
       "      <td>72.679544</td>\n",
       "      <td>4.980125e+06</td>\n",
       "    </tr>\n",
       "    <tr>\n",
       "      <th>50%</th>\n",
       "      <td>80.029999</td>\n",
       "      <td>81.525002</td>\n",
       "      <td>79.110000</td>\n",
       "      <td>80.509998</td>\n",
       "      <td>80.314315</td>\n",
       "      <td>6.147600e+06</td>\n",
       "    </tr>\n",
       "    <tr>\n",
       "      <th>75%</th>\n",
       "      <td>94.945001</td>\n",
       "      <td>96.064999</td>\n",
       "      <td>93.650002</td>\n",
       "      <td>94.922501</td>\n",
       "      <td>94.610777</td>\n",
       "      <td>7.606150e+06</td>\n",
       "    </tr>\n",
       "    <tr>\n",
       "      <th>max</th>\n",
       "      <td>114.730003</td>\n",
       "      <td>116.169998</td>\n",
       "      <td>110.480003</td>\n",
       "      <td>111.290001</td>\n",
       "      <td>110.822838</td>\n",
       "      <td>2.875490e+07</td>\n",
       "    </tr>\n",
       "  </tbody>\n",
       "</table>\n",
       "</div>"
      ],
      "text/plain": [
       "             Open        High         Low       Close   Adj Close  \\\n",
       "count  252.000000  252.000000  252.000000  252.000000  252.000000   \n",
       "mean    83.730675   84.845635   82.511746   83.657143   83.445877   \n",
       "std     13.882652   13.905495   13.732063   13.747321   13.627205   \n",
       "min     61.000000   61.160000   59.930000   61.090000   61.014286   \n",
       "25%     72.885000   73.830000   71.139999   72.725000   72.679544   \n",
       "50%     80.029999   81.525002   79.110000   80.509998   80.314315   \n",
       "75%     94.945001   96.064999   93.650002   94.922501   94.610777   \n",
       "max    114.730003  116.169998  110.480003  111.290001  110.822838   \n",
       "\n",
       "             Volume  \n",
       "count  2.520000e+02  \n",
       "mean   6.696986e+06  \n",
       "std    2.945638e+06  \n",
       "min    3.269000e+06  \n",
       "25%    4.980125e+06  \n",
       "50%    6.147600e+06  \n",
       "75%    7.606150e+06  \n",
       "max    2.875490e+07  "
      ]
     },
     "execution_count": 43,
     "metadata": {},
     "output_type": "execute_result"
    }
   ],
   "source": [
    "df.describe()"
   ]
  },
  {
   "cell_type": "code",
   "execution_count": 44,
   "id": "c6317a75-32b8-477d-b801-30942fea501d",
   "metadata": {},
   "outputs": [
    {
     "name": "stdout",
     "output_type": "stream",
     "text": [
      "<class 'pandas.core.frame.DataFrame'>\n",
      "RangeIndex: 252 entries, 0 to 251\n",
      "Data columns (total 7 columns):\n",
      " #   Column     Non-Null Count  Dtype  \n",
      "---  ------     --------------  -----  \n",
      " 0   Date       252 non-null    object \n",
      " 1   Open       252 non-null    float64\n",
      " 2   High       252 non-null    float64\n",
      " 3   Low        252 non-null    float64\n",
      " 4   Close      252 non-null    float64\n",
      " 5   Adj Close  252 non-null    float64\n",
      " 6   Volume     252 non-null    int64  \n",
      "dtypes: float64(5), int64(1), object(1)\n",
      "memory usage: 13.9+ KB\n"
     ]
    }
   ],
   "source": [
    "df.info()"
   ]
  },
  {
   "cell_type": "code",
   "execution_count": 45,
   "id": "ae27c4f0-b064-4c5e-b1a7-2246a092410a",
   "metadata": {},
   "outputs": [],
   "source": [
    "# separate dates for future plotting\n",
    "train_dates = pd.to_datetime(df['Date'])"
   ]
  },
  {
   "cell_type": "code",
   "execution_count": 46,
   "id": "cf80e2d3-7a80-4369-a08c-f0fc25964594",
   "metadata": {},
   "outputs": [
    {
     "data": {
      "text/plain": [
       "0   2021-10-27\n",
       "1   2021-10-28\n",
       "2   2021-10-29\n",
       "3   2021-11-01\n",
       "4   2021-11-02\n",
       "Name: Date, dtype: datetime64[ns]"
      ]
     },
     "execution_count": 46,
     "metadata": {},
     "output_type": "execute_result"
    }
   ],
   "source": [
    "train_dates.head(5)"
   ]
  },
  {
   "cell_type": "code",
   "execution_count": 47,
   "id": "f2907ac7-5064-40ca-be57-56da07086825",
   "metadata": {},
   "outputs": [],
   "source": [
    "# variables for training\n",
    "cols = list(df)[1:3] # ['Open', 'High', 'Low', 'Close', 'Adj Close']"
   ]
  },
  {
   "cell_type": "code",
   "execution_count": 48,
   "id": "4b067cdc-63eb-4d35-abf2-066b70caf673",
   "metadata": {},
   "outputs": [],
   "source": [
    "df_for_training = df[cols].astype(float)"
   ]
  },
  {
   "cell_type": "code",
   "execution_count": 49,
   "id": "f7463ece-ec86-4e1d-8145-d2b0fd6d9dc5",
   "metadata": {},
   "outputs": [
    {
     "data": {
      "text/plain": [
       "<AxesSubplot:>"
      ]
     },
     "execution_count": 49,
     "metadata": {},
     "output_type": "execute_result"
    },
    {
     "data": {
      "image/png": "[encoded data removed]",
      "text/plain": [
       "<Figure size 640x480 with 1 Axes>"
      ]
     },
     "metadata": {},
     "output_type": "display_data"
    }
   ],
   "source": [
    "df_for_training.plot.line()"
   ]
  },
  {
   "cell_type": "code",
   "execution_count": 13,
   "id": "816cc976-137f-4285-ad30-fe85191bff3a",
   "metadata": {},
   "outputs": [],
   "source": [
    "scaler =  StandardScaler() #RobustScaler()\n",
    "df_for_training_scaled = scaler.fit_transform(df_for_training)"
   ]
  },
  {
   "cell_type": "code",
   "execution_count": 14,
   "id": "35ef1c85-5430-41af-8996-01d0623bcbfc",
   "metadata": {},
   "outputs": [
    {
     "data": {
      "text/plain": [
       "(252, 1)"
      ]
     },
     "execution_count": 14,
     "metadata": {},
     "output_type": "execute_result"
    }
   ],
   "source": [
    "df_for_training_scaled.shape"
   ]
  },
  {
   "cell_type": "code",
   "execution_count": 15,
   "id": "ffbe3707-382c-438d-bb7b-e6349ffcd5e7",
   "metadata": {},
   "outputs": [
    {
     "data": {
      "image/png": "[encoded data removed]",
      "text/plain": [
       "<Figure size 640x480 with 1 Axes>"
      ]
     },
     "metadata": {},
     "output_type": "display_data"
    }
   ],
   "source": [
    "plt.plot(df_for_training_scaled)\n",
    "plt.show()"
   ]
  },
  {
   "cell_type": "code",
   "execution_count": 16,
   "id": "f1997fe2-e2f8-4304-9452-c15d79675826",
   "metadata": {},
   "outputs": [],
   "source": [
    "np.savetxt(\"data/GE_3months_scaled.csv\", df_for_training_scaled, delimiter=',')"
   ]
  },
  {
   "cell_type": "code",
   "execution_count": 17,
   "id": "c0432e5f-e1fa-46e4-8f78-712844d8b050",
   "metadata": {},
   "outputs": [],
   "source": [
    "##splitting dataset into train and test split for time series data\n",
    "training_size = int(len(df_for_training_scaled)*0.65)\n",
    "test_size = len(df_for_training_scaled)-training_size\n",
    "train_data,test_data = df_for_training_scaled[0:training_size,:], df_for_training_scaled[training_size:len(df_for_training_scaled),:]"
   ]
  },
  {
   "cell_type": "code",
   "execution_count": 18,
   "id": "7ed8c615-9558-4a6e-809b-fc8282838cda",
   "metadata": {},
   "outputs": [
    {
     "data": {
      "text/plain": [
       "((163, 1), (89, 1))"
      ]
     },
     "execution_count": 18,
     "metadata": {},
     "output_type": "execute_result"
    }
   ],
   "source": [
    "train_data.shape, test_data.shape"
   ]
  },
  {
   "cell_type": "code",
   "execution_count": 19,
   "id": "da9ffbd0-699e-48cb-a8d1-94cc7b8b7d8f",
   "metadata": {},
   "outputs": [
    {
     "data": {
      "text/plain": [
       "(array([1.74299417]), array([-1.41108355]))"
      ]
     },
     "execution_count": 19,
     "metadata": {},
     "output_type": "execute_result"
    }
   ],
   "source": [
    "train_data[0], test_data[0]"
   ]
  },
  {
   "cell_type": "code",
   "execution_count": null,
   "id": "382157f3-1f7c-4aef-a5cf-607ca443336b",
   "metadata": {},
   "outputs": [],
   "source": []
  },
  {
   "cell_type": "code",
   "execution_count": null,
   "id": "429ee3c4-be49-49c8-80ed-cd9864ecbca3",
   "metadata": {},
   "outputs": [],
   "source": []
  },
  {
   "cell_type": "code",
   "execution_count": 20,
   "id": "c303d025-d84a-4362-96a5-316fc7f47c34",
   "metadata": {},
   "outputs": [],
   "source": [
    "import torch\n",
    "import torch.nn as nn\n",
    "from torch.utils.data import Dataset , DataLoader\n",
    "device = \"cuda\" if torch.cuda.is_available() else \"cpu\""
   ]
  },
  {
   "cell_type": "code",
   "execution_count": 21,
   "id": "3bdb6e25-f125-40c3-9b8d-6fe489bc669f",
   "metadata": {},
   "outputs": [],
   "source": [
    "past_observation = 10"
   ]
  },
  {
   "cell_type": "code",
   "execution_count": 22,
   "id": "7e8d84b4-9a86-4e9e-97b6-156eff4b73c1",
   "metadata": {},
   "outputs": [],
   "source": [
    "class SequenceDataset(Dataset):\n",
    "    def __init__(self,data,past_len = past_observation):\n",
    "        self.data = data\n",
    "        self.data = torch.from_numpy(data).float().view(-1)\n",
    "        self.past_len = past_len\n",
    "        \n",
    "    def __len__(self):\n",
    "        return len(self.data)-self.past_len-1\n",
    "\n",
    "    def __getitem__(self, index) :\n",
    "        return  self.data[index : index+self.past_len] , self.data[index+self.past_len]\n",
    "\n",
    "\n",
    "train_dataset = SequenceDataset(train_data, past_len=past_observation) \n",
    "test_dataset = SequenceDataset(test_data, past_len=past_observation) "
   ]
  },
  {
   "cell_type": "code",
   "execution_count": 23,
   "id": "754b07ec-17a6-4b35-a109-51f7b771c207",
   "metadata": {},
   "outputs": [
    {
     "data": {
      "text/plain": [
       "152"
      ]
     },
     "execution_count": 23,
     "metadata": {},
     "output_type": "execute_result"
    }
   ],
   "source": [
    "len(train_dataset)"
   ]
  },
  {
   "cell_type": "code",
   "execution_count": 24,
   "id": "4b4c4b2b-963a-48d1-b933-59f0ecb294f0",
   "metadata": {},
   "outputs": [
    {
     "data": {
      "text/plain": [
       "(tensor([1.7430, 1.4189, 1.5315, 1.5900, 1.6318, 1.6189, 1.5979, 1.6744, 1.8527,\n",
       "         2.2374]),\n",
       " tensor(2.0764))"
      ]
     },
     "execution_count": 24,
     "metadata": {},
     "output_type": "execute_result"
    }
   ],
   "source": [
    "train_dataset[0]"
   ]
  },
  {
   "cell_type": "code",
   "execution_count": 25,
   "id": "b9643797-af90-449b-b011-1334cfbe533d",
   "metadata": {},
   "outputs": [
    {
     "data": {
      "text/plain": [
       "(tensor([1.4189, 1.5315, 1.5900, 1.6318, 1.6189, 1.5979, 1.6744, 1.8527, 2.2374,\n",
       "         2.0764]),\n",
       " tensor(1.7914))"
      ]
     },
     "execution_count": 25,
     "metadata": {},
     "output_type": "execute_result"
    }
   ],
   "source": [
    "train_dataset[1]"
   ]
  },
  {
   "cell_type": "code",
   "execution_count": 26,
   "id": "170881ea-1cbb-4af3-bacb-3e67fd1e67d3",
   "metadata": {},
   "outputs": [
    {
     "data": {
      "text/plain": [
       "(tensor([1.5315, 1.5900, 1.6318, 1.6189, 1.5979, 1.6744, 1.8527, 2.2374, 2.0764,\n",
       "         1.7914]),\n",
       " tensor(1.7084))"
      ]
     },
     "execution_count": 26,
     "metadata": {},
     "output_type": "execute_result"
    }
   ],
   "source": [
    "train_dataset[2]"
   ]
  },
  {
   "cell_type": "code",
   "execution_count": 27,
   "id": "adb88ab4-9d81-47e6-a87f-b37a2f963d7b",
   "metadata": {},
   "outputs": [],
   "source": [
    "batch_size = 4\n",
    "train_dataloader = DataLoader(train_dataset, batch_size, drop_last=True)\n",
    "test_dataloader = DataLoader(test_dataset, batch_size , drop_last=True)"
   ]
  },
  {
   "cell_type": "code",
   "execution_count": null,
   "id": "35081a05-11f7-404a-a79b-fef5b46854fe",
   "metadata": {},
   "outputs": [],
   "source": []
  },
  {
   "cell_type": "code",
   "execution_count": 28,
   "id": "82efb29c-b51e-4ede-960e-968be9ee321c",
   "metadata": {},
   "outputs": [],
   "source": [
    "class Lstm_model(nn.Module):\n",
    "    def __init__(self, input_dim , hidden_size , num_layers):\n",
    "        super(Lstm_model, self).__init__()\n",
    "        self.num_layers = num_layers\n",
    "        self.input_size = input_dim\n",
    "        self.hidden_size = hidden_size\n",
    "        \n",
    "        self.lstm = nn.LSTM(input_size=input_dim, hidden_size = hidden_size, num_layers= num_layers, dropout=0, bidirectional=False)\n",
    "        self.fc = nn.Linear(hidden_size,1)\n",
    "\n",
    "    def forward(self,x,hn,cn):\n",
    "        out , (hn,cn) = self.lstm(x , (hn,cn)) # out shape (past observation, batch_size, hidden_size)\n",
    "        final_out = self.fc(out[-1])   # out[-1].shape: torch.Size([batch_size, hidden_size])\n",
    "        return final_out,hn,cn # final_out.shape: [batch_size,1]\n",
    "\n",
    "    def predict(self,x):\n",
    "        hn,cn  = self.init()\n",
    "        final_out = self.fc(out[-1])  \n",
    "        return final_out\n",
    "\n",
    "    def init(self):\n",
    "        h0 =  torch.zeros(self.num_layers , batch_size , self.hidden_size).to(device)\n",
    "        c0 =  torch.zeros(self.num_layers , batch_size , self.hidden_size).to(device)\n",
    "        return h0 , c0"
   ]
  },
  {
   "cell_type": "code",
   "execution_count": 29,
   "id": "9e5f7c74-8255-4b97-ac1f-138a8a901e3a",
   "metadata": {},
   "outputs": [],
   "source": [
    "input_dim = 1\n",
    "hidden_size = 30\n",
    "num_layers = 5"
   ]
  },
  {
   "cell_type": "code",
   "execution_count": 30,
   "id": "f5ad3a63-48eb-4d9b-aa43-db15b796c363",
   "metadata": {},
   "outputs": [],
   "source": [
    "model = Lstm_model(input_dim , hidden_size , num_layers).to(device)"
   ]
  },
  {
   "cell_type": "code",
   "execution_count": 31,
   "id": "da47b2c0-d697-4522-887a-53d74d2f298d",
   "metadata": {},
   "outputs": [
    {
     "data": {
      "text/plain": [
       "=================================================================\n",
       "Layer (type:depth-idx)                   Param #\n",
       "=================================================================\n",
       "├─LSTM: 1-1                              33,720\n",
       "├─Linear: 1-2                            31\n",
       "=================================================================\n",
       "Total params: 33,751\n",
       "Trainable params: 33,751\n",
       "Non-trainable params: 0\n",
       "================================================================="
      ]
     },
     "execution_count": 31,
     "metadata": {},
     "output_type": "execute_result"
    }
   ],
   "source": [
    "from torchsummary import summary\n",
    "summary(model, verbose=0)"
   ]
  },
  {
   "cell_type": "code",
   "execution_count": 32,
   "id": "54eac61c-2a31-44f7-994d-55f478c187d4",
   "metadata": {},
   "outputs": [],
   "source": [
    "loss_fn = nn.MSELoss()\n",
    "optimizer = torch.optim.AdamW(model.parameters(), lr=1e-4)"
   ]
  },
  {
   "cell_type": "code",
   "execution_count": 33,
   "id": "9156e92b-7f06-4e65-bdc2-8193d5059654",
   "metadata": {},
   "outputs": [],
   "source": [
    "def train(dataloader):\n",
    "    hn , cn = model.init()\n",
    "    model.train()\n",
    "    losses = []\n",
    "    for batch , item in enumerate(dataloader):\n",
    "        x , y = item\n",
    "        x = x.to(device)\n",
    "        y = y.to(device)\n",
    "        out , hn , cn = model(x.reshape(past_observation,batch_size,1),hn,cn)\n",
    "        loss = loss_fn(out.reshape(batch_size) , y)\n",
    "        losses.append(loss.item())\n",
    "        hn = hn.detach()\n",
    "        cn = cn.detach()\n",
    "        optimizer.zero_grad()\n",
    "        loss.backward()\n",
    "        optimizer.step()\n",
    "        \n",
    "    loss_train = np.sum(losses) / len(dataloader)\n",
    "    #print(f\"train loss: {loss_train:>8f} \")\n",
    "    return loss_train "
   ]
  },
  {
   "cell_type": "code",
   "execution_count": 34,
   "id": "4673399a-ca13-4b4b-85c3-bc2ef78f9b68",
   "metadata": {},
   "outputs": [],
   "source": [
    "def test(dataloader):\n",
    "    hn , cn = model.init()\n",
    "    model.eval()\n",
    "    losses = []\n",
    "    for batch , item in enumerate(dataloader):\n",
    "        x , y = item\n",
    "        x = x.to(device)\n",
    "        y = y.to(device)\n",
    "        out , hn , cn = model(x.reshape(past_observation,batch_size,1),hn,cn)\n",
    "        loss = loss_fn(out.reshape(batch_size) , y)\n",
    "        losses.append(loss.item())\n",
    "       \n",
    "    loss_test = np.sum(losses) / len(dataloader)\n",
    "    #print(f\"test loss: {loss_test:>8f} \")\n",
    "    return loss_test"
   ]
  },
  {
   "cell_type": "code",
   "execution_count": 35,
   "id": "5d06c01f-858d-4025-a47a-c8a5aeb745e8",
   "metadata": {},
   "outputs": [
    {
     "name": "stdout",
     "output_type": "stream",
     "text": [
      "epoch 0 \n",
      "0.6774620929438817 1.3764272881181616\n",
      "epoch 5 \n",
      "0.5722047900290865 1.740181127661153\n",
      "epoch 10 \n",
      "0.37104711485536473 1.5881568820852983\n",
      "epoch 15 \n",
      "0.26515252520575333 1.2695546087465788\n",
      "epoch 20 \n",
      "0.19442685830749964 0.9305855245574525\n",
      "epoch 25 \n",
      "0.12823461627244556 0.4894234663071601\n",
      "epoch 30 \n",
      "0.10769088382489587 0.28163588645034715\n",
      "epoch 35 \n",
      "0.10581463869465024 0.269152034123085\n",
      "epoch 40 \n",
      "0.11328963769636557 0.26971274812852863\n",
      "epoch 45 \n",
      "0.10818150522505962 0.27169708522820946\n"
     ]
    }
   ],
   "source": [
    "epochs = 50\n",
    "train_losses = []\n",
    "test_losses = []\n",
    "for epoch in range(epochs):\n",
    "    train_losses.append(train(train_dataloader))\n",
    "    test_losses.append(test(test_dataloader))\n",
    "    if epoch % 5 == 0:\n",
    "        print(f\"epoch {epoch} \")\n",
    "        print(train_losses[epoch], test_losses[epoch])"
   ]
  },
  {
   "cell_type": "code",
   "execution_count": 36,
   "id": "51ef0a8f-4291-4b0d-be9e-b7962bd091eb",
   "metadata": {},
   "outputs": [
    {
     "data": {
      "image/png": "[encoded data removed]",
      "text/plain": [
       "<Figure size 640x480 with 1 Axes>"
      ]
     },
     "metadata": {},
     "output_type": "display_data"
    }
   ],
   "source": [
    "plt.plot(train_losses, label=\"train\")\n",
    "plt.plot(test_losses, label=\"test\")\n",
    "plt.legend()\n",
    "plt.show()"
   ]
  },
  {
   "cell_type": "code",
   "execution_count": 37,
   "id": "dda06cb6-65a1-47e8-8b53-0b95b1f8ebb8",
   "metadata": {},
   "outputs": [],
   "source": [
    "import math\n",
    "from sklearn.metrics import mean_squared_error\n",
    "import numpy as np\n",
    "def calculate_metrics(data_loader):\n",
    "    pred_arr = []\n",
    "    y_arr = []\n",
    "    with torch.no_grad():\n",
    "        hn , cn = model.init()\n",
    "        \n",
    "        for batch , item in enumerate(data_loader):\n",
    "            x , y = item\n",
    "            x , y = x.to(device) , y.to(device)\n",
    "            x = x.view(past_observation,batch_size,1)\n",
    "            pred = model(x,hn,cn)[0]\n",
    "            pred = scaler.inverse_transform(pred.detach().cpu().numpy()).reshape(-1)\n",
    "            y = scaler.inverse_transform(y.detach().cpu().numpy().reshape(1,-1)).reshape(-1)\n",
    "            pred_arr = pred_arr + list(pred)\n",
    "            y_arr = y_arr + list(y)\n",
    "        #print(pred_arr[21],y_arr[21])\n",
    "        return math.sqrt(mean_squared_error(y_arr,pred_arr))"
   ]
  },
  {
   "cell_type": "code",
   "execution_count": 38,
   "id": "1295fd37-2f67-4a0b-ab0a-dca815cd9c47",
   "metadata": {},
   "outputs": [
    {
     "name": "stdout",
     "output_type": "stream",
     "text": [
      "final loss metrics after inversing scaling\n",
      "train mse loss 6.071766172367337\n",
      "test mse loss 8.497458133981569\n"
     ]
    }
   ],
   "source": [
    "# calculating final loss metrics\n",
    "print(\"final loss metrics after inversing scaling\")\n",
    "print(f\"train mse loss {calculate_metrics(train_dataloader)}\")\n",
    "print(f\"test mse loss {calculate_metrics(test_dataloader)}\")"
   ]
  },
  {
   "cell_type": "code",
   "execution_count": null,
   "id": "4085e708-b249-499c-a810-2b64c5e79e00",
   "metadata": {},
   "outputs": [],
   "source": []
  }
 ],
 "metadata": {
  "kernelspec": {
   "display_name": "Python 3 (ipykernel)",
   "language": "python",
   "name": "python3"
  },
  "language_info": {
   "codemirror_mode": {
    "name": "ipython",
    "version": 3
   },
   "file_extension": ".py",
   "mimetype": "text/x-python",
   "name": "python",
   "nbconvert_exporter": "python",
   "pygments_lexer": "ipython3",
   "version": "3.9.13"
  }
 },
 "nbformat": 4,
 "nbformat_minor": 5
}
