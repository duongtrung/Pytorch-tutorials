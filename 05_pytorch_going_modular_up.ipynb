{
 "cells": [
  {
   "cell_type": "markdown",
   "id": "bc447378-4457-4aa0-8e29-2c752c2add09",
   "metadata": {},
   "source": [
    "<a href=\"https://colab.research.google.com/github/duongtrung/Pytorch-tutorials/blob/main/05_pytorch_going_modular_up.ipynb\" target=\"_parent\"><img src=\"https://colab.research.google.com/assets/colab-badge.svg\" alt=\"Open In Colab\"/></a> "
   ]
  },
  {
   "cell_type": "markdown",
   "id": "a7cf875d-bea3-44cd-be01-ad709aab8de8",
   "metadata": {},
   "source": [
    "## What is going modular?\n",
    "\n",
    "Going modular involves turning notebook code (from a Jupyter Notebook or Google Colab notebook) into a series of different Python scripts that offer similar functionality.\n",
    "\n",
    "For example, we could turn our notebook code from a series of cells into the following Python files:\n",
    "\n",
    "* `data_setup.py` - a file to prepare and download data if needed.\n",
    "* `engine.py` - a file containing various training functions.\n",
    "* `model_builder.py` or `model.py` - a file to create a PyTorch model.\n",
    "* `train.py` - a file to leverage all other files and train a target PyTorch model.\n",
    "* `utils.py` - a file dedicated to helpful utility functions.\n",
    "\n",
    "> **Note:** The naming and layout of the above files will depend on your use case and code requirements. Python scripts are as general as individual notebook cells, meaning, you could create one for almost any kind of functionality.\n"
   ]
  },
  {
   "cell_type": "markdown",
   "id": "7259ab99-4360-497a-a06e-f4f07ddfc0ea",
   "metadata": {},
   "source": [
    "## Why would you want to go modular?\n",
    "\n",
    "Notebooks are fantastic for iteratively exploring and running experiments quickly.\n",
    "\n",
    "However, for larger scale projects you may find Python scripts more reproducible and easier to run.\n",
    "\n",
    "Though this is a debated topic, as companies like [Netflix have shown how they use notebooks for production code](https://netflixtechblog.com/notebook-innovation-591ee3221233).\n",
    "\n",
    "**Production code** is code that runs to offer a service to someone or something.\n",
    "\n",
    "For example, if you have an app running online that other people can access and use, the code running that app is considered **production code**.\n",
    "\n",
    "And libraries like fast.ai's [`nb-dev`](https://github.com/fastai/nbdev) (short for notebook development) enable you to write whole Python libraries (including documentation) with Jupyter Notebooks."
   ]
  },
  {
   "cell_type": "code",
   "execution_count": null,
   "id": "56265384-fe07-42ff-9bd4-bc92f9e2cc7b",
   "metadata": {},
   "outputs": [],
   "source": []
  }
 ],
 "metadata": {
  "kernelspec": {
   "display_name": "Python 3 (ipykernel)",
   "language": "python",
   "name": "python3"
  },
  "language_info": {
   "codemirror_mode": {
    "name": "ipython",
    "version": 3
   },
   "file_extension": ".py",
   "mimetype": "text/x-python",
   "name": "python",
   "nbconvert_exporter": "python",
   "pygments_lexer": "ipython3",
   "version": "3.9.13"
  }
 },
 "nbformat": 4,
 "nbformat_minor": 5
}
