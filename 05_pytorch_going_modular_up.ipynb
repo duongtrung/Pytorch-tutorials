{
 "cells": [
  {
   "cell_type": "markdown",
   "id": "bc447378-4457-4aa0-8e29-2c752c2add09",
   "metadata": {},
   "source": [
    "<a href=\"https://colab.research.google.com/github/duongtrung/Pytorch-tutorials/blob/main/05_pytorch_going_modular_up.ipynb\" target=\"_parent\"><img src=\"https://colab.research.google.com/assets/colab-badge.svg\" alt=\"Open In Colab\"/></a> "
   ]
  },
  {
   "cell_type": "markdown",
   "id": "a7cf875d-bea3-44cd-be01-ad709aab8de8",
   "metadata": {},
   "source": [
    "## What is going modular?\n",
    "\n",
    "Going modular involves turning notebook code (from a Jupyter Notebook or Google Colab notebook) into a series of different Python scripts that offer similar functionality.\n",
    "\n",
    "For example, we could turn our notebook code from a series of cells into the following Python files:\n",
    "\n",
    "* `data_setup.py` - a file to prepare and download data if needed.\n",
    "* `engine.py` - a file containing various training functions.\n",
    "* `model_builder.py` or `model.py` - a file to create a PyTorch model.\n",
    "* `train.py` - a file to leverage all other files and train a target PyTorch model.\n",
    "* `utils.py` - a file dedicated to helpful utility functions.\n",
    "\n",
    "> **Note:** The naming and layout of the above files will depend on your use case and code requirements. Python scripts are as general as individual notebook cells, meaning, you could create one for almost any kind of functionality.\n"
   ]
  },
  {
   "cell_type": "markdown",
   "id": "7259ab99-4360-497a-a06e-f4f07ddfc0ea",
   "metadata": {},
   "source": [
    "## Why would you want to go modular?\n",
    "\n",
    "Notebooks are fantastic for iteratively exploring and running experiments quickly.\n",
    "\n",
    "However, for larger scale projects you may find Python scripts more reproducible and easier to run.\n",
    "\n",
    "Though this is a debated topic, as companies like [Netflix have shown how they use notebooks for production code](https://netflixtechblog.com/notebook-innovation-591ee3221233).\n",
    "\n",
    "**Production code** is code that runs to offer a service to someone or something.\n",
    "\n",
    "For example, if you have an app running online that other people can access and use, the code running that app is considered **production code**.\n",
    "\n",
    "And libraries like fast.ai's [`nb-dev`](https://github.com/fastai/nbdev) (short for notebook development) enable you to write whole Python libraries (including documentation) with Jupyter Notebooks."
   ]
  },
  {
   "cell_type": "markdown",
   "id": "2130062a-20ef-4c77-b886-32ad9ddb3a5f",
   "metadata": {},
   "source": [
    "### Pros and cons of notebooks vs Python scripts\n",
    "\n",
    "There's arguments for both sides.\n",
    "\n",
    "But this list sums up a few of the main topics.\n",
    "\n",
    "|               | **Pros**                                               | **Cons**                                     |\n",
    "| ------------- | ------------------------------------------------------ | -------------------------------------------- |\n",
    "| **Notebooks** | Easy to experiment/get started                         | Versioning can be hard                       |\n",
    "|               | Easy to share (e.g. a link to a Google Colab notebook) | Hard to use only specific parts              |\n",
    "|               | Very visual                                            | Text and graphics can get in the way of code |\n",
    "\n",
    "|                    | **Pros**                                                                            | **Cons**                                                                                  |\n",
    "| ------------------ | ----------------------------------------------------------------------------------- | ----------------------------------------------------------------------------------------- |\n",
    "| **Python scripts** | Can package code together (saves rewriting similar code across different notebooks) | Experimenting isn't as visual (usually have to run the whole script rather than one cell) |\n",
    "|                    | Can use git for versioning                                                          |                                                                                           |\n",
    "|                    | Many open source projects use scripts                                               |                                                                                           |\n",
    "|                    | Larger projects can be run on cloud vendors (not as much support for notebooks)     |                                                                                           |\n"
   ]
  },
  {
   "cell_type": "markdown",
   "id": "337fff46-ac5d-48eb-b6a9-21b245c373f7",
   "metadata": {},
   "source": [
    "### My workflow\n",
    "\n",
    "I usually start machine learning projects in Jupyter/Google Colab notebooks for quick experimentation and visualization.\n",
    "\n",
    "Then when I've got something working, I move the most useful pieces of code to Python scripts.\n",
    "\n",
    "<img src=\"resources/05-my-workflow-for-experimenting.jpg\" alt=\"one possible workflow for writing machine learning code, start with jupyter or google colab notebooks and then move to Python scripts when you've got something working.\" width=700/>\n",
    "\n",
    "*There are many possible workflows for writing machine learning code. Some prefer to start with scripts, others (like me) prefer to start with notebooks and go to scripts later on.*"
   ]
  },
  {
   "cell_type": "markdown",
   "id": "0cac9c55-9b3b-420c-b0da-d89e928cc033",
   "metadata": {},
   "source": [
    "### PyTorch in the wild\n",
    "\n",
    "In your travels, you'll see many code repositories for PyTorch-based ML projects have instructions on how to run the PyTorch code in the form of Python scripts.\n",
    "\n",
    "For example, you might be instructed to run code like the following in a terminal/command line to train a model:\n",
    "\n",
    "```\n",
    "python train.py --model MODEL_NAME --batch_size BATCH_SIZE --lr LEARNING_RATE --num_epochs NUM_EPOCHS\n",
    "```\n",
    "\n",
    "<img src=\"resources/05-python-train-command-line-annotated.jpg\" alt=\"command line call for training a PyTorch model with different hyperparameters\" width=1000/> \n",
    "\n",
    "*Running a PyTorch `train.py` script on the command line with various hyperparameter settings.*\n",
    "\n",
    "In this case, `train.py` is the target Python script, it'll likely contain functions to train a PyTorch model.\n",
    "\n",
    "And `--model`, `--batch_size`, `--lr` and `--num_epochs` are known as argument flags.\n",
    "\n",
    "You can set these to whatever values you like and if they're compatible with `train.py`, they'll work, if not, they'll error.\n",
    "\n",
    "For example, let's say we wanted to train our TinyVGG model from notebook 04 for 10 epochs with a batch size of 32 and a learning rate of 0.001:\n",
    "\n",
    "```\n",
    "python train.py --model tinyvgg --batch_size 32 --lr 0.001 --num_epochs 10\n",
    "```\n",
    "\n",
    "You could setup any number of these argument flags in your `train.py` script to suit your needs.\n",
    "\n",
    "The PyTorch blog post for training state-of-the-art computer vision models uses this style.\n",
    "\n",
    "<img src=\"resources/05-training-sota-recipe.jpg\" alt=\"PyTorch training script recipe for training state of the art computer vision models\" width=800/>\n",
    "\n",
    "*PyTorch command line training script recipe for training state-of-the-art computer vision models with 8 GPUs. Source: [PyTorch blog](https://pytorch.org/blog/how-to-train-state-of-the-art-models-using-torchvision-latest-primitives/#the-training-recipe).*"
   ]
  },
  {
   "cell_type": "code",
   "execution_count": null,
   "id": "a85e2a78-5fdb-444a-8044-81d2a53b9e93",
   "metadata": {},
   "outputs": [],
   "source": []
  }
 ],
 "metadata": {
  "kernelspec": {
   "display_name": "Python 3 (ipykernel)",
   "language": "python",
   "name": "python3"
  },
  "language_info": {
   "codemirror_mode": {
    "name": "ipython",
    "version": 3
   },
   "file_extension": ".py",
   "mimetype": "text/x-python",
   "name": "python",
   "nbconvert_exporter": "python",
   "pygments_lexer": "ipython3",
   "version": "3.9.13"
  }
 },
 "nbformat": 4,
 "nbformat_minor": 5
}
