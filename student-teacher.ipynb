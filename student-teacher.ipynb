{
 "cells": [
  {
   "cell_type": "markdown",
   "id": "9ec261bd-8647-4abb-b6bb-38fb797d264a",
   "metadata": {},
   "source": [
    "### Import required libraries"
   ]
  },
  {
   "cell_type": "code",
   "execution_count": 127,
   "id": "1f468275-8aab-4ef8-a47a-79473e1e60c1",
   "metadata": {
    "tags": []
   },
   "outputs": [
    {
     "name": "stderr",
     "output_type": "stream",
     "text": [
      "C:\\Users\\Lena\\anaconda3\\lib\\site-packages\\spacy\\util.py:910: UserWarning: [W095] Model 'en_core_web_sm' (3.5.0) was trained with spaCy v3.5 and may not be 100% compatible with the current version (3.6.0). If you see errors or degraded performance, download a newer compatible model or retrain your custom model with the current spaCy version. For more details and available updates, run: python -m spacy validate\n",
      "  warnings.warn(warn_msg)\n"
     ]
    }
   ],
   "source": [
    "import pandas as pd\n",
    "import numpy as np\n",
    "import matplotlib.pyplot as plt\n",
    "from deep_translator import GoogleTranslator,PonsTranslator #PONS is one of Germany’s leading language publishers\n",
    "import nltk\n",
    "pd.set_option('display.max_colwidth', 5000)\n",
    "import seaborn as sns\n",
    "import string\n",
    "from wordcloud import WordCloud\n",
    "import networkx as nx\n",
    "import matplotlib\n",
    "from nltk.corpus import wordnet as wn\n",
    "import altair as alt\n",
    "import spacy\n",
    "nlp = spacy.load(\"en_core_web_sm\")\n",
    "import requests\n",
    "import gensim\n",
    "from nltk import word_tokenize, pos_tag\n",
    "from nltk.corpus import stopwords as stop\n",
    "stopwords = stop.words(\"english\")"
   ]
  },
  {
   "cell_type": "markdown",
   "id": "c6eaa576-594d-4730-a888-151d40c3a201",
   "metadata": {},
   "source": [
    "### Import dataset"
   ]
  },
  {
   "cell_type": "code",
   "execution_count": 68,
   "id": "088b4747-7c2d-4f29-8f7d-6263b6e89e65",
   "metadata": {
    "tags": []
   },
   "outputs": [],
   "source": [
    "data = pd.read_csv(filepath_or_buffer = \"student-teacher.csv\", header=0, encoding=\"utf-8\", delimiter=\"===\", engine='python')"
   ]
  },
  {
   "cell_type": "code",
   "execution_count": 69,
   "id": "be1adb52-1ff1-4d89-afef-6178d75d37ef",
   "metadata": {
    "tags": []
   },
   "outputs": [
    {
     "data": {
      "text/html": [
       "<div>\n",
       "<style scoped>\n",
       "    .dataframe tbody tr th:only-of-type {\n",
       "        vertical-align: middle;\n",
       "    }\n",
       "\n",
       "    .dataframe tbody tr th {\n",
       "        vertical-align: top;\n",
       "    }\n",
       "\n",
       "    .dataframe thead th {\n",
       "        text-align: right;\n",
       "    }\n",
       "</style>\n",
       "<table border=\"1\" class=\"dataframe\">\n",
       "  <thead>\n",
       "    <tr style=\"text-align: right;\">\n",
       "      <th></th>\n",
       "      <th>Idee der Studierenden</th>\n",
       "      <th>Antwort des Lehrenden</th>\n",
       "      <th>Handlungsbedarf</th>\n",
       "      <th>Nächste Schritte</th>\n",
       "    </tr>\n",
       "  </thead>\n",
       "  <tbody>\n",
       "    <tr>\n",
       "      <th>0</th>\n",
       "      <td>Nach ersten Literatur-Recherchen würde ich mich in dieser Hausarbeit gerne mit den Themen learning analytics und gamification beschäftigen.Wie lässt sich gamification durch learning analytics unterstützen? Welchen Vorteil können Daten bieten, die während Lernvorgängen mit gamification erhoben werden? Führt gamification zu einer gesteigerten Lernmotivation?</td>\n",
       "      <td>damit kann ich Sie hiermit persönlich im neuen Semester begrüßen. Vielen Dank für Ihre Antworten, die ich als interessant und fundiert erachte. Auch Ihr geplanter Brückenschlag zwischen Learning Analytics und Gamification zeugt von Kreativität. Ich würde Ihnen aber empfehlen, sich mit maximal einem der beiden Schwerpunkte zu beschäftigen (und hier z. B. auf die Förderung von Lernmotiviation) einzugehen, da eine Verknüpfung beider Aspekte derzeit noch nicht ausreichend beforscht wird, so dass Sie sich im Rahmen einer Modulhausarbeit vermutlich schnell in Sackgassen manövrieren würden. Was denken Sie?</td>\n",
       "      <td>Ja</td>\n",
       "      <td>Eingrenzung auf ein Thema: Learning Analytics</td>\n",
       "    </tr>\n",
       "  </tbody>\n",
       "</table>\n",
       "</div>"
      ],
      "text/plain": [
       "                                                                                                                                                                                                                                                                                                                                                    Idee der Studierenden  \\\n",
       "0  Nach ersten Literatur-Recherchen würde ich mich in dieser Hausarbeit gerne mit den Themen learning analytics und gamification beschäftigen.Wie lässt sich gamification durch learning analytics unterstützen? Welchen Vorteil können Daten bieten, die während Lernvorgängen mit gamification erhoben werden? Führt gamification zu einer gesteigerten Lernmotivation?   \n",
       "\n",
       "                                                                                                                                                                                                                                                                                                                                                                                                                                                                                                                                                                                                            Antwort des Lehrenden  \\\n",
       "0  damit kann ich Sie hiermit persönlich im neuen Semester begrüßen. Vielen Dank für Ihre Antworten, die ich als interessant und fundiert erachte. Auch Ihr geplanter Brückenschlag zwischen Learning Analytics und Gamification zeugt von Kreativität. Ich würde Ihnen aber empfehlen, sich mit maximal einem der beiden Schwerpunkte zu beschäftigen (und hier z. B. auf die Förderung von Lernmotiviation) einzugehen, da eine Verknüpfung beider Aspekte derzeit noch nicht ausreichend beforscht wird, so dass Sie sich im Rahmen einer Modulhausarbeit vermutlich schnell in Sackgassen manövrieren würden. Was denken Sie?   \n",
       "\n",
       "  Handlungsbedarf                               Nächste Schritte  \n",
       "0              Ja  Eingrenzung auf ein Thema: Learning Analytics  "
      ]
     },
     "execution_count": 69,
     "metadata": {},
     "output_type": "execute_result"
    }
   ],
   "source": [
    "data"
   ]
  },
  {
   "cell_type": "markdown",
   "id": "2e7911cb-b683-4058-bc53-8ab7d850c894",
   "metadata": {},
   "source": [
    "### German-English Translation (if needed)"
   ]
  },
  {
   "cell_type": "code",
   "execution_count": 70,
   "id": "23845e0c-1222-4ef3-87d2-873a11d69a42",
   "metadata": {
    "tags": []
   },
   "outputs": [
    {
     "data": {
      "text/plain": [
       "'Nach ersten Literatur-Recherchen würde ich mich in dieser Hausarbeit gerne mit den Themen learning analytics und gamification beschäftigen.Wie lässt sich gamification durch learning analytics unterstützen? Welchen Vorteil können Daten bieten, die während Lernvorgängen mit gamification erhoben werden? Führt gamification zu einer gesteigerten Lernmotivation?'"
      ]
     },
     "execution_count": 70,
     "metadata": {},
     "output_type": "execute_result"
    }
   ],
   "source": [
    "idee = data[\"Idee der Studierenden\"][0]\n",
    "idee"
   ]
  },
  {
   "cell_type": "code",
   "execution_count": 71,
   "id": "c1a0de24-b4aa-450d-ac13-7892cd8a3962",
   "metadata": {
    "tags": []
   },
   "outputs": [
    {
     "data": {
      "text/plain": [
       "'damit kann ich Sie hiermit persönlich im neuen Semester begrüßen. Vielen Dank für Ihre Antworten, die ich als interessant und fundiert erachte. Auch Ihr geplanter Brückenschlag zwischen Learning Analytics und Gamification zeugt von Kreativität. Ich würde Ihnen aber empfehlen, sich mit maximal einem der beiden Schwerpunkte zu beschäftigen (und hier z. B. auf die Förderung von Lernmotiviation) einzugehen, da eine Verknüpfung beider Aspekte derzeit noch nicht ausreichend beforscht wird, so dass Sie sich im Rahmen einer Modulhausarbeit vermutlich schnell in Sackgassen manövrieren würden. Was denken Sie?'"
      ]
     },
     "execution_count": 71,
     "metadata": {},
     "output_type": "execute_result"
    }
   ],
   "source": [
    "antwort = data[\"Antwort des Lehrenden\"][0]\n",
    "antwort"
   ]
  },
  {
   "cell_type": "markdown",
   "id": "980dfedb-1a03-4189-abeb-566f27bca573",
   "metadata": {
    "tags": []
   },
   "source": [
    "handlungsbedarf = data[\"Handlungsbedarf\"][0]\n",
    "handlungsbedarf"
   ]
  },
  {
   "cell_type": "code",
   "execution_count": 72,
   "id": "c6660411-7f64-4b0e-806e-df4c23822c7a",
   "metadata": {
    "tags": []
   },
   "outputs": [
    {
     "data": {
      "text/plain": [
       "'Eingrenzung auf ein Thema: Learning Analytics'"
      ]
     },
     "execution_count": 72,
     "metadata": {},
     "output_type": "execute_result"
    }
   ],
   "source": [
    "schritte = data[\"Nächste Schritte\"][0]\n",
    "schritte"
   ]
  },
  {
   "cell_type": "code",
   "execution_count": 73,
   "id": "96592ede-9a1c-4f09-82e2-13f60cb9bf6a",
   "metadata": {
    "tags": []
   },
   "outputs": [
    {
     "data": {
      "text/plain": [
       "'After initial literature research, I would like to deal with the topics of learning analytics and gamification in this term paper. How can gamification be supported by learning analytics? What benefit can data collected during learning processes using gamification offer? Does gamification lead to increased learning motivation?'"
      ]
     },
     "execution_count": 73,
     "metadata": {},
     "output_type": "execute_result"
    }
   ],
   "source": [
    "idee_de_en = GoogleTranslator(source='german', target='english').translate(idee)\n",
    "idee_de_en"
   ]
  },
  {
   "cell_type": "code",
   "execution_count": 74,
   "id": "827a4aef-a21b-48c4-9b39-8af8bbfba7ad",
   "metadata": {
    "tags": []
   },
   "outputs": [
    {
     "data": {
      "text/plain": [
       "'I can therefore personally welcome you to the new semester. Thank you for your replies, which I find interesting and well-founded. Your planned bridging between learning analytics and gamification also shows creativity. However, I would recommend that you deal with at most one of the two focal points (and here, for example, with the promotion of learning motivation), since the linking of both aspects has not yet been sufficiently researched, so that you can do a module homework would probably quickly maneuver into dead ends. What do you think?'"
      ]
     },
     "execution_count": 74,
     "metadata": {},
     "output_type": "execute_result"
    }
   ],
   "source": [
    "antwort_de_en = GoogleTranslator(source='german', target='english').translate(antwort)\n",
    "antwort_de_en"
   ]
  },
  {
   "cell_type": "code",
   "execution_count": 75,
   "id": "1a67cd42-1ded-45bb-a428-59b29c518a33",
   "metadata": {
    "tags": []
   },
   "outputs": [
    {
     "data": {
      "text/plain": [
       "'Yes'"
      ]
     },
     "execution_count": 75,
     "metadata": {},
     "output_type": "execute_result"
    }
   ],
   "source": [
    "handlungsbedarf_de_en = GoogleTranslator(source='german', target='english').translate(handlungsbedarf)\n",
    "handlungsbedarf_de_en"
   ]
  },
  {
   "cell_type": "code",
   "execution_count": 76,
   "id": "b98cc891-92b2-413c-ad0d-df5d8deba586",
   "metadata": {
    "tags": []
   },
   "outputs": [
    {
     "data": {
      "text/plain": [
       "'Narrow down to one topic: Learning Analytics'"
      ]
     },
     "execution_count": 76,
     "metadata": {},
     "output_type": "execute_result"
    }
   ],
   "source": [
    "schritte_de_en = GoogleTranslator(source='german', target='english').translate(schritte)\n",
    "schritte_de_en"
   ]
  },
  {
   "cell_type": "markdown",
   "id": "637124ba-3560-4984-93f6-65fe4b9be1d3",
   "metadata": {},
   "source": [
    "### Need ChatGPT to answer the student's questions?\n",
    "It is doable. We are doing it in one of current research direction in the Tech4compKI project."
   ]
  },
  {
   "cell_type": "markdown",
   "id": "055e19d2-4686-4bab-8bbd-2be4dc17a4aa",
   "metadata": {},
   "source": [
    "### Word to Vector Embeddings\n",
    "Convert word to a prepresentative vector by Google word2vec model. After the conversion, we can feed the text to any machine learning models to perform required tasks."
   ]
  },
  {
   "cell_type": "code",
   "execution_count": 84,
   "id": "d447deaa-d162-4520-82c3-30898d1a4e0c",
   "metadata": {
    "tags": []
   },
   "outputs": [],
   "source": [
    "from nltk.data import find\n",
    "word2vec = str(find('models/word2vec_sample/pruned.word2vec.txt'))\n",
    "model = gensim.models.KeyedVectors.load_word2vec_format(word2vec, binary=False)"
   ]
  },
  {
   "cell_type": "code",
   "execution_count": 94,
   "id": "02e4f2b7-fa17-45f5-ac66-da0015a6e2a5",
   "metadata": {
    "tags": []
   },
   "outputs": [
    {
     "name": "stdout",
     "output_type": "stream",
     "text": [
      "[-4.42411e-02  8.92976e-02  4.95418e-02 -1.31500e-02 -3.75132e-02\n",
      " -5.26000e-02 -1.00715e-01 -3.71054e-02  4.64837e-02  6.56480e-02\n",
      "  4.83186e-02 -7.42108e-02 -5.95317e-02 -6.16724e-03  7.84922e-03\n",
      "  3.77170e-02  7.28856e-03 -2.17128e-02 -1.26403e-02  1.07035e-03\n",
      " -2.48729e-02  9.78604e-02  6.34564e-03 -3.48628e-02 -2.28341e-02\n",
      " -4.60759e-02 -8.07348e-02  4.75031e-02  8.35891e-02  5.91240e-02\n",
      "  8.07348e-02  4.89302e-02  5.12238e-03 -6.03472e-02 -4.02655e-03\n",
      "  1.12539e-01 -6.68713e-02  1.04384e-01 -1.17229e-02  3.85325e-02\n",
      " -7.91038e-02  2.53825e-02 -4.68914e-02 -5.75949e-03  5.99395e-02\n",
      "  3.38434e-02 -2.36496e-02  4.19984e-02  4.03674e-02  3.56783e-02\n",
      " -1.03569e-01  8.11426e-02  1.21510e-01 -2.77271e-02 -4.44449e-02\n",
      "  4.54643e-02 -1.78391e-03 -4.89302e-02 -3.05814e-02  4.15907e-02\n",
      " -1.06015e-01 -2.03876e-02 -1.00715e-01 -8.05310e-03 -8.92976e-02\n",
      " -1.02448e-02  7.17643e-02  4.62798e-02  3.46589e-02 -9.41906e-02\n",
      " -2.04075e-05  2.55864e-02  4.30178e-02  9.05209e-02 -1.97760e-02\n",
      "  6.93178e-02  6.06531e-03  1.07035e-02  7.33953e-02  3.34356e-02\n",
      "  3.75132e-02 -1.04486e-02 -7.84922e-03  7.13565e-02 -4.63818e-03\n",
      " -5.91240e-02 -9.70449e-02  1.23141e-01  6.19783e-02 -3.54744e-02\n",
      " -1.10908e-01 -4.79108e-02  6.14176e-03 -1.05200e-01 -4.58721e-02\n",
      "  5.19883e-02 -1.94701e-02  4.09790e-02 -5.01535e-02  5.14786e-03\n",
      "  6.80945e-02 -2.97659e-02  6.36093e-02 -3.01736e-02  9.66371e-02\n",
      "  2.57393e-03  5.91240e-03  9.68410e-03 -1.31296e-01 -1.41082e-01\n",
      "  5.09690e-02 -3.82267e-03  2.14070e-02  4.66366e-03  5.58620e-02\n",
      "  6.80945e-02 -1.10093e-01  9.17441e-02  9.33751e-02  9.70449e-02\n",
      " -5.50465e-02 -3.42511e-02 -1.87566e-02 -6.15705e-02  6.60558e-02\n",
      "  1.76964e-01  1.84508e-02 -1.87566e-02  6.40170e-02 -2.67077e-02\n",
      "  1.54946e-02 -2.73194e-02 -4.34256e-02  6.60558e-02  9.29674e-02\n",
      " -3.56783e-02 -4.54643e-02 -5.99395e-02 -7.09488e-02  9.21519e-02\n",
      "  7.09488e-02 -2.77271e-02 -4.42411e-02  6.64635e-02 -4.68914e-02\n",
      " -7.50263e-02 -1.88585e-03 -7.42108e-02 -2.37515e-02 -4.01635e-02\n",
      "  1.20287e-02 -1.43529e-01  4.54643e-02 -3.48628e-02  7.91038e-02\n",
      " -1.99798e-02  1.50868e-01 -4.74648e-04  1.07545e-02 -4.40372e-02\n",
      "  1.03977e-02 -1.42713e-02  8.15503e-02  4.48527e-02  2.12031e-02\n",
      " -1.63101e-02  6.97255e-02  3.87364e-03 -1.24772e-01 -1.72275e-02\n",
      " -9.13364e-02 -1.52907e-02 -8.35891e-02 -9.17441e-02  8.40988e-03\n",
      "  7.66573e-02  4.07752e-02  2.37515e-02 -3.79209e-02 -4.34256e-02\n",
      "  2.93581e-02 -1.85527e-02  6.97638e-04  1.27219e-01 -2.15089e-02\n",
      "  8.56278e-02 -2.31399e-02 -9.66371e-02  5.09690e-02 -3.79209e-02\n",
      " -4.23042e-03 -5.34155e-02 -7.58418e-02 -2.49748e-02 -9.58216e-02\n",
      " -1.86546e-02 -3.85325e-02 -6.76868e-02 -1.82469e-02 -7.42108e-02\n",
      " -3.46589e-03 -8.51182e-03 -8.84821e-02  1.07545e-02 -1.22325e-01\n",
      " -4.03674e-02  6.01434e-03  4.99496e-02  5.54542e-02 -2.71155e-02\n",
      " -1.21051e-03  3.01736e-02  4.79108e-02  3.75132e-02 -1.62081e-02\n",
      "  7.17643e-02  1.40674e-02  3.91442e-02  7.54341e-03  7.70651e-02\n",
      "  5.07651e-02 -2.83387e-02  2.85426e-02  2.00053e-03  3.50666e-02\n",
      " -3.09891e-02  3.83287e-02  5.97292e-05  3.99597e-02  3.99597e-02\n",
      " -4.22023e-02 -9.37829e-02 -5.17335e-03  3.44550e-02 -1.91643e-02\n",
      " -5.83085e-02  2.85426e-02  9.94914e-02 -4.58721e-03  1.85527e-02\n",
      "  3.48628e-02  5.00133e-04  5.46387e-02  7.84922e-03 -3.05814e-04\n",
      " -4.56682e-02  6.52403e-02 -4.17945e-03  1.14170e-01 -2.87465e-02\n",
      "  5.05612e-02  6.76868e-02  3.01991e-03  9.45984e-02 -3.60860e-02\n",
      "  9.94914e-02  4.56682e-02 -6.07550e-02 -7.44147e-03  3.54234e-03\n",
      " -3.40473e-02 -4.54643e-02 -2.99697e-02 -5.09690e-02 -2.03876e-02\n",
      "  5.34155e-02  6.52403e-03  7.21720e-02 -4.09790e-02 -3.66976e-02\n",
      " -4.13868e-02  4.52604e-02 -1.39655e-02 -9.17441e-02  5.66775e-02\n",
      " -1.47810e-02  3.22124e-02 -4.01635e-02 -1.51887e-02 -4.40372e-02\n",
      " -3.40473e-02 -1.19777e-02 -9.68410e-03  1.85935e-01  4.97457e-02\n",
      " -1.12539e-01 -5.46387e-02 -3.73093e-02 -2.83387e-02 -1.92408e-03\n",
      "  1.63101e-02 -1.65139e-02  9.02151e-03  4.74011e-03  3.54744e-02\n",
      " -1.23141e-01  1.54946e-02  4.46488e-02  9.88798e-03 -1.47810e-02]\n",
      "[-8.07345e-02  5.05500e-02  6.94608e-02  4.23674e-02  4.84134e-03\n",
      " -3.20029e-02 -8.47349e-02 -2.38203e-02  5.05500e-02  5.12773e-02\n",
      " -1.95472e-02 -4.98227e-02 -7.96435e-02  3.14574e-02 -3.80034e-02\n",
      " -4.31857e-03 -2.58205e-02  4.58223e-02 -7.45521e-02 -2.61842e-02\n",
      " -8.54622e-02 -2.10928e-02  6.00054e-02  2.62808e-04 -5.27320e-02\n",
      "  5.81870e-02 -8.47349e-02  1.66379e-02  6.72788e-02  1.26557e-01\n",
      " -3.20029e-02  1.36376e-03 -6.18237e-02  2.32748e-02 -9.38266e-02\n",
      "  5.05500e-02 -5.41867e-02  7.74615e-02 -3.58214e-02 -4.31857e-04\n",
      "  1.00009e-02 -8.40985e-03  4.98227e-02  1.57287e-02  8.22801e-03\n",
      "  2.92754e-02  1.64560e-02 -1.15647e-01 -9.52813e-02 -2.34567e-02\n",
      " -1.33830e-01  6.50968e-02 -9.89180e-02  1.09101e-01 -4.56859e-03\n",
      "  6.80061e-02 -4.20038e-02 -1.05464e-01 -9.40994e-03 -5.60050e-02\n",
      " -7.16428e-02 -6.13691e-03 -7.23701e-02  2.06382e-02 -3.25029e-03\n",
      " -1.00373e-01 -3.21847e-02  4.50950e-02 -6.76424e-02 -1.55468e-02\n",
      " -1.63651e-02 -6.72788e-02 -1.64560e-02  2.56387e-02 -2.47295e-02\n",
      " -2.08201e-02  3.34575e-02  2.50932e-02 -1.91835e-02  1.74561e-02\n",
      " -1.17829e-01  2.30021e-02 -6.32784e-02 -1.61833e-02  1.04009e-01\n",
      "  2.74570e-02  2.15474e-02  1.38194e-01  4.90953e-02  4.90953e-03\n",
      " -7.72797e-03  9.74633e-02 -3.52759e-02 -4.94590e-02  4.72770e-02\n",
      "  2.89117e-02 -3.85489e-02  5.06864e-03  9.89180e-02 -5.81870e-03\n",
      " -1.38194e-01 -2.56387e-02 -6.04600e-03 -7.85525e-02  2.14792e-03\n",
      "  3.74579e-02 -2.60023e-02  2.80025e-02 -2.92754e-02 -6.50968e-02\n",
      " -1.07646e-01 -9.05536e-02 -3.94581e-02 -2.09110e-02  2.06382e-02\n",
      "  5.52777e-02  9.60086e-02 -5.23683e-02  1.39103e-02 -3.06846e-03\n",
      "  4.12764e-02  4.05491e-02 -7.63705e-03 -5.74597e-02  7.30975e-02\n",
      " -7.92798e-02 -1.61833e-02 -6.47331e-02  2.58205e-02  4.38221e-02\n",
      "  3.12755e-02 -2.78207e-02 -3.69124e-02  2.89117e-02 -6.07327e-02\n",
      "  5.59141e-03 -3.21847e-02 -4.87316e-02  1.54196e-01  1.73652e-02\n",
      "  9.05536e-02 -7.60068e-02 -1.20920e-02 -4.09128e-02  3.58214e-02\n",
      " -2.40022e-02 -3.47304e-02  8.29165e-02 -9.45539e-02  8.61896e-02\n",
      " -5.77325e-03 -6.83698e-02 -1.76862e-04 -7.05518e-02 -3.76397e-02\n",
      " -3.94581e-02  1.09101e-03  4.36403e-02  1.45468e-02 -3.78216e-02\n",
      " -1.81835e-02  1.49104e-01  4.09128e-03 -3.36394e-02 -4.90953e-02\n",
      " -3.45486e-02 -7.50067e-03 -3.15937e-03 -4.43676e-02  4.14583e-02\n",
      " -3.00027e-02 -3.96399e-02 -1.79107e-02  4.20492e-04 -3.06846e-03\n",
      "  7.63705e-02  1.77470e-01 -8.50985e-02 -2.11837e-02  1.50923e-02\n",
      "  6.21874e-02  3.40031e-02  2.07291e-02 -4.63678e-02  1.77289e-02\n",
      "  5.56414e-02  3.01845e-02 -1.51832e-02 -1.66379e-02  1.92745e-02\n",
      "  9.45539e-02 -4.47313e-02 -9.38266e-02  2.98209e-02 -1.27284e-02\n",
      "  3.70942e-02 -6.65514e-02 -6.07327e-02  3.21847e-02 -3.14574e-02\n",
      " -8.07345e-02  7.20065e-02 -1.73106e-01 -5.78234e-02 -3.41849e-02\n",
      " -7.34611e-02 -6.32784e-02  7.67342e-02  1.50923e-02  9.74633e-02\n",
      "  7.20065e-02  2.49113e-02 -5.96417e-02 -7.67342e-02 -4.00036e-02\n",
      "  8.14619e-02 -1.20920e-02  3.50941e-02 -4.20038e-02 -6.03691e-02\n",
      " -3.77307e-03  5.67324e-02  9.81906e-02 -2.98209e-02  4.29584e-03\n",
      " -1.76379e-02  3.96399e-02  5.45503e-02 -3.63669e-02 -6.25511e-02\n",
      " -2.52750e-02 -4.68224e-03 -5.63687e-02  1.58196e-02  6.61878e-02\n",
      "  4.56405e-02  8.23938e-04  6.10964e-02  9.74633e-02  5.52777e-02\n",
      "  4.45495e-02  7.49158e-02  1.39649e-01 -2.46613e-03 -2.54568e-02\n",
      " -4.54586e-03 -6.69151e-02  9.74633e-02  8.90989e-02 -3.16392e-02\n",
      "  7.12791e-02 -1.80925e-02  2.47295e-02  4.87316e-02  1.36376e-02\n",
      " -9.38266e-02  3.31848e-03 -1.94563e-02  3.38212e-02 -4.98227e-02\n",
      " -8.92126e-04 -5.00045e-03 -2.25475e-02  4.14583e-02 -6.43694e-02\n",
      "  2.95481e-03  4.47313e-02 -6.47331e-02  3.01845e-02 -1.15647e-01\n",
      " -7.89162e-02 -1.01373e-02  6.50968e-02  3.63669e-03  1.76379e-02\n",
      " -7.01881e-02 -1.09828e-01 -1.69106e-02 -3.34575e-02  1.04100e-02\n",
      "  7.90980e-03  7.78252e-02 -9.54631e-03 -7.10291e-04  2.32748e-02\n",
      "  3.87307e-02  2.50932e-02 -4.10946e-02  2.74570e-02 -5.96417e-02\n",
      "  1.15647e-01  2.78207e-02 -3.87307e-02  3.69124e-02 -7.89162e-02\n",
      " -1.17829e-01 -7.05518e-02 -1.94563e-02 -1.17101e-01  3.90944e-02]\n",
      "[-1.16364e-01  6.82711e-02 -1.02239e-01  5.11193e-02 -7.49973e-02\n",
      " -1.26957e-02 -2.00736e-03 -4.17026e-02  4.91014e-02 -1.74041e-02\n",
      " -2.03468e-02 -2.55596e-02 -8.67682e-02 -2.35418e-02 -4.22070e-02\n",
      "  5.61639e-02  9.45875e-04  1.24435e-01 -1.95481e-03 -4.33841e-02\n",
      " -1.00221e-01 -3.88439e-02  8.87861e-02 -2.47189e-02  8.15554e-03\n",
      " -2.58959e-02 -1.26453e-01  9.58486e-03 -8.40777e-02 -2.85864e-03\n",
      "  4.23752e-02  4.15344e-02  3.21597e-03  3.04782e-03 -3.46400e-02\n",
      "  6.82711e-02 -1.69501e-01  5.07830e-02  5.24645e-02  4.30478e-02\n",
      " -2.85864e-02 -5.24645e-02  6.05360e-02 -1.90856e-02  1.51340e-03\n",
      " -1.16027e-02  2.43825e-02 -1.84971e-02 -4.28796e-02  8.07146e-02\n",
      " -4.84288e-02  8.13873e-02 -5.28008e-02  2.11203e-01  1.01566e-01\n",
      " -3.27903e-02  2.23647e-02 -5.41461e-02 -5.58276e-02 -4.30478e-02\n",
      " -5.34734e-02  1.90016e-02 -1.55544e-02 -3.24540e-02 -1.65003e-03\n",
      " -9.48397e-02 -7.93694e-02  5.08670e-03  5.80136e-03  3.81713e-02\n",
      "  1.74882e-02 -2.47189e-02 -9.20651e-03 -2.97635e-02 -6.42354e-02\n",
      " -1.74041e-02  8.87861e-02  4.28796e-02 -1.00893e-02 -3.88439e-02\n",
      " -9.75302e-02  6.72622e-03 -1.10983e-01  3.34629e-02  4.43930e-02\n",
      "  3.14451e-02  3.56490e-02  8.81135e-02 -6.28901e-02 -4.94377e-02\n",
      " -3.41356e-02  7.93694e-02 -1.42091e-02 -1.50667e-01  2.07672e-02\n",
      "  2.38781e-02 -1.08292e-01  2.12717e-02  1.33852e-01  3.98528e-02\n",
      " -7.53337e-02 -5.51550e-02 -6.12086e-02  1.19390e-02 -2.10194e-02\n",
      "  7.73515e-02 -6.85234e-03  1.60588e-02 -5.95270e-02  2.04309e-02\n",
      " -7.97057e-02 -1.00221e-01 -9.16447e-03  2.14398e-02  8.13873e-02\n",
      "  9.01313e-02  1.42932e-02 -4.94377e-02 -3.90121e-02  5.34734e-02\n",
      "  6.22175e-03  8.37414e-02  1.79086e-02  5.24645e-02  2.57278e-02\n",
      " -1.04929e-01 -5.61639e-02 -9.88754e-02 -6.35628e-02 -3.93484e-02\n",
      " -7.36521e-02 -2.77457e-03  5.23384e-03 -5.31371e-02 -8.81135e-02\n",
      "  4.38781e-04 -2.55596e-02  4.50657e-02  1.20399e-01  7.06253e-02\n",
      "  5.91907e-02 -5.31371e-02  9.55123e-02  3.09406e-02 -2.58959e-02\n",
      "  1.40410e-02 -5.84340e-03  3.51445e-02 -1.19390e-02 -2.64004e-02\n",
      "  3.23699e-03 -1.80263e-01 -2.79138e-02 -6.89437e-02 -9.45875e-03\n",
      " -6.68418e-03  3.42617e-03  1.13673e-01 -6.49080e-02 -1.40410e-02\n",
      "  2.05150e-02  6.01997e-02 -2.53915e-02  6.34787e-03  9.79506e-03\n",
      " -2.25328e-02  7.33158e-02  8.27325e-02 -1.32002e-02  8.67682e-02\n",
      " -7.56700e-02  5.07830e-02 -2.65686e-02 -1.03836e-02  3.09406e-02\n",
      " -6.81030e-03  6.25538e-02 -5.61639e-02 -7.23069e-02 -6.59169e-02\n",
      " -2.47189e-02  5.44824e-02  2.74093e-02  2.60641e-02  6.18812e-02\n",
      "  7.48292e-03 -2.21965e-02  6.82711e-02 -5.48187e-02  8.07146e-02\n",
      "  8.94587e-02  1.09301e-02 -9.08040e-02  2.34367e-03  6.01997e-02\n",
      " -7.90331e-02 -5.88544e-03 -1.29480e-02  2.37099e-02  1.32843e-02\n",
      " -3.22859e-02 -1.54703e-02 -1.15691e-01 -4.94377e-02  7.60063e-02\n",
      " -1.83289e-02 -5.84340e-03  2.33736e-02  3.94114e-04  3.85076e-02\n",
      "  4.27115e-02  9.21492e-02 -5.24645e-02 -5.31371e-02 -8.74408e-02\n",
      " -4.40567e-02  6.99527e-02 -6.89437e-02 -5.14556e-02  3.93484e-02\n",
      " -6.86074e-02  8.81135e-02 -8.91224e-03  3.44719e-02  1.99264e-02\n",
      " -5.44824e-02  8.81135e-02  1.04256e-01 -5.65002e-02 -4.40567e-02\n",
      "  1.64792e-02 -6.62533e-02 -7.76878e-02  4.91855e-03  2.02627e-02\n",
      " -1.59616e-04 -4.87651e-02  3.26222e-02  2.28691e-02  6.01997e-02\n",
      "  6.01997e-02 -2.43825e-02  1.42596e-01 -1.88334e-02  3.41356e-02\n",
      "  9.68576e-02 -5.31371e-02  3.84656e-03  4.23752e-02 -6.62533e-02\n",
      "  1.35197e-01 -3.88439e-02  5.14556e-02  1.25066e-03  6.81030e-03\n",
      " -6.45717e-02  2.18602e-02  6.38991e-02 -3.56490e-02  2.28691e-02\n",
      "  6.12086e-02 -1.05097e-03  2.15239e-02 -1.68996e-02  8.99632e-03\n",
      " -3.93484e-02 -1.79926e-02 -1.60799e-03 -2.73253e-03 -5.65002e-02\n",
      "  1.24435e-02  1.37887e-02  1.15691e-01  7.44088e-03  8.00420e-02\n",
      "  4.56122e-03 -2.07672e-02 -3.85076e-02 -3.27903e-02 -8.11350e-03\n",
      " -9.41671e-02  9.41671e-02  1.24435e-02  5.11193e-02 -8.46032e-04\n",
      "  3.02680e-02 -6.08723e-02 -9.28218e-02 -1.91697e-02  1.01734e-02\n",
      " -3.68260e-02  8.95428e-03  2.57488e-03  4.91014e-02  7.56700e-03\n",
      " -7.60063e-02 -1.75722e-02 -5.48187e-02  1.17709e-02  3.16132e-02]\n",
      "[-2.25857e-02  4.99429e-02 -8.11175e-03  5.63051e-02  2.71982e-02\n",
      "  4.26265e-02 -5.02611e-02  4.16721e-02 -2.52896e-02 -3.24072e-03\n",
      "  1.60645e-02 -4.23084e-02 -5.02611e-02 -1.29629e-02 -5.43965e-02\n",
      "  4.54894e-02  1.17700e-01  9.62276e-03  4.10359e-02  9.16151e-02\n",
      " -8.33443e-02 -5.59870e-02  2.21085e-02  5.66232e-02 -7.22105e-02\n",
      "  6.36837e-05 -7.87317e-03 -1.12928e-02  8.46962e-03 -1.07520e-01\n",
      " -6.42578e-02 -3.14132e-03 -6.87113e-02  2.70392e-02  7.71412e-03\n",
      " -2.35400e-02 -1.04976e-01 -5.72594e-02 -7.57992e-05  3.51509e-02\n",
      " -3.10155e-02  2.22676e-02 -6.48940e-02 -2.80333e-03  3.86501e-02\n",
      " -5.56689e-02 -6.96656e-02 -6.64846e-02 -1.08157e-01  1.48715e-02\n",
      " -4.23084e-02  8.90702e-02 -1.47125e-02  6.32240e-03  5.72594e-02\n",
      "  1.87047e-01 -1.32969e-01 -1.00522e-01  7.50735e-02 -1.13883e-01\n",
      "  8.66844e-03 -1.23426e-01 -1.01795e-01  1.21676e-02 -9.86135e-02\n",
      " -1.48715e-02 -1.11338e-01  5.94862e-02 -4.29446e-02  3.86501e-02\n",
      "  9.70229e-03  1.51101e-02  7.53916e-02  8.14356e-02  5.75775e-02\n",
      " -4.26265e-02  6.33035e-02  3.70596e-02  1.95835e-03 -4.96248e-02\n",
      " -4.03997e-02 -3.05384e-02  6.08381e-03 -2.48124e-02  3.92863e-02\n",
      "  2.01203e-02  5.21697e-02  2.83116e-02  2.32219e-02  5.34421e-02\n",
      "  4.07178e-02 -7.25286e-02 -6.39397e-02 -6.77570e-02 -1.53089e-03\n",
      "  4.64438e-02 -1.82912e-03  9.79772e-02  1.03067e-01 -8.46962e-03\n",
      "  1.78140e-02 -2.03788e-03 -8.39805e-02  5.15335e-02  1.15314e-03\n",
      "  8.14356e-02 -5.56689e-02 -8.03223e-03  1.12610e-01 -1.12133e-02\n",
      "  2.48124e-02 -1.27879e-01 -3.37194e-02  5.02611e-02 -3.83320e-02\n",
      "  8.39805e-02 -3.43557e-02 -4.29446e-03 -3.34013e-03  6.36216e-02\n",
      "  2.32219e-02  3.56281e-02 -2.32219e-02  4.67619e-02  2.99021e-02\n",
      " -1.13883e-01 -8.58891e-02 -2.86297e-02 -4.45351e-02  1.23426e-01\n",
      "  1.59054e-02 -2.52896e-02 -6.68027e-02 -4.64438e-02 -5.28059e-02\n",
      "  8.97064e-02  2.54486e-02  1.40763e-02  5.98043e-02  1.77345e-02\n",
      "  6.87113e-02 -1.97227e-02 -2.14723e-03 -1.94046e-02 -9.22513e-03\n",
      " -9.03426e-02 -5.24878e-02  5.37602e-02 -1.73369e-02 -3.40375e-02\n",
      "  4.80343e-02 -7.22105e-02 -1.91660e-02  2.22676e-02  5.04996e-03\n",
      " -8.01632e-02  1.12610e-01  5.60665e-03 -5.82138e-02 -1.46131e-03\n",
      " -2.29038e-02 -1.46330e-02 -4.45351e-02 -3.14132e-03 -5.80547e-03\n",
      "  3.83320e-02  7.12562e-02 -6.64846e-02 -4.67619e-02 -4.41375e-03\n",
      " -3.29242e-02 -1.12610e-01 -7.50735e-02 -4.17517e-03  1.04180e-02\n",
      "  9.35237e-02  1.43149e-01 -1.45693e-01 -1.51897e-02 -5.34421e-02\n",
      " -4.10359e-02 -6.87113e-02 -4.67619e-02 -8.77978e-02 -1.92455e-02\n",
      " -2.86297e-02 -1.08157e-01  7.98451e-02 -8.27081e-02  7.79364e-03\n",
      "  8.33443e-02 -2.89478e-02 -1.19609e-01  1.55078e-02  7.98451e-02\n",
      "  4.61257e-02  7.85329e-04 -3.00612e-02  1.37582e-02 -1.47125e-03\n",
      " -1.12928e-02 -2.11542e-02 -7.19719e-03 -4.51713e-02  7.03019e-02\n",
      " -9.41599e-02  4.10359e-02  3.76958e-02 -4.23084e-02  4.96248e-02\n",
      "  1.20245e-01  2.35400e-02 -3.51509e-02 -2.40171e-02 -6.83932e-03\n",
      "  7.82546e-02  1.30424e-01  5.60665e-03 -8.33443e-02 -2.44943e-02\n",
      " -2.99021e-02  4.51316e-03 -6.07586e-02 -4.70800e-02 -6.26673e-02\n",
      " -1.11338e-01  2.70392e-02 -8.71616e-02  8.46167e-02 -1.17064e-01\n",
      " -6.68027e-02 -4.73981e-02  4.27458e-03  2.95840e-02 -8.62868e-03\n",
      " -8.31057e-03  1.10543e-02  1.11338e-01 -1.47920e-02  4.54894e-02\n",
      "  6.74389e-02 -3.92863e-02  1.04976e-01 -1.55873e-02 -1.95636e-02\n",
      " -1.18336e-01 -4.99032e-03 -9.66253e-03  6.99837e-02  4.97044e-03\n",
      " -4.99429e-02 -2.62439e-02 -1.86093e-02  7.22105e-02 -4.96248e-02\n",
      " -8.20718e-02 -8.97064e-02  6.29854e-02 -2.78344e-02 -7.69821e-02\n",
      "  2.68801e-02  2.02794e-02  7.79364e-02 -2.87888e-02 -3.79741e-03\n",
      " -3.86501e-02 -4.73981e-02 -1.19290e-02 -9.46371e-03  4.73981e-02\n",
      "  4.67619e-02 -3.54690e-02 -8.90702e-02 -2.80333e-03  1.86093e-02\n",
      " -7.03814e-03  1.42353e-02 -2.14723e-02  2.22676e-02 -1.55078e-02\n",
      " -5.28059e-02 -3.26061e-02 -2.14723e-02 -1.46330e-02  1.01795e-02\n",
      " -4.23481e-03 -7.09381e-02  9.82158e-03 -5.12154e-02  3.96044e-02\n",
      "  3.54690e-02 -1.01795e-01 -4.35808e-02 -1.46330e-02  3.34013e-02\n",
      "  2.36990e-02  3.46738e-02  1.97227e-02 -6.26673e-02  8.84340e-02]\n",
      "[-0.1299      0.0818203  -0.0150777   0.0539845  -0.0245672   0.0615761\n",
      " -0.0539845  -0.0813985  -0.0339512   0.022353   -0.0695894  -0.0430189\n",
      " -0.0906771   0.0415428  -0.0691676   0.0666371   0.0272031   0.0885683\n",
      " -0.0322642   0.0425971  -0.138335    0.0278358   0.00208241 -0.0031368\n",
      " -0.00695894  0.0316315  -0.0784462   0.0231965   0.0164484  -0.0130217\n",
      "  0.0118618  -0.0516649  -0.0529301  -0.0932076  -0.0122309   0.0455494\n",
      " -0.0603108   0.00785517 -0.0636848  -0.0476582   0.00345311 -0.0518757\n",
      "  0.0388014   0.0326859   0.00466565  0.0628413  -0.0175028  -0.0683241\n",
      " -0.00790789  0.107969   -0.0780245   0.172919   -0.0335294   0.0186626\n",
      "  0.0413319   0.0385905  -0.0923641  -0.0721199   0.00769701 -0.0586238\n",
      " -0.0818203   0.0552498  -0.0556715  -0.0746504  -0.0476582  -0.0468147\n",
      "  0.0231965   0.0489235  -0.0856161   0.019717    0.044495   -0.075494\n",
      " -0.0305772  -0.0286793  -0.0217203   0.029101    0.0725417  -0.0295228\n",
      "  0.0776027  -0.029101   -0.0666371   0.0278358  -0.0653719  -0.0636848\n",
      "  0.1299      0.0266759  -0.0489235   0.0423863   0.0864596   0.0364817\n",
      " -0.0276249  -0.0185572  -0.0229856  -0.0299445   0.039434    0.0927859\n",
      " -0.0603108   0.0402775   0.129057   -0.054828   -0.0733852   0.0645284\n",
      "  0.00495561  0.0250944  -0.0150777   0.0189789  -0.0436515   0.0544063\n",
      "  0.0510322   0.0961599  -0.083929   -0.0499778   0.0154995  -0.0146559\n",
      " -0.0131798   0.0818203   0.0695894  -0.0535627  -0.00838236 -0.120622\n",
      "  0.104595    0.0556715  -0.0691676   0.00885683  0.156892   -0.0295228\n",
      " -0.0729634  -0.0149723   0.112187    0.0125472   0.0666371   0.0263596\n",
      " -0.0345838   0.0166593  -0.0936294   0.0552498   0.0305772   0.00342675\n",
      "  0.116404    0.0645284   0.156049   -0.0590455  -0.0235128  -0.0598891\n",
      " -0.0767592  -0.0468147   0.083929    0.0843508  -0.00553552  0.0210877\n",
      " -0.0489235  -0.0674806  -0.058202   -0.0400666  -0.0603108  -0.167858\n",
      " -0.0415428   0.0708547  -0.00701166  0.0147614   0.00806604  0.0499778\n",
      "  0.011651   -0.0573585   0.0255161   0.0185572   0.0619978   0.0419645\n",
      " -0.0369035   0.0221421  -0.00297864  0.0301554  -0.0632631  -0.0202442\n",
      "  0.00843508  0.0628413   0.0590455  -0.0965817   0.0152886  -0.011651\n",
      "  0.0508213   0.0598891   0.016343   -0.0478691  -0.00901499  0.0666371\n",
      "  0.0154995   0.0171865   0.0114928   0.0569368   0.024778   -0.0666371\n",
      " -0.102908   -0.0670589   0.0508213   0.0143396  -0.0468147   0.0577803\n",
      " -0.0262542  -0.0472364  -0.080555    0.00661627 -0.102064   -0.0398557\n",
      " -0.0128635  -0.0375361  -0.0141288   0.0961599  -0.0256216   0.105017\n",
      "  0.0381687   0.0392231  -0.0700112   0.00732797  0.0102275   0.0843508\n",
      "  0.0331077  -0.0002916  -0.0843508  -0.0227747  -0.0284684  -0.037747\n",
      "  0.0932076   0.00405938 -0.0242509   0.0253052   0.0417536  -0.00390122\n",
      "  0.0045075  -0.0544063   0.030788    0.0297337  -0.00875139 -0.0499778\n",
      " -0.0165538   0.0267814   0.054828    0.00079738  0.0573585   0.0233019\n",
      " -0.0759157   0.0261487   0.109656   -0.00674806  0.0404884   0.083929\n",
      " -0.054828    0.121465   -0.0127581  -0.0733852   0.0157103  -0.00201651\n",
      "  0.0470256   0.00161453 -0.0356382  -0.0210877  -0.0826638  -0.029101\n",
      "  0.0982687  -0.106282   -0.0362708  -0.00049424  0.0440733   0.0459712\n",
      " -0.0573585  -0.0518757   0.0415428  -0.0269923   0.0147614   0.0219312\n",
      " -0.0906771  -0.00527192 -0.0126526   0.00579912  0.0244617  -0.0255161\n",
      " -0.107969   -0.0436515  -0.0716982   0.00806604 -0.0902553   0.0670589\n",
      "  0.00577276  0.0159212   0.0115982   0.0687459   0.0210877  -0.0451277\n",
      " -0.0124945  -0.0792897   0.0129162   0.0136016  -0.0729634   0.0432298\n",
      " -0.0200333  -0.0944729  -0.0331077  -0.0432298  -0.0520866   0.124839  ]\n"
     ]
    }
   ],
   "source": [
    "try: \n",
    "    for w in idee_de_en:\n",
    "        print(model[w])\n",
    "except KeyError:\n",
    "    next"
   ]
  },
  {
   "cell_type": "code",
   "execution_count": 99,
   "id": "defd103d-f410-4fbf-8bbd-21a6a2f2a3cf",
   "metadata": {
    "tags": []
   },
   "outputs": [
    {
     "data": {
      "text/plain": [
       "[('teaching', 0.6601866483688354),\n",
       " ('learn', 0.6365275382995605),\n",
       " ('teach', 0.5704741477966309),\n",
       " ('learners', 0.5508513450622559),\n",
       " ('Teaching', 0.5244370698928833)]"
      ]
     },
     "execution_count": 99,
     "metadata": {},
     "output_type": "execute_result"
    }
   ],
   "source": [
    "model.most_similar(positive=['learning'], topn = 5)"
   ]
  },
  {
   "cell_type": "code",
   "execution_count": 105,
   "id": "e6ee8e6c-6c0c-4dfa-9a1b-90632cb496d0",
   "metadata": {
    "tags": []
   },
   "outputs": [
    {
     "data": {
      "image/png": "[encoded data removed]",
      "text/plain": [
       "<Figure size 640x480 with 1 Axes>"
      ]
     },
     "metadata": {},
     "output_type": "display_data"
    }
   ],
   "source": [
    "labels = []\n",
    "count = 0\n",
    "max_count = 50\n",
    "X = np.zeros(shape=(max_count,len(model['learning'])))\n",
    "\n",
    "for term in model.key_to_index:\n",
    "    X[count] = model[term]\n",
    "    labels.append(term)\n",
    "    count+= 1\n",
    "    if count >= max_count: break\n",
    "\n",
    "# It is recommended to use PCA first to reduce to ~50 dimensions\n",
    "from sklearn.decomposition import PCA\n",
    "pca = PCA(n_components=20)\n",
    "X_50 = pca.fit_transform(X)\n",
    "\n",
    "# Using TSNE to further reduce to 2 dimensions\n",
    "from sklearn.manifold import TSNE\n",
    "model_tsne = TSNE(n_components=2, random_state=0)\n",
    "Y = model_tsne.fit_transform(X_50)\n",
    "\n",
    "# Show the scatter plot\n",
    "import matplotlib.pyplot as plt\n",
    "plt.scatter(Y[:,0], Y[:,1], 20)\n",
    "\n",
    "# Add labels\n",
    "for label, x, y in zip(labels, Y[:, 0], Y[:, 1]):\n",
    "    plt.annotate(label, xy = (x,y), xytext = (0, 0), textcoords = 'offset points', size = 10)\n",
    "\n",
    "plt.show()"
   ]
  },
  {
   "cell_type": "markdown",
   "id": "6f007aab-9f83-46da-81a6-feebbeced970",
   "metadata": {},
   "source": [
    "### POS tagging and Sematics"
   ]
  },
  {
   "cell_type": "code",
   "execution_count": 119,
   "id": "268a4613-b2a9-4f37-8b71-2944435c1637",
   "metadata": {
    "tags": []
   },
   "outputs": [
    {
     "name": "stdout",
     "output_type": "stream",
     "text": [
      "therefore \t Verb\n",
      "personally \t Adverb\n",
      "welcome \t Adjective\n",
      "new \t Adjective\n",
      "semester \t Noun\n",
      "thank \t Noun\n",
      "replies \t Noun\n",
      "find \t Verb\n",
      "interesting \t Adjective\n",
      "planned \t Verb\n",
      "bridging \t Noun\n",
      "learning \t Verb\n",
      "analytics \t Noun\n",
      "gamification \t Noun\n",
      "also \t Adverb\n",
      "shows \t Verb\n",
      "creativity \t Noun\n",
      "however \t Adverb\n",
      "would \t Other\n",
      "recommend \t Verb\n",
      "deal \t Verb\n",
      "one \t Other\n",
      "two \t Other\n",
      "focal \t Adjective\n",
      "points \t Noun\n",
      "example \t Noun\n",
      "promotion \t Noun\n",
      "learning \t Verb\n",
      "motivation \t Noun\n",
      "since \t Other\n",
      "linking \t Noun\n",
      "aspects \t Noun\n",
      "yet \t Adverb\n",
      "sufficiently \t Adverb\n",
      "researched \t Verb\n",
      "module \t Noun\n",
      "homework \t Noun\n",
      "would \t Other\n",
      "probably \t Adverb\n",
      "quickly \t Adverb\n",
      "maneuver \t Verb\n",
      "dead \t Adjective\n",
      "ends \t Noun\n",
      "think \t Verb\n"
     ]
    }
   ],
   "source": [
    "pos = pos_tag(word_tokenize(antwort_de_en))\n",
    "\n",
    "words = []\n",
    "types = []\n",
    "\n",
    "for p in pos:\n",
    "    word = p[0].lower()\n",
    "    tag = p[1]\n",
    "\n",
    "    if word.isalpha() and word not in stopwords:\n",
    "        words.append(word)\n",
    "        if   (tag[0]==\"J\"): types.append(\"Adjective\")\n",
    "        elif (tag[0]==\"N\"): types.append(\"Noun\")\n",
    "        elif (tag[0]==\"R\"): types.append(\"Adverb\")\n",
    "        elif (tag[0]==\"V\"): types.append(\"Verb\")\n",
    "        else: types.append(\"Other\")\n",
    "        \n",
    "for (word, type) in zip(words, types):\n",
    "    print(word, \"\\t\", type)"
   ]
  },
  {
   "cell_type": "code",
   "execution_count": 126,
   "id": "64eedd5f-af9b-4e23-8a6a-d80260d0718a",
   "metadata": {
    "tags": []
   },
   "outputs": [
    {
     "data": {
      "text/html": [
       "\n",
       "<style>\n",
       "  #altair-viz-02f685bc29264c1fa436346334502713.vega-embed {\n",
       "    width: 100%;\n",
       "    display: flex;\n",
       "  }\n",
       "\n",
       "  #altair-viz-02f685bc29264c1fa436346334502713.vega-embed details,\n",
       "  #altair-viz-02f685bc29264c1fa436346334502713.vega-embed details summary {\n",
       "    position: relative;\n",
       "  }\n",
       "</style>\n",
       "<div id=\"altair-viz-02f685bc29264c1fa436346334502713\"></div>\n",
       "<script type=\"text/javascript\">\n",
       "  var VEGA_DEBUG = (typeof VEGA_DEBUG == \"undefined\") ? {} : VEGA_DEBUG;\n",
       "  (function(spec, embedOpt){\n",
       "    let outputDiv = document.currentScript.previousElementSibling;\n",
       "    if (outputDiv.id !== \"altair-viz-02f685bc29264c1fa436346334502713\") {\n",
       "      outputDiv = document.getElementById(\"altair-viz-02f685bc29264c1fa436346334502713\");\n",
       "    }\n",
       "    const paths = {\n",
       "      \"vega\": \"https://cdn.jsdelivr.net/npm/vega@5?noext\",\n",
       "      \"vega-lib\": \"https://cdn.jsdelivr.net/npm/vega-lib?noext\",\n",
       "      \"vega-lite\": \"https://cdn.jsdelivr.net/npm/vega-lite@5.8.0?noext\",\n",
       "      \"vega-embed\": \"https://cdn.jsdelivr.net/npm/vega-embed@6?noext\",\n",
       "    };\n",
       "\n",
       "    function maybeLoadScript(lib, version) {\n",
       "      var key = `${lib.replace(\"-\", \"\")}_version`;\n",
       "      return (VEGA_DEBUG[key] == version) ?\n",
       "        Promise.resolve(paths[lib]) :\n",
       "        new Promise(function(resolve, reject) {\n",
       "          var s = document.createElement('script');\n",
       "          document.getElementsByTagName(\"head\")[0].appendChild(s);\n",
       "          s.async = true;\n",
       "          s.onload = () => {\n",
       "            VEGA_DEBUG[key] = version;\n",
       "            return resolve(paths[lib]);\n",
       "          };\n",
       "          s.onerror = () => reject(`Error loading script: ${paths[lib]}`);\n",
       "          s.src = paths[lib];\n",
       "        });\n",
       "    }\n",
       "\n",
       "    function showError(err) {\n",
       "      outputDiv.innerHTML = `<div class=\"error\" style=\"color:red;\">${err}</div>`;\n",
       "      throw err;\n",
       "    }\n",
       "\n",
       "    function displayChart(vegaEmbed) {\n",
       "      vegaEmbed(outputDiv, spec, embedOpt)\n",
       "        .catch(err => showError(`Javascript Error: ${err.message}<br>This usually means there's a typo in your chart specification. See the javascript console for the full traceback.`));\n",
       "    }\n",
       "\n",
       "    if(typeof define === \"function\" && define.amd) {\n",
       "      requirejs.config({paths});\n",
       "      require([\"vega-embed\"], displayChart, err => showError(`Error loading script: ${err.message}`));\n",
       "    } else {\n",
       "      maybeLoadScript(\"vega\", \"5\")\n",
       "        .then(() => maybeLoadScript(\"vega-lite\", \"5.8.0\"))\n",
       "        .then(() => maybeLoadScript(\"vega-embed\", \"6\"))\n",
       "        .catch(showError)\n",
       "        .then(() => displayChart(vegaEmbed));\n",
       "    }\n",
       "  })({\"config\": {\"view\": {\"continuousWidth\": 300, \"continuousHeight\": 300}}, \"hconcat\": [{\"mark\": {\"type\": \"bar\"}, \"encoding\": {\"opacity\": {\"condition\": {\"param\": \"param_5\", \"value\": 1}, \"value\": 0.25}, \"x\": {\"field\": \"type\", \"type\": \"nominal\"}, \"y\": {\"aggregate\": \"count\", \"type\": \"quantitative\"}}, \"name\": \"view_5\"}, {\"mark\": {\"type\": \"bar\", \"width\": 5}, \"encoding\": {\"x\": {\"field\": \"word\", \"type\": \"nominal\"}, \"y\": {\"aggregate\": \"count\", \"type\": \"quantitative\"}}, \"transform\": [{\"filter\": {\"param\": \"param_5\"}}]}], \"data\": {\"name\": \"data-96c3dfddc60d99a58506131741da94c2\"}, \"params\": [{\"name\": \"param_5\", \"select\": {\"type\": \"point\", \"fields\": [\"type\"]}, \"views\": [\"view_5\"]}], \"$schema\": \"https://vega.github.io/schema/vega-lite/v5.8.0.json\", \"datasets\": {\"data-96c3dfddc60d99a58506131741da94c2\": [{\"word\": \"therefore\", \"type\": \"Verb\"}, {\"word\": \"personally\", \"type\": \"Adverb\"}, {\"word\": \"welcome\", \"type\": \"Adjective\"}, {\"word\": \"new\", \"type\": \"Adjective\"}, {\"word\": \"semester\", \"type\": \"Noun\"}, {\"word\": \"thank\", \"type\": \"Noun\"}, {\"word\": \"replies\", \"type\": \"Noun\"}, {\"word\": \"find\", \"type\": \"Verb\"}, {\"word\": \"interesting\", \"type\": \"Adjective\"}, {\"word\": \"planned\", \"type\": \"Verb\"}, {\"word\": \"bridging\", \"type\": \"Noun\"}, {\"word\": \"learning\", \"type\": \"Verb\"}, {\"word\": \"analytics\", \"type\": \"Noun\"}, {\"word\": \"gamification\", \"type\": \"Noun\"}, {\"word\": \"also\", \"type\": \"Adverb\"}, {\"word\": \"shows\", \"type\": \"Verb\"}, {\"word\": \"creativity\", \"type\": \"Noun\"}, {\"word\": \"however\", \"type\": \"Adverb\"}, {\"word\": \"would\", \"type\": \"Other\"}, {\"word\": \"recommend\", \"type\": \"Verb\"}, {\"word\": \"deal\", \"type\": \"Verb\"}, {\"word\": \"one\", \"type\": \"Other\"}, {\"word\": \"two\", \"type\": \"Other\"}, {\"word\": \"focal\", \"type\": \"Adjective\"}, {\"word\": \"points\", \"type\": \"Noun\"}, {\"word\": \"example\", \"type\": \"Noun\"}, {\"word\": \"promotion\", \"type\": \"Noun\"}, {\"word\": \"learning\", \"type\": \"Verb\"}, {\"word\": \"motivation\", \"type\": \"Noun\"}, {\"word\": \"since\", \"type\": \"Other\"}, {\"word\": \"linking\", \"type\": \"Noun\"}, {\"word\": \"aspects\", \"type\": \"Noun\"}, {\"word\": \"yet\", \"type\": \"Adverb\"}, {\"word\": \"sufficiently\", \"type\": \"Adverb\"}, {\"word\": \"researched\", \"type\": \"Verb\"}, {\"word\": \"module\", \"type\": \"Noun\"}, {\"word\": \"homework\", \"type\": \"Noun\"}, {\"word\": \"would\", \"type\": \"Other\"}, {\"word\": \"probably\", \"type\": \"Adverb\"}, {\"word\": \"quickly\", \"type\": \"Adverb\"}, {\"word\": \"maneuver\", \"type\": \"Verb\"}, {\"word\": \"dead\", \"type\": \"Adjective\"}, {\"word\": \"ends\", \"type\": \"Noun\"}, {\"word\": \"think\", \"type\": \"Verb\"}]}}, {\"mode\": \"vega-lite\"});\n",
       "</script>"
      ],
      "text/plain": [
       "alt.HConcatChart(...)"
      ]
     },
     "execution_count": 126,
     "metadata": {},
     "output_type": "execute_result"
    }
   ],
   "source": [
    "df = pd.DataFrame({\"word\": words, \"type\": types })\n",
    "selection = alt.selection_point(fields=['type']) #type=\"multi\"\n",
    "\n",
    "base = alt.Chart(df)\n",
    "\n",
    "chart1 = base.mark_bar().encode(\n",
    "  x = alt.Y('type:N'),\n",
    "  y = alt.X('count()'),\n",
    "  opacity=alt.condition(selection, alt.value(1), alt.value(.25)),\n",
    ").add_params(selection)\n",
    "\n",
    "chart2 = base.mark_bar(width=5).encode(\n",
    "  x = alt.X('word:N'),\n",
    "  y = alt.Y('count()'),\n",
    ").transform_filter(selection)\n",
    "\n",
    "chart1 | chart2"
   ]
  },
  {
   "cell_type": "markdown",
   "id": "425da8e0-5adb-4d67-a510-146d770f3194",
   "metadata": {},
   "source": [
    "### Further works\n",
    "\n",
    "https://spinningbytes.com/sentiment-analysis-distinguish-positive-and-negative-documents/\n",
    "\n",
    "https://devmount.github.io/GermanWordEmbeddings/"
   ]
  },
  {
   "cell_type": "code",
   "execution_count": null,
   "id": "5c5d4e0c-2fa0-499b-adf1-a76f7d7fc72f",
   "metadata": {},
   "outputs": [],
   "source": []
  }
 ],
 "metadata": {
  "kernelspec": {
   "display_name": "Python 3 (ipykernel)",
   "language": "python",
   "name": "python3"
  },
  "language_info": {
   "codemirror_mode": {
    "name": "ipython",
    "version": 3
   },
   "file_extension": ".py",
   "mimetype": "text/x-python",
   "name": "python",
   "nbconvert_exporter": "python",
   "pygments_lexer": "ipython3",
   "version": "3.10.9"
  }
 },
 "nbformat": 4,
 "nbformat_minor": 5
}
