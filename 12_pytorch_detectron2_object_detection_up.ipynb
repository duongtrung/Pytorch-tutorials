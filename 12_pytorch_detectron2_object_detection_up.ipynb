{
 "cells": [
  {
   "cell_type": "markdown",
   "id": "84b4403c-16b9-43c3-abac-398d0f3132fc",
   "metadata": {},
   "source": [
    "<a href=\"https://colab.research.google.com/github/duongtrung/Pytorch-tutorials/blob/main/12_pytorch_detectron2_object_detection_up.ipynb\" target=\"_parent\"><img src=\"https://colab.research.google.com/assets/colab-badge.svg\" alt=\"Open In Colab\"/></a>"
   ]
  },
  {
   "cell_type": "markdown",
   "id": "5430ac07-fa42-4d9b-a2b5-ce60d9213427",
   "metadata": {},
   "source": [
    "## Brief introduction\n",
    "\n",
    "official Git: [detectron2](https://github.com/facebookresearch/detectron2)\n",
    "\n",
    "Detectron2 is Facebook AI Research's next generation library that provides state-of-the-art detection and segmentation algorithms. It is the successor of Detectron and maskrcnn-benchmark. It supports a number of computer vision research projects and production applications in Facebook."
   ]
  },
  {
   "cell_type": "code",
   "execution_count": null,
   "id": "33210d3e-c49f-49c1-b119-92c89bf70e5e",
   "metadata": {},
   "outputs": [],
   "source": []
  }
 ],
 "metadata": {
  "kernelspec": {
   "display_name": "Python 3 (ipykernel)",
   "language": "python",
   "name": "python3"
  },
  "language_info": {
   "codemirror_mode": {
    "name": "ipython",
    "version": 3
   },
   "file_extension": ".py",
   "mimetype": "text/x-python",
   "name": "python",
   "nbconvert_exporter": "python",
   "pygments_lexer": "ipython3",
   "version": "3.9.13"
  }
 },
 "nbformat": 4,
 "nbformat_minor": 5
}
