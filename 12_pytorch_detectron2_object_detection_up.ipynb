{
 "cells": [
  {
   "cell_type": "markdown",
   "id": "84b4403c-16b9-43c3-abac-398d0f3132fc",
   "metadata": {},
   "source": [
    "<a href=\"https://colab.research.google.com/github/duongtrung/Pytorch-tutorials/blob/main/12_pytorch_detectron2_object_detection_up.ipynb\" target=\"_parent\"><img src=\"https://colab.research.google.com/assets/colab-badge.svg\" alt=\"Open In Colab\"/></a>"
   ]
  },
  {
   "cell_type": "markdown",
   "id": "5430ac07-fa42-4d9b-a2b5-ce60d9213427",
   "metadata": {},
   "source": [
    "## Brief introduction\n",
    "\n",
    "official Git: [detectron2](https://github.com/facebookresearch/detectron2)\n",
    "\n",
    "Detectron2 is Facebook AI Research's next generation library that provides state-of-the-art detection and segmentation algorithms. It is the successor of Detectron and maskrcnn-benchmark. It supports a number of computer vision research projects and production applications in Facebook.\n",
    "\n",
    "<img src=\"resources/Detectron2-Logo-Horz.png\" width=\"500\">"
   ]
  },
  {
   "cell_type": "code",
   "execution_count": 3,
   "id": "33210d3e-c49f-49c1-b119-92c89bf70e5e",
   "metadata": {},
   "outputs": [],
   "source": [
    "# install detectron2\n",
    "# conda install -c conda-forge detectron2\n",
    "\n",
    "# By the time of this tutorial (09.2022) the Detectron2 does not officially support Windows OS.\n",
    "# It is a git tricky to install detectron2\n",
    "\n",
    "# For windows user, read this blog\n",
    "# https://medium.com/@yogeshkumarpilli/how-to-install-detectron2-on-windows-10-or-11-2021-aug-with-the-latest-build-v0-5-c7333909676f\n",
    "\n",
    "# Note from my installation\n",
    "# Microsoft Visual C++ 14.0 or greater is required: https://visualstudio.microsoft.com/visual-cpp-build-tools/\n",
    "# Do not install Visual Studio 2022. Try either 2017 or 2019 version. I tried Visual Studio 2019 version 16.11.19.\n",
    "# I have RTX 3080, so I install CUDA Toolkits 11.3.\n",
    "# If you get nvcc.exe' failed with exit code 1, do the following steps:\n",
    "# - Edit PATH to where nvcc.exe (CUDA 11.3) is. For example, I copy to C:\\CUDA\\v11.3\\bin\n",
    "# - Open the detectron2\\layers\\csrc\\nms_rotated\\nms_rotated_cuda.cu file, and comment the two ifdef statements. See https://github.com/facebookresearch/detectron2/issues/1601\n"
   ]
  },
  {
   "cell_type": "code",
   "execution_count": null,
   "id": "c512dc6c-43b4-4405-9d6e-9a138ba90c9f",
   "metadata": {},
   "outputs": [],
   "source": []
  }
 ],
 "metadata": {
  "kernelspec": {
   "display_name": "Python 3 (ipykernel)",
   "language": "python",
   "name": "python3"
  },
  "language_info": {
   "codemirror_mode": {
    "name": "ipython",
    "version": 3
   },
   "file_extension": ".py",
   "mimetype": "text/x-python",
   "name": "python",
   "nbconvert_exporter": "python",
   "pygments_lexer": "ipython3",
   "version": "3.9.13"
  }
 },
 "nbformat": 4,
 "nbformat_minor": 5
}
